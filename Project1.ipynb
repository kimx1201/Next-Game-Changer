{
  "nbformat": 4,
  "nbformat_minor": 0,
  "metadata": {
    "colab": {
      "name": "Project1",
      "provenance": [],
      "collapsed_sections": [],
      "toc_visible": true
    },
    "kernelspec": {
      "name": "python3",
      "display_name": "Python 3"
    }
  },
  "cells": [
    {
      "cell_type": "markdown",
      "metadata": {
        "id": "MATt3b934_-h"
      },
      "source": [
        "## Next BEST Game\r\n",
        "\r\n"
      ]
    },
    {
      "cell_type": "code",
      "metadata": {
        "colab": {
          "base_uri": "https://localhost:8080/"
        },
        "id": "f5iyoNW367GJ",
        "outputId": "69c2c375-369e-4f49-e396-afab9e004d67"
      },
      "source": [
        "from google.colab import drive\r\n",
        "drive.mount('/content/drive')\r\n"
      ],
      "execution_count": 415,
      "outputs": [
        {
          "output_type": "stream",
          "text": [
            "Drive already mounted at /content/drive; to attempt to forcibly remount, call drive.mount(\"/content/drive\", force_remount=True).\n"
          ],
          "name": "stdout"
        }
      ]
    },
    {
      "cell_type": "code",
      "metadata": {
        "id": "Dwkpw57I7Qha"
      },
      "source": [
        "import pandas as pd\r\n",
        "import numpy as np\r\n",
        "import matplotlib.pyplot as plt\r\n",
        "%matplotlib inline\r\n",
        "import seaborn as sns\r\n"
      ],
      "execution_count": 416,
      "outputs": []
    },
    {
      "cell_type": "code",
      "metadata": {
        "id": "s5_OM7zf7Tf1"
      },
      "source": [
        "df = pd.read_csv('/content/drive/MyDrive/Colab Notebooks/vgames2.csv')"
      ],
      "execution_count": 417,
      "outputs": []
    },
    {
      "cell_type": "code",
      "metadata": {
        "colab": {
          "base_uri": "https://localhost:8080/"
        },
        "id": "4MrFQKQI7Ymx",
        "outputId": "98881c11-80fe-4512-acd3-f15e6f5d862d"
      },
      "source": [
        "df.shape"
      ],
      "execution_count": 418,
      "outputs": [
        {
          "output_type": "execute_result",
          "data": {
            "text/plain": [
              "(16598, 10)"
            ]
          },
          "metadata": {
            "tags": []
          },
          "execution_count": 418
        }
      ]
    },
    {
      "cell_type": "code",
      "metadata": {
        "colab": {
          "base_uri": "https://localhost:8080/"
        },
        "id": "7CIel18r9zq0",
        "outputId": "5fed93ce-3329-409d-e378-76e31cf6949d"
      },
      "source": [
        "df.dtypes #어떤 데이터 타입이 있는지 "
      ],
      "execution_count": 419,
      "outputs": [
        {
          "output_type": "execute_result",
          "data": {
            "text/plain": [
              "Unnamed: 0       int64\n",
              "Name            object\n",
              "Platform        object\n",
              "Year           float64\n",
              "Genre           object\n",
              "Publisher       object\n",
              "NA_Sales        object\n",
              "EU_Sales        object\n",
              "JP_Sales        object\n",
              "Other_Sales     object\n",
              "dtype: object"
            ]
          },
          "metadata": {
            "tags": []
          },
          "execution_count": 419
        }
      ]
    },
    {
      "cell_type": "markdown",
      "metadata": {
        "id": "t5ntl4aq67an"
      },
      "source": [
        "## EDA"
      ]
    },
    {
      "cell_type": "markdown",
      "metadata": {
        "id": "yyFq5-0ReJPw"
      },
      "source": [
        "#### 숫자 단위 K (천), M (백만) 모두 Million 단위로 전환"
      ]
    },
    {
      "cell_type": "code",
      "metadata": {
        "id": "Iof0ADhJeFzX"
      },
      "source": [
        "df.NA_Sales= (df.NA_Sales.replace(r'[KM]+$', '', regex=True).astype(float) * \\\r\n",
        "          df.NA_Sales.str.extract(r'[\\d\\.]+([KM]+)', expand=False)\r\n",
        "                     .fillna(1)\r\n",
        "                     .replace(['K','M'], [10**6, 10**6]).astype(int))"
      ],
      "execution_count": 420,
      "outputs": []
    },
    {
      "cell_type": "code",
      "metadata": {
        "colab": {
          "base_uri": "https://localhost:8080/",
          "height": 469
        },
        "id": "Npstq_pZferL",
        "outputId": "d68586a3-df04-4edf-bf06-5ee2e3183e07"
      },
      "source": [
        "df"
      ],
      "execution_count": 421,
      "outputs": [
        {
          "output_type": "execute_result",
          "data": {
            "text/html": [
              "<div>\n",
              "<style scoped>\n",
              "    .dataframe tbody tr th:only-of-type {\n",
              "        vertical-align: middle;\n",
              "    }\n",
              "\n",
              "    .dataframe tbody tr th {\n",
              "        vertical-align: top;\n",
              "    }\n",
              "\n",
              "    .dataframe thead th {\n",
              "        text-align: right;\n",
              "    }\n",
              "</style>\n",
              "<table border=\"1\" class=\"dataframe\">\n",
              "  <thead>\n",
              "    <tr style=\"text-align: right;\">\n",
              "      <th></th>\n",
              "      <th>Unnamed: 0</th>\n",
              "      <th>Name</th>\n",
              "      <th>Platform</th>\n",
              "      <th>Year</th>\n",
              "      <th>Genre</th>\n",
              "      <th>Publisher</th>\n",
              "      <th>NA_Sales</th>\n",
              "      <th>EU_Sales</th>\n",
              "      <th>JP_Sales</th>\n",
              "      <th>Other_Sales</th>\n",
              "    </tr>\n",
              "  </thead>\n",
              "  <tbody>\n",
              "    <tr>\n",
              "      <th>0</th>\n",
              "      <td>1</td>\n",
              "      <td>Candace Kane's Candy Factory</td>\n",
              "      <td>DS</td>\n",
              "      <td>2008.0</td>\n",
              "      <td>Action</td>\n",
              "      <td>Destineer</td>\n",
              "      <td>0.04</td>\n",
              "      <td>0</td>\n",
              "      <td>0</td>\n",
              "      <td>0</td>\n",
              "    </tr>\n",
              "    <tr>\n",
              "      <th>1</th>\n",
              "      <td>2</td>\n",
              "      <td>The Munchables</td>\n",
              "      <td>Wii</td>\n",
              "      <td>2009.0</td>\n",
              "      <td>Action</td>\n",
              "      <td>Namco Bandai Games</td>\n",
              "      <td>0.17</td>\n",
              "      <td>0</td>\n",
              "      <td>0</td>\n",
              "      <td>0.01</td>\n",
              "    </tr>\n",
              "    <tr>\n",
              "      <th>2</th>\n",
              "      <td>3</td>\n",
              "      <td>Otome wa Oanesama Boku ni Koi Shiteru Portable</td>\n",
              "      <td>PSP</td>\n",
              "      <td>2010.0</td>\n",
              "      <td>Adventure</td>\n",
              "      <td>Alchemist</td>\n",
              "      <td>0.00</td>\n",
              "      <td>0</td>\n",
              "      <td>0.02</td>\n",
              "      <td>0</td>\n",
              "    </tr>\n",
              "    <tr>\n",
              "      <th>3</th>\n",
              "      <td>4</td>\n",
              "      <td>Deal or No Deal: Special Edition</td>\n",
              "      <td>DS</td>\n",
              "      <td>2010.0</td>\n",
              "      <td>Misc</td>\n",
              "      <td>Zoo Games</td>\n",
              "      <td>0.04</td>\n",
              "      <td>0</td>\n",
              "      <td>0</td>\n",
              "      <td>0</td>\n",
              "    </tr>\n",
              "    <tr>\n",
              "      <th>4</th>\n",
              "      <td>5</td>\n",
              "      <td>Ben 10 Ultimate Alien: Cosmic Destruction</td>\n",
              "      <td>PS3</td>\n",
              "      <td>2010.0</td>\n",
              "      <td>Platform</td>\n",
              "      <td>D3Publisher</td>\n",
              "      <td>0.12</td>\n",
              "      <td>0.09</td>\n",
              "      <td>0</td>\n",
              "      <td>0.04</td>\n",
              "    </tr>\n",
              "    <tr>\n",
              "      <th>...</th>\n",
              "      <td>...</td>\n",
              "      <td>...</td>\n",
              "      <td>...</td>\n",
              "      <td>...</td>\n",
              "      <td>...</td>\n",
              "      <td>...</td>\n",
              "      <td>...</td>\n",
              "      <td>...</td>\n",
              "      <td>...</td>\n",
              "      <td>...</td>\n",
              "    </tr>\n",
              "    <tr>\n",
              "      <th>16593</th>\n",
              "      <td>16594</td>\n",
              "      <td>Ice Age 2: The Meltdown</td>\n",
              "      <td>GC</td>\n",
              "      <td>2006.0</td>\n",
              "      <td>Platform</td>\n",
              "      <td>Vivendi Games</td>\n",
              "      <td>0.15</td>\n",
              "      <td>0.04</td>\n",
              "      <td>0</td>\n",
              "      <td>0.01</td>\n",
              "    </tr>\n",
              "    <tr>\n",
              "      <th>16594</th>\n",
              "      <td>16595</td>\n",
              "      <td>Rainbow Islands: Revolution</td>\n",
              "      <td>PSP</td>\n",
              "      <td>2005.0</td>\n",
              "      <td>Action</td>\n",
              "      <td>Rising Star Games</td>\n",
              "      <td>0.01</td>\n",
              "      <td>0</td>\n",
              "      <td>0</td>\n",
              "      <td>0</td>\n",
              "    </tr>\n",
              "    <tr>\n",
              "      <th>16595</th>\n",
              "      <td>16596</td>\n",
              "      <td>NBA 2K16</td>\n",
              "      <td>PS3</td>\n",
              "      <td>2015.0</td>\n",
              "      <td>Sports</td>\n",
              "      <td>Take-Two Interactive</td>\n",
              "      <td>0.44</td>\n",
              "      <td>0.19</td>\n",
              "      <td>0.03</td>\n",
              "      <td>0.13</td>\n",
              "    </tr>\n",
              "    <tr>\n",
              "      <th>16596</th>\n",
              "      <td>16597</td>\n",
              "      <td>Toukiden: The Age of Demons</td>\n",
              "      <td>PSV</td>\n",
              "      <td>2013.0</td>\n",
              "      <td>Action</td>\n",
              "      <td>Tecmo Koei</td>\n",
              "      <td>0.05</td>\n",
              "      <td>0.05</td>\n",
              "      <td>0.25</td>\n",
              "      <td>0.03</td>\n",
              "    </tr>\n",
              "    <tr>\n",
              "      <th>16597</th>\n",
              "      <td>16598</td>\n",
              "      <td>The King of Fighters '95</td>\n",
              "      <td>PS</td>\n",
              "      <td>1996.0</td>\n",
              "      <td>Fighting</td>\n",
              "      <td>Sony Computer Entertainment</td>\n",
              "      <td>0.00</td>\n",
              "      <td>0</td>\n",
              "      <td>0.16</td>\n",
              "      <td>0.01</td>\n",
              "    </tr>\n",
              "  </tbody>\n",
              "</table>\n",
              "<p>16598 rows × 10 columns</p>\n",
              "</div>"
            ],
            "text/plain": [
              "       Unnamed: 0  ... Other_Sales\n",
              "0               1  ...           0\n",
              "1               2  ...        0.01\n",
              "2               3  ...           0\n",
              "3               4  ...           0\n",
              "4               5  ...        0.04\n",
              "...           ...  ...         ...\n",
              "16593       16594  ...        0.01\n",
              "16594       16595  ...           0\n",
              "16595       16596  ...        0.13\n",
              "16596       16597  ...        0.03\n",
              "16597       16598  ...        0.01\n",
              "\n",
              "[16598 rows x 10 columns]"
            ]
          },
          "metadata": {
            "tags": []
          },
          "execution_count": 421
        }
      ]
    },
    {
      "cell_type": "code",
      "metadata": {
        "id": "4DzRZB36gQJL"
      },
      "source": [
        "df.EU_Sales= (df.EU_Sales.replace(r'[KM]+$', '', regex=True).astype(float) * \\\r\n",
        "          df.EU_Sales.str.extract(r'[\\d\\.]+([KM]+)', expand=False)\r\n",
        "                     .fillna(1)\r\n",
        "                     .replace(['K','M'], [10**6, 10**6]).astype(int))"
      ],
      "execution_count": 422,
      "outputs": []
    },
    {
      "cell_type": "code",
      "metadata": {
        "id": "_igkcsTdgQMb"
      },
      "source": [
        "df.JP_Sales= (df.JP_Sales.replace(r'[KM]+$', '', regex=True).astype(float) * \\\r\n",
        "          df.JP_Sales.str.extract(r'[\\d\\.]+([KM]+)', expand=False)\r\n",
        "                     .fillna(1)\r\n",
        "                     .replace(['K','M'], [10**6, 10**6]).astype(int))"
      ],
      "execution_count": 423,
      "outputs": []
    },
    {
      "cell_type": "code",
      "metadata": {
        "id": "IlcqiMkIgQPS"
      },
      "source": [
        "df.Other_Sales= (df.Other_Sales.replace(r'[KM]+$', '', regex=True).astype(float) * \\\r\n",
        "          df.Other_Sales.str.extract(r'[\\d\\.]+([KM]+)', expand=False)\r\n",
        "                     .fillna(1)\r\n",
        "                     .replace(['K','M'], [10**6, 10**6]).astype(int))"
      ],
      "execution_count": 424,
      "outputs": []
    },
    {
      "cell_type": "code",
      "metadata": {
        "colab": {
          "base_uri": "https://localhost:8080/",
          "height": 435
        },
        "id": "e4yi4E35gQVl",
        "outputId": "e07b77e9-5c17-437b-c384-08b862273ef0"
      },
      "source": [
        "df = df.drop('Unnamed: 0', axis=1) #unnamed 컬럼 삭제\r\n",
        "df"
      ],
      "execution_count": 425,
      "outputs": [
        {
          "output_type": "execute_result",
          "data": {
            "text/html": [
              "<div>\n",
              "<style scoped>\n",
              "    .dataframe tbody tr th:only-of-type {\n",
              "        vertical-align: middle;\n",
              "    }\n",
              "\n",
              "    .dataframe tbody tr th {\n",
              "        vertical-align: top;\n",
              "    }\n",
              "\n",
              "    .dataframe thead th {\n",
              "        text-align: right;\n",
              "    }\n",
              "</style>\n",
              "<table border=\"1\" class=\"dataframe\">\n",
              "  <thead>\n",
              "    <tr style=\"text-align: right;\">\n",
              "      <th></th>\n",
              "      <th>Name</th>\n",
              "      <th>Platform</th>\n",
              "      <th>Year</th>\n",
              "      <th>Genre</th>\n",
              "      <th>Publisher</th>\n",
              "      <th>NA_Sales</th>\n",
              "      <th>EU_Sales</th>\n",
              "      <th>JP_Sales</th>\n",
              "      <th>Other_Sales</th>\n",
              "    </tr>\n",
              "  </thead>\n",
              "  <tbody>\n",
              "    <tr>\n",
              "      <th>0</th>\n",
              "      <td>Candace Kane's Candy Factory</td>\n",
              "      <td>DS</td>\n",
              "      <td>2008.0</td>\n",
              "      <td>Action</td>\n",
              "      <td>Destineer</td>\n",
              "      <td>0.04</td>\n",
              "      <td>0.00</td>\n",
              "      <td>0.00</td>\n",
              "      <td>0.00</td>\n",
              "    </tr>\n",
              "    <tr>\n",
              "      <th>1</th>\n",
              "      <td>The Munchables</td>\n",
              "      <td>Wii</td>\n",
              "      <td>2009.0</td>\n",
              "      <td>Action</td>\n",
              "      <td>Namco Bandai Games</td>\n",
              "      <td>0.17</td>\n",
              "      <td>0.00</td>\n",
              "      <td>0.00</td>\n",
              "      <td>0.01</td>\n",
              "    </tr>\n",
              "    <tr>\n",
              "      <th>2</th>\n",
              "      <td>Otome wa Oanesama Boku ni Koi Shiteru Portable</td>\n",
              "      <td>PSP</td>\n",
              "      <td>2010.0</td>\n",
              "      <td>Adventure</td>\n",
              "      <td>Alchemist</td>\n",
              "      <td>0.00</td>\n",
              "      <td>0.00</td>\n",
              "      <td>0.02</td>\n",
              "      <td>0.00</td>\n",
              "    </tr>\n",
              "    <tr>\n",
              "      <th>3</th>\n",
              "      <td>Deal or No Deal: Special Edition</td>\n",
              "      <td>DS</td>\n",
              "      <td>2010.0</td>\n",
              "      <td>Misc</td>\n",
              "      <td>Zoo Games</td>\n",
              "      <td>0.04</td>\n",
              "      <td>0.00</td>\n",
              "      <td>0.00</td>\n",
              "      <td>0.00</td>\n",
              "    </tr>\n",
              "    <tr>\n",
              "      <th>4</th>\n",
              "      <td>Ben 10 Ultimate Alien: Cosmic Destruction</td>\n",
              "      <td>PS3</td>\n",
              "      <td>2010.0</td>\n",
              "      <td>Platform</td>\n",
              "      <td>D3Publisher</td>\n",
              "      <td>0.12</td>\n",
              "      <td>0.09</td>\n",
              "      <td>0.00</td>\n",
              "      <td>0.04</td>\n",
              "    </tr>\n",
              "    <tr>\n",
              "      <th>...</th>\n",
              "      <td>...</td>\n",
              "      <td>...</td>\n",
              "      <td>...</td>\n",
              "      <td>...</td>\n",
              "      <td>...</td>\n",
              "      <td>...</td>\n",
              "      <td>...</td>\n",
              "      <td>...</td>\n",
              "      <td>...</td>\n",
              "    </tr>\n",
              "    <tr>\n",
              "      <th>16593</th>\n",
              "      <td>Ice Age 2: The Meltdown</td>\n",
              "      <td>GC</td>\n",
              "      <td>2006.0</td>\n",
              "      <td>Platform</td>\n",
              "      <td>Vivendi Games</td>\n",
              "      <td>0.15</td>\n",
              "      <td>0.04</td>\n",
              "      <td>0.00</td>\n",
              "      <td>0.01</td>\n",
              "    </tr>\n",
              "    <tr>\n",
              "      <th>16594</th>\n",
              "      <td>Rainbow Islands: Revolution</td>\n",
              "      <td>PSP</td>\n",
              "      <td>2005.0</td>\n",
              "      <td>Action</td>\n",
              "      <td>Rising Star Games</td>\n",
              "      <td>0.01</td>\n",
              "      <td>0.00</td>\n",
              "      <td>0.00</td>\n",
              "      <td>0.00</td>\n",
              "    </tr>\n",
              "    <tr>\n",
              "      <th>16595</th>\n",
              "      <td>NBA 2K16</td>\n",
              "      <td>PS3</td>\n",
              "      <td>2015.0</td>\n",
              "      <td>Sports</td>\n",
              "      <td>Take-Two Interactive</td>\n",
              "      <td>0.44</td>\n",
              "      <td>0.19</td>\n",
              "      <td>0.03</td>\n",
              "      <td>0.13</td>\n",
              "    </tr>\n",
              "    <tr>\n",
              "      <th>16596</th>\n",
              "      <td>Toukiden: The Age of Demons</td>\n",
              "      <td>PSV</td>\n",
              "      <td>2013.0</td>\n",
              "      <td>Action</td>\n",
              "      <td>Tecmo Koei</td>\n",
              "      <td>0.05</td>\n",
              "      <td>0.05</td>\n",
              "      <td>0.25</td>\n",
              "      <td>0.03</td>\n",
              "    </tr>\n",
              "    <tr>\n",
              "      <th>16597</th>\n",
              "      <td>The King of Fighters '95</td>\n",
              "      <td>PS</td>\n",
              "      <td>1996.0</td>\n",
              "      <td>Fighting</td>\n",
              "      <td>Sony Computer Entertainment</td>\n",
              "      <td>0.00</td>\n",
              "      <td>0.00</td>\n",
              "      <td>0.16</td>\n",
              "      <td>0.01</td>\n",
              "    </tr>\n",
              "  </tbody>\n",
              "</table>\n",
              "<p>16598 rows × 9 columns</p>\n",
              "</div>"
            ],
            "text/plain": [
              "                                                 Name  ... Other_Sales\n",
              "0                        Candace Kane's Candy Factory  ...        0.00\n",
              "1                                      The Munchables  ...        0.01\n",
              "2      Otome wa Oanesama Boku ni Koi Shiteru Portable  ...        0.00\n",
              "3                    Deal or No Deal: Special Edition  ...        0.00\n",
              "4           Ben 10 Ultimate Alien: Cosmic Destruction  ...        0.04\n",
              "...                                               ...  ...         ...\n",
              "16593                         Ice Age 2: The Meltdown  ...        0.01\n",
              "16594                     Rainbow Islands: Revolution  ...        0.00\n",
              "16595                                        NBA 2K16  ...        0.13\n",
              "16596                     Toukiden: The Age of Demons  ...        0.03\n",
              "16597                        The King of Fighters '95  ...        0.01\n",
              "\n",
              "[16598 rows x 9 columns]"
            ]
          },
          "metadata": {
            "tags": []
          },
          "execution_count": 425
        }
      ]
    },
    {
      "cell_type": "markdown",
      "metadata": {
        "id": "Zg7XfJRxLaKu"
      },
      "source": [
        "#### 결측치 없애기"
      ]
    },
    {
      "cell_type": "code",
      "metadata": {
        "colab": {
          "base_uri": "https://localhost:8080/"
        },
        "id": "rD_pbHOTLLfk",
        "outputId": "6a73a9b6-4ea3-4aeb-d10a-ac4e8ed16f49"
      },
      "source": [
        "df.isnull().sum()"
      ],
      "execution_count": 426,
      "outputs": [
        {
          "output_type": "execute_result",
          "data": {
            "text/plain": [
              "Name             0\n",
              "Platform         0\n",
              "Year           271\n",
              "Genre           50\n",
              "Publisher       58\n",
              "NA_Sales         0\n",
              "EU_Sales         0\n",
              "JP_Sales         0\n",
              "Other_Sales      0\n",
              "dtype: int64"
            ]
          },
          "metadata": {
            "tags": []
          },
          "execution_count": 426
        }
      ]
    },
    {
      "cell_type": "code",
      "metadata": {
        "id": "6cSRcneoLPwi"
      },
      "source": [
        "df = df[df[\"Year\"].notnull()]\r\n",
        "df = df[df[\"Genre\"].notnull()]\r\n",
        "df = df[df[\"Publisher\"].notnull()]"
      ],
      "execution_count": 427,
      "outputs": []
    },
    {
      "cell_type": "code",
      "metadata": {
        "colab": {
          "base_uri": "https://localhost:8080/"
        },
        "id": "TYckelbqW46I",
        "outputId": "0534e586-417b-4d8e-9bc2-cbfb05a80f39"
      },
      "source": [
        "df.astype({'NA_Sales':'float','EU_Sales':'float','JP_Sales':'float','Other_Sales':'float'}).dtypes #데이터 타입 전환"
      ],
      "execution_count": 428,
      "outputs": [
        {
          "output_type": "execute_result",
          "data": {
            "text/plain": [
              "Name            object\n",
              "Platform        object\n",
              "Year           float64\n",
              "Genre           object\n",
              "Publisher       object\n",
              "NA_Sales       float64\n",
              "EU_Sales       float64\n",
              "JP_Sales       float64\n",
              "Other_Sales    float64\n",
              "dtype: object"
            ]
          },
          "metadata": {
            "tags": []
          },
          "execution_count": 428
        }
      ]
    },
    {
      "cell_type": "markdown",
      "metadata": {
        "id": "HPyWzNc-nBI5"
      },
      "source": [
        "#### YEAR 데이터 1980년부터 2020년까지 추출 \r\n",
        "유의미한 데이터들이 게임산업이 발전하기 시작한 1980년대 이후부터 있을 것이라는 판단에서 그 이전 데이터는 삭제함. "
      ]
    },
    {
      "cell_type": "code",
      "metadata": {
        "id": "PszGhk41hzTb"
      },
      "source": [
        "df2 = df[(df['Year'] >= 1980) & (df['Year'] < 2020)] #1980년에서 2020년 사이에 있는 년도 데이터만 저장. "
      ],
      "execution_count": 429,
      "outputs": []
    },
    {
      "cell_type": "code",
      "metadata": {
        "colab": {
          "base_uri": "https://localhost:8080/",
          "height": 393
        },
        "id": "vrMtmdxzhn_y",
        "outputId": "e22f56b6-85c9-4913-d0fa-8ce7c3b8e8f1"
      },
      "source": [
        "sns.distplot(df2['Year'])"
      ],
      "execution_count": 430,
      "outputs": [
        {
          "output_type": "stream",
          "text": [
            "/usr/local/lib/python3.6/dist-packages/seaborn/distributions.py:2557: FutureWarning:\n",
            "\n",
            "`distplot` is a deprecated function and will be removed in a future version. Please adapt your code to use either `displot` (a figure-level function with similar flexibility) or `histplot` (an axes-level function for histograms).\n",
            "\n"
          ],
          "name": "stderr"
        },
        {
          "output_type": "execute_result",
          "data": {
            "text/plain": [
              "<matplotlib.axes._subplots.AxesSubplot at 0x7fa33b30c438>"
            ]
          },
          "metadata": {
            "tags": []
          },
          "execution_count": 430
        },
        {
          "output_type": "display_data",
          "data": {
            "image/png": "[encoded data removed]",
            "text/plain": [
              "<Figure size 432x288 with 1 Axes>"
            ]
          },
          "metadata": {
            "tags": [],
            "needs_background": "light"
          }
        }
      ]
    },
    {
      "cell_type": "code",
      "metadata": {
        "colab": {
          "base_uri": "https://localhost:8080/"
        },
        "id": "i47dKpLjyvRZ",
        "outputId": "f37fc543-6570-4f9c-f378-7b8d075dbbb3"
      },
      "source": [
        "df2['All_Sales'] = df2['NA_Sales'] + df2['EU_Sales'] + df2['JP_Sales'] + df2['Other_Sales']"
      ],
      "execution_count": 431,
      "outputs": [
        {
          "output_type": "stream",
          "text": [
            "/usr/local/lib/python3.6/dist-packages/ipykernel_launcher.py:1: SettingWithCopyWarning:\n",
            "\n",
            "\n",
            "A value is trying to be set on a copy of a slice from a DataFrame.\n",
            "Try using .loc[row_indexer,col_indexer] = value instead\n",
            "\n",
            "See the caveats in the documentation: https://pandas.pydata.org/pandas-docs/stable/user_guide/indexing.html#returning-a-view-versus-a-copy\n",
            "\n"
          ],
          "name": "stderr"
        }
      ]
    },
    {
      "cell_type": "markdown",
      "metadata": {
        "id": "bV8_gbD_xfje"
      },
      "source": [
        "## 게임 시장 현황"
      ]
    },
    {
      "cell_type": "code",
      "metadata": {
        "colab": {
          "base_uri": "https://localhost:8080/",
          "height": 314
        },
        "id": "9Ha7k3WVrHgY",
        "outputId": "4faedf35-eedb-49f6-a003-7401211da668"
      },
      "source": [
        "sales_df = df2[[x for x in df2.columns if 'Sales' in x]+['Year']]\r\n",
        "sales_df.groupby('Year').sum().plot()"
      ],
      "execution_count": 432,
      "outputs": [
        {
          "output_type": "execute_result",
          "data": {
            "text/plain": [
              "<matplotlib.axes._subplots.AxesSubplot at 0x7fa33b24ed68>"
            ]
          },
          "metadata": {
            "tags": []
          },
          "execution_count": 432
        },
        {
          "output_type": "display_data",
          "data": {
            "image/png": "[encoded data removed]",
            "text/plain": [
              "<Figure size 432x288 with 1 Axes>"
            ]
          },
          "metadata": {
            "tags": [],
            "needs_background": "light"
          }
        }
      ]
    },
    {
      "cell_type": "markdown",
      "metadata": {
        "id": "3CaEN_ZJrRun"
      },
      "source": [
        "게임 시장 현황을 보면, 1990년대 초반을 기점으로 2000년 전까지는 매출액이 지속적으로 상승하는 것을 볼 수 있습니다. 하지만 2005년과 2010년 큰 기복을 나타내며 하락세를 나타내고, 2010년에서 2015년 사이에는 최고점을 기록합니다. 하지만 2015년 이후에는 계속 하락하는 것을 알 수 있습니다. "
      ]
    },
    {
      "cell_type": "markdown",
      "metadata": {
        "id": "d6lQiDct9KFX"
      },
      "source": [
        "## 지역에 따라서 선호하는 게임 장르가 다를까?"
      ]
    },
    {
      "cell_type": "markdown",
      "metadata": {
        "id": "Yto1vrHc9Q5n"
      },
      "source": [
        "#### 조사 대상 국가 전체에서 가장 많이 판매된 게임 장르는 플랫폼이다. "
      ]
    },
    {
      "cell_type": "code",
      "metadata": {
        "colab": {
          "base_uri": "https://localhost:8080/",
          "height": 404
        },
        "id": "wmnvHq6Dzx41",
        "outputId": "da8607e1-127e-4acb-de90-67fece94623b"
      },
      "source": [
        "sns.catplot(y=\"Genre\", x=\"All_Sales\", data=df2,\r\n",
        "            kind=\"box\", showfliers=False) "
      ],
      "execution_count": 433,
      "outputs": [
        {
          "output_type": "execute_result",
          "data": {
            "text/plain": [
              "<seaborn.axisgrid.FacetGrid at 0x7fa33b318320>"
            ]
          },
          "metadata": {
            "tags": []
          },
          "execution_count": 433
        },
        {
          "output_type": "display_data",
          "data": {
            "image/png": "[encoded data removed]",
            "text/plain": [
              "<Figure size 360x360 with 1 Axes>"
            ]
          },
          "metadata": {
            "tags": [],
            "needs_background": "light"
          }
        }
      ]
    },
    {
      "cell_type": "markdown",
      "metadata": {
        "id": "M-32dVsd6jtI"
      },
      "source": [
        "#### EU에서 가장 많이 판매 된 게임 장르는 슈터다.\r\n",
        "\r\n"
      ]
    },
    {
      "cell_type": "code",
      "metadata": {
        "colab": {
          "base_uri": "https://localhost:8080/",
          "height": 404
        },
        "id": "vSxpKjaHhdwc",
        "outputId": "0c18da11-d507-4409-b697-18c49a237677"
      },
      "source": [
        "sns.catplot(y=\"Genre\", x=\"EU_Sales\", data=df2,\r\n",
        "            kind=\"box\", showfliers=False)"
      ],
      "execution_count": 434,
      "outputs": [
        {
          "output_type": "execute_result",
          "data": {
            "text/plain": [
              "<seaborn.axisgrid.FacetGrid at 0x7fa33b11ba20>"
            ]
          },
          "metadata": {
            "tags": []
          },
          "execution_count": 434
        },
        {
          "output_type": "display_data",
          "data": {
            "image/png": "[encoded data removed]",
            "text/plain": [
              "<Figure size 360x360 with 1 Axes>"
            ]
          },
          "metadata": {
            "tags": [],
            "needs_background": "light"
          }
        }
      ]
    },
    {
      "cell_type": "markdown",
      "metadata": {
        "id": "5HX4Jijo8GSd"
      },
      "source": [
        "#### North America 에서 가장 많이 판매된 게임 장르는 플랫폼이다."
      ]
    },
    {
      "cell_type": "code",
      "metadata": {
        "colab": {
          "base_uri": "https://localhost:8080/",
          "height": 404
        },
        "id": "Mf8olzTYhkY6",
        "outputId": "9c7930d2-c7dc-4a74-b3ff-308b23ce7211"
      },
      "source": [
        "sns.catplot(y=\"Genre\", x=\"NA_Sales\", data=df2,\r\n",
        "            kind=\"box\", showfliers=False) "
      ],
      "execution_count": 435,
      "outputs": [
        {
          "output_type": "execute_result",
          "data": {
            "text/plain": [
              "<seaborn.axisgrid.FacetGrid at 0x7fa33afe2d68>"
            ]
          },
          "metadata": {
            "tags": []
          },
          "execution_count": 435
        },
        {
          "output_type": "display_data",
          "data": {
            "image/png": "[encoded data removed]",
            "text/plain": [
              "<Figure size 360x360 with 1 Axes>"
            ]
          },
          "metadata": {
            "tags": [],
            "needs_background": "light"
          }
        }
      ]
    },
    {
      "cell_type": "markdown",
      "metadata": {
        "id": "6EqyAv3C8O5C"
      },
      "source": [
        "#### 일본에서 가장 많이 판매된 게임 장르는 롤 플레잉 게임이다."
      ]
    },
    {
      "cell_type": "code",
      "metadata": {
        "colab": {
          "base_uri": "https://localhost:8080/",
          "height": 404
        },
        "id": "TwEvAFWchqI0",
        "outputId": "17ae69a7-e32a-47c6-da90-78a1ef85e251"
      },
      "source": [
        "sns.catplot(y=\"Genre\", x=\"JP_Sales\", data=df2,\r\n",
        "            kind=\"box\", showfliers=False) "
      ],
      "execution_count": 436,
      "outputs": [
        {
          "output_type": "execute_result",
          "data": {
            "text/plain": [
              "<seaborn.axisgrid.FacetGrid at 0x7fa33b62ddd8>"
            ]
          },
          "metadata": {
            "tags": []
          },
          "execution_count": 436
        },
        {
          "output_type": "display_data",
          "data": {
            "image/png": "[encoded data removed]",
            "text/plain": [
              "<Figure size 360x360 with 1 Axes>"
            ]
          },
          "metadata": {
            "tags": [],
            "needs_background": "light"
          }
        }
      ]
    },
    {
      "cell_type": "markdown",
      "metadata": {
        "id": "Ge6GL2uO9nGB"
      },
      "source": [
        "#### 다른 나라들에서 가장 많이 판매된 게임은 장르는 슈터다. "
      ]
    },
    {
      "cell_type": "code",
      "metadata": {
        "colab": {
          "base_uri": "https://localhost:8080/",
          "height": 404
        },
        "id": "CrVgRpWthV1L",
        "outputId": "6b4a5fd8-9a9b-4146-e25f-5ecf04b2a9c2"
      },
      "source": [
        "sns.catplot(y=\"Genre\", x=\"Other_Sales\", data=df2,\r\n",
        "            kind=\"box\", showfliers=False)"
      ],
      "execution_count": 437,
      "outputs": [
        {
          "output_type": "execute_result",
          "data": {
            "text/plain": [
              "<seaborn.axisgrid.FacetGrid at 0x7fa33afb3278>"
            ]
          },
          "metadata": {
            "tags": []
          },
          "execution_count": 437
        },
        {
          "output_type": "display_data",
          "data": {
            "image/png": "[encoded data removed]",
            "text/plain": [
              "<Figure size 360x360 with 1 Axes>"
            ]
          },
          "metadata": {
            "tags": [],
            "needs_background": "light"
          }
        }
      ]
    },
    {
      "cell_type": "markdown",
      "metadata": {
        "id": "-SWi7dplKGg9"
      },
      "source": [
        "##연도별 게임 트렌드가 있을까?"
      ]
    },
    {
      "cell_type": "markdown",
      "metadata": {
        "id": "gBPvSo0r8dMc"
      },
      "source": [
        "#### 연도별 가장 많이 팔린 게임  글로벌 매출액 \r\n"
      ]
    },
    {
      "cell_type": "code",
      "metadata": {
        "colab": {
          "base_uri": "https://localhost:8080/",
          "height": 542
        },
        "id": "bnshzYAy-Epa",
        "outputId": "1496efc7-b0f6-4ca0-aad3-9aec94c5566b"
      },
      "source": [
        "year_sales=df2.iloc[:, [0,2,9]].groupby(['Year']).All_Sales.max().reset_index()\r\n",
        "year_game=df2[['Name','All_Sales','Year']]\r\n",
        "bestg_of_year=pd.merge(year_sales, year_game, on=['Year','All_Sales'],how='left')\r\n",
        "\r\n",
        "trace = go.Bar(x=bestg_of_year.Year,\r\n",
        "               y=bestg_of_year.All_Sales,\r\n",
        "               marker=dict(color=bestg_of_year.All_Sales,colorscale='blues'),\r\n",
        "               name='Best Game of the Year',\r\n",
        "               text = bestg_of_year['Name'],\r\n",
        "               hovertemplate = '<i>Year: %{x}</i>'\r\n",
        "                               '<br><i>Game: %{text}</i>'\r\n",
        "                               '<br><i>All Sales: %{y}</i>')\r\n",
        "\r\n",
        "layout = go.Layout(\r\n",
        "    title='Best Selling Game of the Year',\r\n",
        "    xaxis=dict(tickmode = 'linear',tickfont=dict(size=11),\r\n",
        "        title='Year',tickwidth=6,ticklen=8,zeroline=False,\r\n",
        "    tickangle=-90),\r\n",
        "    yaxis=dict(\r\n",
        "        title='All Sales'),\r\n",
        "    bargap=0.2,\r\n",
        "    bargroupgap=0.1, \r\n",
        "    plot_bgcolor=\"white\")\r\n",
        "fig = go.Figure(data=[trace], layout=layout)\r\n",
        "fig"
      ],
      "execution_count": 442,
      "outputs": [
        {
          "output_type": "display_data",
          "data": {
            "text/html": [
              "<html>\n",
              "<head><meta charset=\"utf-8\" /></head>\n",
              "<body>\n",
              "    <div>\n",
              "            <script src=\"https://cdnjs.cloudflare.com/ajax/libs/mathjax/2.7.5/MathJax.js?config=TeX-AMS-MML_SVG\"></script><script type=\"text/javascript\">if (window.MathJax) {MathJax.Hub.Config({SVG: {font: \"STIX-Web\"}});}</script>\n",
              "                <script type=\"text/javascript\">window.PlotlyConfig = {MathJaxConfig: 'local'};</script>\n",
              "        <script src=\"https://cdn.plot.ly/plotly-latest.min.js\"></script>    \n",
              "            <div id=\"d7a2090a-8c1a-4c83-899b-e0c4bb423a98\" class=\"plotly-graph-div\" style=\"height:525px; width:100%;\"></div>\n",
              "            <script type=\"text/javascript\">\n",
              "                \n",
              "                    window.PLOTLYENV=window.PLOTLYENV || {};\n",
              "                    \n",
              "                if (document.getElementById(\"d7a2090a-8c1a-4c83-899b-e0c4bb423a98\")) {\n",
              "                    Plotly.newPlot(\n",
              "                        'd7a2090a-8c1a-4c83-899b-e0c4bb423a98',\n",
              "                        [{\"hovertemplate\": \"<i>Year: %{x}</i><br><i>Game: %{text}</i><br><i>All Sales: %{y}</i>\", \"marker\": {\"color\": [4.31, 110000001.86, 7.8100000000000005, 3.2, 28.31, 460001.04, 6.499999999999999, 4.38, 190000007.27, 60000000.0, 20001.17, 160000000.0, 11.179999999999998, 10.55, 260000000.0, 340000001.59, 470000003.31, 1020000000.07, 4100000003.4999995, 2570000002.2200003, 2780000002.5299997, 480330000.06, 1210000000.78, 2930000002.2799997, 210000000.32999998, 270000000.33000004, 960000000.6700001, 2010000000.19, 440000000.62, 620000001.65, 280000000.54, 2130000005.21, 2560000003.9399996, 1780000001.8500001, 660000001.06, 560000003.17, 30000000.15, 0.03], \"colorscale\": [[0.0, \"rgb(247,251,255)\"], [0.125, \"rgb(222,235,247)\"], [0.25, \"rgb(198,219,239)\"], [0.375, \"rgb(158,202,225)\"], [0.5, \"rgb(107,174,214)\"], [0.625, \"rgb(66,146,198)\"], [0.75, \"rgb(33,113,181)\"], [0.875, \"rgb(8,81,156)\"], [1.0, \"rgb(8,48,107)\"]]}, \"name\": \"Best Game of the Year\", \"text\": [\"Asteroids\", \"E.T.: The Extra Terrestrial\", \"Pac-Man\", \"Baseball\", \"Duck Hunt\", \"Ice Climber\", \"The Legend of Zelda\", \"Zelda II: The Adventure of Link\", \"Super Mario Bros. 2\", \"Adventures of Lolo\", \"Disney's Chip 'n Dale: Rescue Rangers\", \"SimEarth: The Living Planet\", \"Super Mario Land 2: 6 Golden Coins\", \"Super Mario All-Stars\", \"Virtua Racing\", \"Virtua Fighter 2\", \"Resident Evil Director's Cut\", \"Densha De Go!\", \"The Legend of Zelda: Ocarina of Time\", \"Crash Team Racing\", \"Final Fantasy IX\", \"Ford Racing\", \"Harry Potter and the Chamber of Secrets\", \"Super Mario Bros. 3\", \"SRS: Street Racing Syndicate\", \"Final Fantasy IV Advance\", \"Viva Pinata\", \"Guitar Hero II\", \"LEGO Indiana Jones: The Original Adventures\", \"Sonic's Ultimate Genesis Collection\", \"Hasbro Family Game Night 3\", \"Battlefield 3\", \"Assassin's Creed III\", \"Call of Duty: Ghosts\", \"Destiny\", \"The Witcher 3: Wild Hunt\", \"Odin Sphere: Leifthrasir\", \"Phantasy Star Online 2 Episode 4: Deluxe Package\"], \"type\": \"bar\", \"x\": [1980.0, 1981.0, 1982.0, 1983.0, 1984.0, 1985.0, 1986.0, 1987.0, 1988.0, 1989.0, 1990.0, 1991.0, 1992.0, 1993.0, 1994.0, 1995.0, 1996.0, 1997.0, 1998.0, 1999.0, 2000.0, 2001.0, 2002.0, 2003.0, 2004.0, 2005.0, 2006.0, 2007.0, 2008.0, 2009.0, 2010.0, 2011.0, 2012.0, 2013.0, 2014.0, 2015.0, 2016.0, 2017.0], \"y\": [4.31, 110000001.86, 7.8100000000000005, 3.2, 28.31, 460001.04, 6.499999999999999, 4.38, 190000007.27, 60000000.0, 20001.17, 160000000.0, 11.179999999999998, 10.55, 260000000.0, 340000001.59, 470000003.31, 1020000000.07, 4100000003.4999995, 2570000002.2200003, 2780000002.5299997, 480330000.06, 1210000000.78, 2930000002.2799997, 210000000.32999998, 270000000.33000004, 960000000.6700001, 2010000000.19, 440000000.62, 620000001.65, 280000000.54, 2130000005.21, 2560000003.9399996, 1780000001.8500001, 660000001.06, 560000003.17, 30000000.15, 0.03]}],\n",
              "                        {\"bargap\": 0.2, \"bargroupgap\": 0.1, \"plot_bgcolor\": \"white\", \"template\": {\"data\": {\"bar\": [{\"error_x\": {\"color\": \"#2a3f5f\"}, \"error_y\": {\"color\": \"#2a3f5f\"}, \"marker\": {\"line\": {\"color\": \"#E5ECF6\", \"width\": 0.5}}, \"type\": \"bar\"}], \"barpolar\": [{\"marker\": {\"line\": {\"color\": \"#E5ECF6\", \"width\": 0.5}}, \"type\": \"barpolar\"}], \"carpet\": [{\"aaxis\": {\"endlinecolor\": \"#2a3f5f\", \"gridcolor\": \"white\", \"linecolor\": \"white\", \"minorgridcolor\": \"white\", \"startlinecolor\": \"#2a3f5f\"}, \"baxis\": {\"endlinecolor\": \"#2a3f5f\", \"gridcolor\": \"white\", \"linecolor\": \"white\", \"minorgridcolor\": \"white\", \"startlinecolor\": \"#2a3f5f\"}, \"type\": \"carpet\"}], \"choropleth\": [{\"colorbar\": {\"outlinewidth\": 0, \"ticks\": \"\"}, \"type\": \"choropleth\"}], \"contour\": [{\"colorbar\": {\"outlinewidth\": 0, \"ticks\": \"\"}, \"colorscale\": [[0.0, \"#0d0887\"], [0.1111111111111111, \"#46039f\"], [0.2222222222222222, \"#7201a8\"], [0.3333333333333333, \"#9c179e\"], [0.4444444444444444, \"#bd3786\"], [0.5555555555555556, \"#d8576b\"], [0.6666666666666666, \"#ed7953\"], [0.7777777777777778, \"#fb9f3a\"], [0.8888888888888888, \"#fdca26\"], [1.0, \"#f0f921\"]], \"type\": \"contour\"}], \"contourcarpet\": [{\"colorbar\": {\"outlinewidth\": 0, \"ticks\": \"\"}, \"type\": \"contourcarpet\"}], \"heatmap\": [{\"colorbar\": {\"outlinewidth\": 0, \"ticks\": \"\"}, \"colorscale\": [[0.0, \"#0d0887\"], [0.1111111111111111, \"#46039f\"], [0.2222222222222222, \"#7201a8\"], [0.3333333333333333, \"#9c179e\"], [0.4444444444444444, \"#bd3786\"], [0.5555555555555556, \"#d8576b\"], [0.6666666666666666, \"#ed7953\"], [0.7777777777777778, \"#fb9f3a\"], [0.8888888888888888, \"#fdca26\"], [1.0, \"#f0f921\"]], \"type\": \"heatmap\"}], \"heatmapgl\": [{\"colorbar\": {\"outlinewidth\": 0, \"ticks\": \"\"}, \"colorscale\": [[0.0, \"#0d0887\"], [0.1111111111111111, \"#46039f\"], [0.2222222222222222, \"#7201a8\"], [0.3333333333333333, \"#9c179e\"], [0.4444444444444444, \"#bd3786\"], [0.5555555555555556, \"#d8576b\"], [0.6666666666666666, \"#ed7953\"], [0.7777777777777778, \"#fb9f3a\"], [0.8888888888888888, \"#fdca26\"], [1.0, \"#f0f921\"]], \"type\": \"heatmapgl\"}], \"histogram\": [{\"marker\": {\"colorbar\": {\"outlinewidth\": 0, \"ticks\": \"\"}}, \"type\": \"histogram\"}], \"histogram2d\": [{\"colorbar\": {\"outlinewidth\": 0, \"ticks\": \"\"}, \"colorscale\": [[0.0, \"#0d0887\"], [0.1111111111111111, \"#46039f\"], [0.2222222222222222, \"#7201a8\"], [0.3333333333333333, \"#9c179e\"], [0.4444444444444444, \"#bd3786\"], [0.5555555555555556, \"#d8576b\"], [0.6666666666666666, \"#ed7953\"], [0.7777777777777778, \"#fb9f3a\"], [0.8888888888888888, \"#fdca26\"], [1.0, \"#f0f921\"]], \"type\": \"histogram2d\"}], \"histogram2dcontour\": [{\"colorbar\": {\"outlinewidth\": 0, \"ticks\": \"\"}, \"colorscale\": [[0.0, \"#0d0887\"], [0.1111111111111111, \"#46039f\"], [0.2222222222222222, \"#7201a8\"], [0.3333333333333333, \"#9c179e\"], [0.4444444444444444, \"#bd3786\"], [0.5555555555555556, \"#d8576b\"], [0.6666666666666666, \"#ed7953\"], [0.7777777777777778, \"#fb9f3a\"], [0.8888888888888888, \"#fdca26\"], [1.0, \"#f0f921\"]], \"type\": \"histogram2dcontour\"}], \"mesh3d\": [{\"colorbar\": {\"outlinewidth\": 0, \"ticks\": \"\"}, \"type\": \"mesh3d\"}], \"parcoords\": [{\"line\": {\"colorbar\": {\"outlinewidth\": 0, \"ticks\": \"\"}}, \"type\": \"parcoords\"}], \"pie\": [{\"automargin\": true, \"type\": \"pie\"}], \"scatter\": [{\"marker\": {\"colorbar\": {\"outlinewidth\": 0, \"ticks\": \"\"}}, \"type\": \"scatter\"}], \"scatter3d\": [{\"line\": {\"colorbar\": {\"outlinewidth\": 0, \"ticks\": \"\"}}, \"marker\": {\"colorbar\": {\"outlinewidth\": 0, \"ticks\": \"\"}}, \"type\": \"scatter3d\"}], \"scattercarpet\": [{\"marker\": {\"colorbar\": {\"outlinewidth\": 0, \"ticks\": \"\"}}, \"type\": \"scattercarpet\"}], \"scattergeo\": [{\"marker\": {\"colorbar\": {\"outlinewidth\": 0, \"ticks\": \"\"}}, \"type\": \"scattergeo\"}], \"scattergl\": [{\"marker\": {\"colorbar\": {\"outlinewidth\": 0, \"ticks\": \"\"}}, \"type\": \"scattergl\"}], \"scattermapbox\": [{\"marker\": {\"colorbar\": {\"outlinewidth\": 0, \"ticks\": \"\"}}, \"type\": \"scattermapbox\"}], \"scatterpolar\": [{\"marker\": {\"colorbar\": {\"outlinewidth\": 0, \"ticks\": \"\"}}, \"type\": \"scatterpolar\"}], \"scatterpolargl\": [{\"marker\": {\"colorbar\": {\"outlinewidth\": 0, \"ticks\": \"\"}}, \"type\": \"scatterpolargl\"}], \"scatterternary\": [{\"marker\": {\"colorbar\": {\"outlinewidth\": 0, \"ticks\": \"\"}}, \"type\": \"scatterternary\"}], \"surface\": [{\"colorbar\": {\"outlinewidth\": 0, \"ticks\": \"\"}, \"colorscale\": [[0.0, \"#0d0887\"], [0.1111111111111111, \"#46039f\"], [0.2222222222222222, \"#7201a8\"], [0.3333333333333333, \"#9c179e\"], [0.4444444444444444, \"#bd3786\"], [0.5555555555555556, \"#d8576b\"], [0.6666666666666666, \"#ed7953\"], [0.7777777777777778, \"#fb9f3a\"], [0.8888888888888888, \"#fdca26\"], [1.0, \"#f0f921\"]], \"type\": \"surface\"}], \"table\": [{\"cells\": {\"fill\": {\"color\": \"#EBF0F8\"}, \"line\": {\"color\": \"white\"}}, \"header\": {\"fill\": {\"color\": \"#C8D4E3\"}, \"line\": {\"color\": \"white\"}}, \"type\": \"table\"}]}, \"layout\": {\"annotationdefaults\": {\"arrowcolor\": \"#2a3f5f\", \"arrowhead\": 0, \"arrowwidth\": 1}, \"coloraxis\": {\"colorbar\": {\"outlinewidth\": 0, \"ticks\": \"\"}}, \"colorscale\": {\"diverging\": [[0, \"#8e0152\"], [0.1, \"#c51b7d\"], [0.2, \"#de77ae\"], [0.3, \"#f1b6da\"], [0.4, \"#fde0ef\"], [0.5, \"#f7f7f7\"], [0.6, \"#e6f5d0\"], [0.7, \"#b8e186\"], [0.8, \"#7fbc41\"], [0.9, \"#4d9221\"], [1, \"#276419\"]], \"sequential\": [[0.0, \"#0d0887\"], [0.1111111111111111, \"#46039f\"], [0.2222222222222222, \"#7201a8\"], [0.3333333333333333, \"#9c179e\"], [0.4444444444444444, \"#bd3786\"], [0.5555555555555556, \"#d8576b\"], [0.6666666666666666, \"#ed7953\"], [0.7777777777777778, \"#fb9f3a\"], [0.8888888888888888, \"#fdca26\"], [1.0, \"#f0f921\"]], \"sequentialminus\": [[0.0, \"#0d0887\"], [0.1111111111111111, \"#46039f\"], [0.2222222222222222, \"#7201a8\"], [0.3333333333333333, \"#9c179e\"], [0.4444444444444444, \"#bd3786\"], [0.5555555555555556, \"#d8576b\"], [0.6666666666666666, \"#ed7953\"], [0.7777777777777778, \"#fb9f3a\"], [0.8888888888888888, \"#fdca26\"], [1.0, \"#f0f921\"]]}, \"colorway\": [\"#636efa\", \"#EF553B\", \"#00cc96\", \"#ab63fa\", \"#FFA15A\", \"#19d3f3\", \"#FF6692\", \"#B6E880\", \"#FF97FF\", \"#FECB52\"], \"font\": {\"color\": \"#2a3f5f\"}, \"geo\": {\"bgcolor\": \"white\", \"lakecolor\": \"white\", \"landcolor\": \"#E5ECF6\", \"showlakes\": true, \"showland\": true, \"subunitcolor\": \"white\"}, \"hoverlabel\": {\"align\": \"left\"}, \"hovermode\": \"closest\", \"mapbox\": {\"style\": \"light\"}, \"paper_bgcolor\": \"white\", \"plot_bgcolor\": \"#E5ECF6\", \"polar\": {\"angularaxis\": {\"gridcolor\": \"white\", \"linecolor\": \"white\", \"ticks\": \"\"}, \"bgcolor\": \"#E5ECF6\", \"radialaxis\": {\"gridcolor\": \"white\", \"linecolor\": \"white\", \"ticks\": \"\"}}, \"scene\": {\"xaxis\": {\"backgroundcolor\": \"#E5ECF6\", \"gridcolor\": \"white\", \"gridwidth\": 2, \"linecolor\": \"white\", \"showbackground\": true, \"ticks\": \"\", \"zerolinecolor\": \"white\"}, \"yaxis\": {\"backgroundcolor\": \"#E5ECF6\", \"gridcolor\": \"white\", \"gridwidth\": 2, \"linecolor\": \"white\", \"showbackground\": true, \"ticks\": \"\", \"zerolinecolor\": \"white\"}, \"zaxis\": {\"backgroundcolor\": \"#E5ECF6\", \"gridcolor\": \"white\", \"gridwidth\": 2, \"linecolor\": \"white\", \"showbackground\": true, \"ticks\": \"\", \"zerolinecolor\": \"white\"}}, \"shapedefaults\": {\"line\": {\"color\": \"#2a3f5f\"}}, \"ternary\": {\"aaxis\": {\"gridcolor\": \"white\", \"linecolor\": \"white\", \"ticks\": \"\"}, \"baxis\": {\"gridcolor\": \"white\", \"linecolor\": \"white\", \"ticks\": \"\"}, \"bgcolor\": \"#E5ECF6\", \"caxis\": {\"gridcolor\": \"white\", \"linecolor\": \"white\", \"ticks\": \"\"}}, \"title\": {\"x\": 0.05}, \"xaxis\": {\"automargin\": true, \"gridcolor\": \"white\", \"linecolor\": \"white\", \"ticks\": \"\", \"title\": {\"standoff\": 15}, \"zerolinecolor\": \"white\", \"zerolinewidth\": 2}, \"yaxis\": {\"automargin\": true, \"gridcolor\": \"white\", \"linecolor\": \"white\", \"ticks\": \"\", \"title\": {\"standoff\": 15}, \"zerolinecolor\": \"white\", \"zerolinewidth\": 2}}}, \"title\": {\"text\": \"Best Selling Game of the Year\"}, \"xaxis\": {\"tickangle\": -90, \"tickfont\": {\"size\": 11}, \"ticklen\": 8, \"tickmode\": \"linear\", \"tickwidth\": 6, \"title\": {\"text\": \"Year\"}, \"zeroline\": false}, \"yaxis\": {\"title\": {\"text\": \"All Sales\"}}},\n",
              "                        {\"responsive\": true}\n",
              "                    ).then(function(){\n",
              "                            \n",
              "var gd = document.getElementById('d7a2090a-8c1a-4c83-899b-e0c4bb423a98');\n",
              "var x = new MutationObserver(function (mutations, observer) {{\n",
              "        var display = window.getComputedStyle(gd).display;\n",
              "        if (!display || display === 'none') {{\n",
              "            console.log([gd, 'removed!']);\n",
              "            Plotly.purge(gd);\n",
              "            observer.disconnect();\n",
              "        }}\n",
              "}});\n",
              "\n",
              "// Listen for the removal of the full notebook cells\n",
              "var notebookContainer = gd.closest('#notebook-container');\n",
              "if (notebookContainer) {{\n",
              "    x.observe(notebookContainer, {childList: true});\n",
              "}}\n",
              "\n",
              "// Listen for the clearing of the current output cell\n",
              "var outputEl = gd.closest('.output');\n",
              "if (outputEl) {{\n",
              "    x.observe(outputEl, {childList: true});\n",
              "}}\n",
              "\n",
              "                        })\n",
              "                };\n",
              "                \n",
              "            </script>\n",
              "        </div>\n",
              "</body>\n",
              "</html>"
            ]
          },
          "metadata": {
            "tags": []
          }
        }
      ]
    },
    {
      "cell_type": "markdown",
      "metadata": {
        "id": "BcYoevVlABPO"
      },
      "source": [
        "게임 유통사별 가장 유명한 게임들 리스트\r\n",
        "\r\n",
        "- Electornic Arts(1982년 창립): FIFA, Battlefield\r\n",
        "\r\n",
        "- Activision(1979년 창립): Call of Duty, Sekiro, Destiny, 둠\r\n",
        "\r\n",
        "- Namco Bandai Games(2006년 게임 부문 통합): Dragon Ball\r\n",
        "\r\n",
        "- Ubisoft(1986년): 레이맨, 톰 클랜시, 에쌔신 크리드\r\n",
        "\r\n",
        "- Konami Digital Entertainment(1969년): 남극탐험, 프로야구 \r\n",
        "\r\n",
        "- THQ(1990년 창립 - 2013년 해제): 컴퍼니 오브 히어로즈, 워해머\r\n",
        "\r\n",
        "- Nintendo(1970년대 비디오게임 회사로 확장): 슈퍼마리오, 포켓몬, 동물의 숲 \r\n",
        "\r\n",
        "- Sony Computer Entertainment(1993): 파이널 판타지, 갓오브워\r\n"
      ]
    },
    {
      "cell_type": "markdown",
      "metadata": {
        "id": "-gQiwraZ4Qd-"
      },
      "source": [
        "### 년도별 출시 상황"
      ]
    },
    {
      "cell_type": "markdown",
      "metadata": {
        "id": "Hqk4e-JdMJ_5"
      },
      "source": [
        "2009년 가장 많은 게임이 출시됐고, 2000년대 강세를 보이지만 2017년에 가장 적게 게임이 출시 됐다는 결과가 나왔다. "
      ]
    },
    {
      "cell_type": "code",
      "metadata": {
        "colab": {
          "base_uri": "https://localhost:8080/",
          "height": 627
        },
        "id": "UqdMJVk9Kbyo",
        "outputId": "c815f00b-3ccf-4203-f33c-c04c66891430"
      },
      "source": [
        "df2['Year'].value_counts().sort_values(ascending=False)\r\n",
        "plt.figure(figsize = (15,10))\r\n",
        "plt.title('Games Sales per Year')\r\n",
        "sns.countplot(y='Year', data=df2)\r\n",
        "plt.show()"
      ],
      "execution_count": 443,
      "outputs": [
        {
          "output_type": "display_data",
          "data": {
            "image/png": "[encoded data removed]",
            "text/plain": [
              "<Figure size 1080x720 with 1 Axes>"
            ]
          },
          "metadata": {
            "tags": [],
            "needs_background": "light"
          }
        }
      ]
    },
    {
      "cell_type": "markdown",
      "metadata": {
        "id": "3i8z3SnzOSfy"
      },
      "source": [
        "가장 많이 출시된 플렛폼 게임은 DS, PS2인 것으로 나타났다. "
      ]
    },
    {
      "cell_type": "code",
      "metadata": {
        "colab": {
          "base_uri": "https://localhost:8080/",
          "height": 627
        },
        "id": "lqDDDLapKN4V",
        "outputId": "bebe0182-0bca-4702-920e-45d7c386a025"
      },
      "source": [
        "plt.figure(figsize = (15,10))\r\n",
        "plt.title('Games per platforms')\r\n",
        "sns.countplot(y='Platform', data=df2)\r\n",
        "plt.show()"
      ],
      "execution_count": 444,
      "outputs": [
        {
          "output_type": "display_data",
          "data": {
            "image/png": "[encoded data removed]",
            "text/plain": [
              "<Figure size 1080x720 with 1 Axes>"
            ]
          },
          "metadata": {
            "tags": [],
            "needs_background": "light"
          }
        }
      ]
    },
    {
      "cell_type": "markdown",
      "metadata": {
        "id": "XtXz9g2fP3ZO"
      },
      "source": [
        "전체 판매량을 보면 The Legend of Zelda: Ocarina of Time 판매량이 가장 높음. 닌텐도 게임(N64), 휴대용 게임기 GBA 판매량이 높았음. "
      ]
    },
    {
      "cell_type": "code",
      "metadata": {
        "colab": {
          "base_uri": "https://localhost:8080/",
          "height": 195
        },
        "id": "eN9-RRr4P29r",
        "outputId": "0abccd6b-8084-4f27-f829-2e2b22380242"
      },
      "source": [
        "sales_All_sorted_df = df2.sort_values(by = ['All_Sales'], ascending = False)\r\n",
        "sales_All_sorted_df.head()[['Name', 'All_Sales', 'Publisher', 'Platform']]"
      ],
      "execution_count": 446,
      "outputs": [
        {
          "output_type": "execute_result",
          "data": {
            "text/html": [
              "<div>\n",
              "<style scoped>\n",
              "    .dataframe tbody tr th:only-of-type {\n",
              "        vertical-align: middle;\n",
              "    }\n",
              "\n",
              "    .dataframe tbody tr th {\n",
              "        vertical-align: top;\n",
              "    }\n",
              "\n",
              "    .dataframe thead th {\n",
              "        text-align: right;\n",
              "    }\n",
              "</style>\n",
              "<table border=\"1\" class=\"dataframe\">\n",
              "  <thead>\n",
              "    <tr style=\"text-align: right;\">\n",
              "      <th></th>\n",
              "      <th>Name</th>\n",
              "      <th>All_Sales</th>\n",
              "      <th>Publisher</th>\n",
              "      <th>Platform</th>\n",
              "    </tr>\n",
              "  </thead>\n",
              "  <tbody>\n",
              "    <tr>\n",
              "      <th>1964</th>\n",
              "      <td>The Legend of Zelda: Ocarina of Time</td>\n",
              "      <td>4.100000e+09</td>\n",
              "      <td>Nintendo</td>\n",
              "      <td>N64</td>\n",
              "    </tr>\n",
              "    <tr>\n",
              "      <th>9829</th>\n",
              "      <td>Super Mario Bros. 3</td>\n",
              "      <td>2.930000e+09</td>\n",
              "      <td>Nintendo</td>\n",
              "      <td>GBA</td>\n",
              "    </tr>\n",
              "    <tr>\n",
              "      <th>3589</th>\n",
              "      <td>Final Fantasy IX</td>\n",
              "      <td>2.780000e+09</td>\n",
              "      <td>SquareSoft</td>\n",
              "      <td>PS</td>\n",
              "    </tr>\n",
              "    <tr>\n",
              "      <th>13935</th>\n",
              "      <td>Crash Team Racing</td>\n",
              "      <td>2.570000e+09</td>\n",
              "      <td>Sony Computer Entertainment</td>\n",
              "      <td>PS</td>\n",
              "    </tr>\n",
              "    <tr>\n",
              "      <th>1629</th>\n",
              "      <td>Assassin's Creed III</td>\n",
              "      <td>2.560000e+09</td>\n",
              "      <td>Ubisoft</td>\n",
              "      <td>PS3</td>\n",
              "    </tr>\n",
              "  </tbody>\n",
              "</table>\n",
              "</div>"
            ],
            "text/plain": [
              "                                       Name  ...  Platform\n",
              "1964   The Legend of Zelda: Ocarina of Time  ...       N64\n",
              "9829                    Super Mario Bros. 3  ...       GBA\n",
              "3589                       Final Fantasy IX  ...        PS\n",
              "13935                     Crash Team Racing  ...        PS\n",
              "1629                   Assassin's Creed III  ...       PS3\n",
              "\n",
              "[5 rows x 4 columns]"
            ]
          },
          "metadata": {
            "tags": []
          },
          "execution_count": 446
        }
      ]
    },
    {
      "cell_type": "markdown",
      "metadata": {
        "id": "kVum5hEqOulj"
      },
      "source": [
        "NA 지역에선 The Legend of Zelda의 판매량이 가장 높게 나왔음.\r\n"
      ]
    },
    {
      "cell_type": "code",
      "metadata": {
        "colab": {
          "base_uri": "https://localhost:8080/",
          "height": 195
        },
        "id": "skEToPcSMHSS",
        "outputId": "4b5a4ad1-a97a-471c-eb7f-cf53182b8923"
      },
      "source": [
        "sales_NA_sorted_df = df2.sort_values(by = ['NA_Sales'], ascending = False)\r\n",
        "sales_NA_sorted_df.head()[['Name', 'NA_Sales', 'Publisher', 'Platform']]"
      ],
      "execution_count": 447,
      "outputs": [
        {
          "output_type": "execute_result",
          "data": {
            "text/html": [
              "<div>\n",
              "<style scoped>\n",
              "    .dataframe tbody tr th:only-of-type {\n",
              "        vertical-align: middle;\n",
              "    }\n",
              "\n",
              "    .dataframe tbody tr th {\n",
              "        vertical-align: top;\n",
              "    }\n",
              "\n",
              "    .dataframe thead th {\n",
              "        text-align: right;\n",
              "    }\n",
              "</style>\n",
              "<table border=\"1\" class=\"dataframe\">\n",
              "  <thead>\n",
              "    <tr style=\"text-align: right;\">\n",
              "      <th></th>\n",
              "      <th>Name</th>\n",
              "      <th>NA_Sales</th>\n",
              "      <th>Publisher</th>\n",
              "      <th>Platform</th>\n",
              "    </tr>\n",
              "  </thead>\n",
              "  <tbody>\n",
              "    <tr>\n",
              "      <th>1964</th>\n",
              "      <td>The Legend of Zelda: Ocarina of Time</td>\n",
              "      <td>4.100000e+09</td>\n",
              "      <td>Nintendo</td>\n",
              "      <td>N64</td>\n",
              "    </tr>\n",
              "    <tr>\n",
              "      <th>9829</th>\n",
              "      <td>Super Mario Bros. 3</td>\n",
              "      <td>2.930000e+09</td>\n",
              "      <td>Nintendo</td>\n",
              "      <td>GBA</td>\n",
              "    </tr>\n",
              "    <tr>\n",
              "      <th>13935</th>\n",
              "      <td>Crash Team Racing</td>\n",
              "      <td>2.570000e+09</td>\n",
              "      <td>Sony Computer Entertainment</td>\n",
              "      <td>PS</td>\n",
              "    </tr>\n",
              "    <tr>\n",
              "      <th>11996</th>\n",
              "      <td>Guitar Hero II</td>\n",
              "      <td>2.010000e+09</td>\n",
              "      <td>Activision</td>\n",
              "      <td>X360</td>\n",
              "    </tr>\n",
              "    <tr>\n",
              "      <th>9791</th>\n",
              "      <td>Call of Duty: Ghosts</td>\n",
              "      <td>1.780000e+09</td>\n",
              "      <td>Activision</td>\n",
              "      <td>PS4</td>\n",
              "    </tr>\n",
              "  </tbody>\n",
              "</table>\n",
              "</div>"
            ],
            "text/plain": [
              "                                       Name  ...  Platform\n",
              "1964   The Legend of Zelda: Ocarina of Time  ...       N64\n",
              "9829                    Super Mario Bros. 3  ...       GBA\n",
              "13935                     Crash Team Racing  ...        PS\n",
              "11996                        Guitar Hero II  ...      X360\n",
              "9791                   Call of Duty: Ghosts  ...       PS4\n",
              "\n",
              "[5 rows x 4 columns]"
            ]
          },
          "metadata": {
            "tags": []
          },
          "execution_count": 447
        }
      ]
    },
    {
      "cell_type": "markdown",
      "metadata": {
        "id": "5hFQe4XMO6GQ"
      },
      "source": [
        "EU 지역에선 어세신스 크리드의 판매량이 가장 높게 나왔음."
      ]
    },
    {
      "cell_type": "code",
      "metadata": {
        "colab": {
          "base_uri": "https://localhost:8080/",
          "height": 195
        },
        "id": "6e7g2WX7Mu5U",
        "outputId": "e204f1fc-d3ca-4afd-b8c3-e15366611931"
      },
      "source": [
        "sales_NA_sorted_df = df2.sort_values(by = ['EU_Sales'], ascending = False)\r\n",
        "sales_NA_sorted_df.head()[['Name', 'EU_Sales', 'Publisher', 'Platform']]"
      ],
      "execution_count": 448,
      "outputs": [
        {
          "output_type": "execute_result",
          "data": {
            "text/html": [
              "<div>\n",
              "<style scoped>\n",
              "    .dataframe tbody tr th:only-of-type {\n",
              "        vertical-align: middle;\n",
              "    }\n",
              "\n",
              "    .dataframe tbody tr th {\n",
              "        vertical-align: top;\n",
              "    }\n",
              "\n",
              "    .dataframe thead th {\n",
              "        text-align: right;\n",
              "    }\n",
              "</style>\n",
              "<table border=\"1\" class=\"dataframe\">\n",
              "  <thead>\n",
              "    <tr style=\"text-align: right;\">\n",
              "      <th></th>\n",
              "      <th>Name</th>\n",
              "      <th>EU_Sales</th>\n",
              "      <th>Publisher</th>\n",
              "      <th>Platform</th>\n",
              "    </tr>\n",
              "  </thead>\n",
              "  <tbody>\n",
              "    <tr>\n",
              "      <th>1629</th>\n",
              "      <td>Assassin's Creed III</td>\n",
              "      <td>2.560000e+09</td>\n",
              "      <td>Ubisoft</td>\n",
              "      <td>PS3</td>\n",
              "    </tr>\n",
              "    <tr>\n",
              "      <th>8010</th>\n",
              "      <td>Battlefield 3</td>\n",
              "      <td>2.130000e+09</td>\n",
              "      <td>Electronic Arts</td>\n",
              "      <td>X360</td>\n",
              "    </tr>\n",
              "    <tr>\n",
              "      <th>5024</th>\n",
              "      <td>WWF SmackDown!</td>\n",
              "      <td>1.350000e+09</td>\n",
              "      <td>THQ</td>\n",
              "      <td>PS</td>\n",
              "    </tr>\n",
              "    <tr>\n",
              "      <th>14318</th>\n",
              "      <td>Viva Pinata</td>\n",
              "      <td>9.600000e+08</td>\n",
              "      <td>Microsoft Game Studios</td>\n",
              "      <td>X360</td>\n",
              "    </tr>\n",
              "    <tr>\n",
              "      <th>972</th>\n",
              "      <td>Smarty Pants</td>\n",
              "      <td>7.600000e+08</td>\n",
              "      <td>Electronic Arts</td>\n",
              "      <td>Wii</td>\n",
              "    </tr>\n",
              "  </tbody>\n",
              "</table>\n",
              "</div>"
            ],
            "text/plain": [
              "                       Name      EU_Sales               Publisher Platform\n",
              "1629   Assassin's Creed III  2.560000e+09                 Ubisoft      PS3\n",
              "8010          Battlefield 3  2.130000e+09         Electronic Arts     X360\n",
              "5024         WWF SmackDown!  1.350000e+09                     THQ       PS\n",
              "14318           Viva Pinata  9.600000e+08  Microsoft Game Studios     X360\n",
              "972            Smarty Pants  7.600000e+08         Electronic Arts      Wii"
            ]
          },
          "metadata": {
            "tags": []
          },
          "execution_count": 448
        }
      ]
    },
    {
      "cell_type": "markdown",
      "metadata": {
        "id": "DjP3X_raPT7p"
      },
      "source": [
        "JP 지역에선 파이널 판타지의 판매량이 가장 높게 나왔음."
      ]
    },
    {
      "cell_type": "code",
      "metadata": {
        "colab": {
          "base_uri": "https://localhost:8080/",
          "height": 195
        },
        "id": "6Cj_SO-wMvCa",
        "outputId": "0936b073-33e7-4a1e-ec88-6c5611230d78"
      },
      "source": [
        "sales_JP_sorted_df = df2.sort_values(by = ['JP_Sales'], ascending = False)\r\n",
        "sales_JP_sorted_df.head()[['Name', 'JP_Sales', 'Publisher', 'Platform']]"
      ],
      "execution_count": 449,
      "outputs": [
        {
          "output_type": "execute_result",
          "data": {
            "text/html": [
              "<div>\n",
              "<style scoped>\n",
              "    .dataframe tbody tr th:only-of-type {\n",
              "        vertical-align: middle;\n",
              "    }\n",
              "\n",
              "    .dataframe tbody tr th {\n",
              "        vertical-align: top;\n",
              "    }\n",
              "\n",
              "    .dataframe thead th {\n",
              "        text-align: right;\n",
              "    }\n",
              "</style>\n",
              "<table border=\"1\" class=\"dataframe\">\n",
              "  <thead>\n",
              "    <tr style=\"text-align: right;\">\n",
              "      <th></th>\n",
              "      <th>Name</th>\n",
              "      <th>JP_Sales</th>\n",
              "      <th>Publisher</th>\n",
              "      <th>Platform</th>\n",
              "    </tr>\n",
              "  </thead>\n",
              "  <tbody>\n",
              "    <tr>\n",
              "      <th>3589</th>\n",
              "      <td>Final Fantasy IX</td>\n",
              "      <td>2.780000e+09</td>\n",
              "      <td>SquareSoft</td>\n",
              "      <td>PS</td>\n",
              "    </tr>\n",
              "    <tr>\n",
              "      <th>9464</th>\n",
              "      <td>Densha De Go!</td>\n",
              "      <td>1.020000e+09</td>\n",
              "      <td>Taito</td>\n",
              "      <td>PS</td>\n",
              "    </tr>\n",
              "    <tr>\n",
              "      <th>6167</th>\n",
              "      <td>Resident Evil Director's Cut</td>\n",
              "      <td>4.700000e+08</td>\n",
              "      <td>Virgin Interactive</td>\n",
              "      <td>PS</td>\n",
              "    </tr>\n",
              "    <tr>\n",
              "      <th>6342</th>\n",
              "      <td>Kirby's Dream Collection: Special Edition</td>\n",
              "      <td>3.300000e+08</td>\n",
              "      <td>Nintendo</td>\n",
              "      <td>Wii</td>\n",
              "    </tr>\n",
              "    <tr>\n",
              "      <th>9995</th>\n",
              "      <td>Virtua Racing</td>\n",
              "      <td>2.600000e+08</td>\n",
              "      <td>Sega</td>\n",
              "      <td>GEN</td>\n",
              "    </tr>\n",
              "  </tbody>\n",
              "</table>\n",
              "</div>"
            ],
            "text/plain": [
              "                                           Name  ...  Platform\n",
              "3589                           Final Fantasy IX  ...        PS\n",
              "9464                              Densha De Go!  ...        PS\n",
              "6167               Resident Evil Director's Cut  ...        PS\n",
              "6342  Kirby's Dream Collection: Special Edition  ...       Wii\n",
              "9995                              Virtua Racing  ...       GEN\n",
              "\n",
              "[5 rows x 4 columns]"
            ]
          },
          "metadata": {
            "tags": []
          },
          "execution_count": 449
        }
      ]
    },
    {
      "cell_type": "markdown",
      "metadata": {
        "id": "ofDTU6FcPrCF"
      },
      "source": [
        "Other 지역에선 The Witcher 3: Wild Hunt의 판매량이 가장 높게 나왔음."
      ]
    },
    {
      "cell_type": "code",
      "metadata": {
        "colab": {
          "base_uri": "https://localhost:8080/",
          "height": 195
        },
        "id": "2vRjC0XXMuDm",
        "outputId": "f45f3d0f-32e9-4aa6-ca2d-c11ae5d82522"
      },
      "source": [
        "Other_sorted_df = df2.sort_values(by = ['Other_Sales'], ascending = False)\r\n",
        "Other_sorted_df.head()[['Name', 'Other_Sales', 'Publisher', 'Platform']]"
      ],
      "execution_count": 450,
      "outputs": [
        {
          "output_type": "execute_result",
          "data": {
            "text/html": [
              "<div>\n",
              "<style scoped>\n",
              "    .dataframe tbody tr th:only-of-type {\n",
              "        vertical-align: middle;\n",
              "    }\n",
              "\n",
              "    .dataframe tbody tr th {\n",
              "        vertical-align: top;\n",
              "    }\n",
              "\n",
              "    .dataframe thead th {\n",
              "        text-align: right;\n",
              "    }\n",
              "</style>\n",
              "<table border=\"1\" class=\"dataframe\">\n",
              "  <thead>\n",
              "    <tr style=\"text-align: right;\">\n",
              "      <th></th>\n",
              "      <th>Name</th>\n",
              "      <th>Other_Sales</th>\n",
              "      <th>Publisher</th>\n",
              "      <th>Platform</th>\n",
              "    </tr>\n",
              "  </thead>\n",
              "  <tbody>\n",
              "    <tr>\n",
              "      <th>15567</th>\n",
              "      <td>The Witcher 3: Wild Hunt</td>\n",
              "      <td>560000000.0</td>\n",
              "      <td>Namco Bandai Games</td>\n",
              "      <td>PS4</td>\n",
              "    </tr>\n",
              "    <tr>\n",
              "      <th>5374</th>\n",
              "      <td>Resident Evil 5</td>\n",
              "      <td>340000000.0</td>\n",
              "      <td>Capcom</td>\n",
              "      <td>X360</td>\n",
              "    </tr>\n",
              "    <tr>\n",
              "      <th>14129</th>\n",
              "      <td>Need for Speed Rivals</td>\n",
              "      <td>310000000.0</td>\n",
              "      <td>Electronic Arts</td>\n",
              "      <td>PS3</td>\n",
              "    </tr>\n",
              "    <tr>\n",
              "      <th>15720</th>\n",
              "      <td>Madden NFL 09</td>\n",
              "      <td>270000000.0</td>\n",
              "      <td>Electronic Arts</td>\n",
              "      <td>PS2</td>\n",
              "    </tr>\n",
              "    <tr>\n",
              "      <th>7703</th>\n",
              "      <td>Saints Row 2</td>\n",
              "      <td>270000000.0</td>\n",
              "      <td>THQ</td>\n",
              "      <td>X360</td>\n",
              "    </tr>\n",
              "  </tbody>\n",
              "</table>\n",
              "</div>"
            ],
            "text/plain": [
              "                           Name  Other_Sales           Publisher Platform\n",
              "15567  The Witcher 3: Wild Hunt  560000000.0  Namco Bandai Games      PS4\n",
              "5374            Resident Evil 5  340000000.0              Capcom     X360\n",
              "14129     Need for Speed Rivals  310000000.0     Electronic Arts      PS3\n",
              "15720             Madden NFL 09  270000000.0     Electronic Arts      PS2\n",
              "7703               Saints Row 2  270000000.0                 THQ     X360"
            ]
          },
          "metadata": {
            "tags": []
          },
          "execution_count": 450
        }
      ]
    },
    {
      "cell_type": "code",
      "metadata": {
        "id": "RgQ945uZ-V3S"
      },
      "source": [
        "from sklearn import datasets\r\n",
        "from sklearn.model_selection import train_test_split\r\n",
        "from sklearn.preprocessing import StandardScaler\r\n",
        "import numpy as np\r\n",
        "import plotly.graph_objects as go"
      ],
      "execution_count": 451,
      "outputs": []
    },
    {
      "cell_type": "code",
      "metadata": {
        "colab": {
          "base_uri": "https://localhost:8080/",
          "height": 542
        },
        "id": "cVPtnqk7EKDD",
        "outputId": "dfe6b552-77c7-49ce-d43c-788fdfed0abf"
      },
      "source": [
        "pub_sales=df2.groupby(['Year','Publisher']).All_Sales.sum().reset_index()\r\n",
        "pub_years=pub_sales.groupby('Year').All_Sales.max().reset_index()\r\n",
        "bestp_of_year=pd.merge(pub_years,pub_sales,on=['Year','All_Sales'],how='left')\r\n",
        "\r\n",
        "trace = go.Bar(x=pub_years.Year,\r\n",
        "               y=pub_years.All_Sales,\r\n",
        "               marker=dict(color=pub_years.All_Sales, colorscale='tropic'),\r\n",
        "               opacity=0.80,\r\n",
        "               name='Bestselling Publisher of the Year',\r\n",
        "               text = Pub_of_Yr['Publisher'],\r\n",
        "               hovertemplate = '<i>Year: %{x}</i>'\r\n",
        "                               '<br><i>Publisher: %{text}</i>'\r\n",
        "                               '<br><i>All Sales: %{y}</i>')\r\n",
        "layout = go.Layout(\r\n",
        "    title='Bestselling Publiser of the Year',\r\n",
        "    xaxis=dict(tickmode = 'linear',tickfont=dict(size=11),\r\n",
        "        title='Year',tickwidth=5,ticklen=8,zeroline=False,\r\n",
        "    tickangle=-90),\r\n",
        "    yaxis=dict(tick0=0,\r\n",
        "        dtick=25,\r\n",
        "        title='All Sales'),\r\n",
        "    bargap=0.2,\r\n",
        "    bargroupgap=0.1, \r\n",
        "    plot_bgcolor=\"white\")\r\n",
        "fig = go.Figure(data=[trace], layout=layout)\r\n",
        "fig"
      ],
      "execution_count": 452,
      "outputs": [
        {
          "output_type": "display_data",
          "data": {
            "text/html": [
              "<html>\n",
              "<head><meta charset=\"utf-8\" /></head>\n",
              "<body>\n",
              "    <div>\n",
              "            <script src=\"https://cdnjs.cloudflare.com/ajax/libs/mathjax/2.7.5/MathJax.js?config=TeX-AMS-MML_SVG\"></script><script type=\"text/javascript\">if (window.MathJax) {MathJax.Hub.Config({SVG: {font: \"STIX-Web\"}});}</script>\n",
              "                <script type=\"text/javascript\">window.PlotlyConfig = {MathJaxConfig: 'local'};</script>\n",
              "        <script src=\"https://cdn.plot.ly/plotly-latest.min.js\"></script>    \n",
              "            <div id=\"014307b9-e818-4d8f-9373-a990cf9c71b4\" class=\"plotly-graph-div\" style=\"height:525px; width:100%;\"></div>\n",
              "            <script type=\"text/javascript\">\n",
              "                \n",
              "                    window.PLOTLYENV=window.PLOTLYENV || {};\n",
              "                    \n",
              "                if (document.getElementById(\"014307b9-e818-4d8f-9373-a990cf9c71b4\")) {\n",
              "                    Plotly.newPlot(\n",
              "                        '014307b9-e818-4d8f-9373-a990cf9c71b4',\n",
              "                        [{\"hovertemplate\": \"<i>Year: %{x}</i><br><i>Publisher: %{text}</i><br><i>All Sales: %{y}</i>\", \"marker\": {\"color\": [8.35, 110000008.30999999, 19.43, 10.959999999999999, 45.550000000000004, 460049.49, 16.169999999999998, 11.95, 190000036.25000003, 60000000.0, 20003.899999999998, 160000000.22, 38.13, 20.04, 260830006.44000003, 340110006.78000003, 470000014.36, 1020000000.07, 4103120040.0799994, 2570000033.6700006, 2780000003.7799997, 480330000.2, 1210060071.0, 2930000034.5299997, 210030005.23, 490030126.85, 960000009.0400001, 2150010008.1900005, 680360082.9599999, 620000023.22, 280400080.09000015, 2180980069.0499997, 2560000034.719999, 2790000040.6500006, 661530042.2399999, 560000014.9399999, 30010000.529999997, 0.04], \"colorscale\": [[0.0, \"rgb(0, 155, 158)\"], [0.16666666666666666, \"rgb(66, 183, 185)\"], [0.3333333333333333, \"rgb(167, 211, 212)\"], [0.5, \"rgb(241, 241, 241)\"], [0.6666666666666666, \"rgb(228, 193, 217)\"], [0.8333333333333334, \"rgb(214, 145, 193)\"], [1.0, \"rgb(199, 93, 171)\"]]}, \"name\": \"Bestselling Publisher of the Year\", \"opacity\": 0.8, \"text\": [\"Atari\", \"Atari\", \"Atari\", \"Nintendo\", \"Nintendo\", \"Nintendo\", \"Nintendo\", \"Nintendo\", \"Nintendo\", \"HAL Laboratory\", \"Capcom\", \"Imagineer\", \"Nintendo\", \"Nintendo\", \"Sega\", \"Sega\", \"Virgin Interactive\", \"Taito\", \"Nintendo\", \"Sony\", \"SquareSoft\", \"Empire Interactive\", \"Electronic Arts\", \"Nintendo\", \"Namco Bandai Games\", \"Nintendo\", \"Microsoft Game Studios\", \"505 Games\", \"Electronic Arts\", \"Sega\", \"Electronic Arts\", \"Electronic Arts\", \"Ubisoft\", \"Activision\", \"Activision\", \"Namco Bandai Games\", \"Nippon Ichi Software\", \"Sega\"], \"type\": \"bar\", \"x\": [1980.0, 1981.0, 1982.0, 1983.0, 1984.0, 1985.0, 1986.0, 1987.0, 1988.0, 1989.0, 1990.0, 1991.0, 1992.0, 1993.0, 1994.0, 1995.0, 1996.0, 1997.0, 1998.0, 1999.0, 2000.0, 2001.0, 2002.0, 2003.0, 2004.0, 2005.0, 2006.0, 2007.0, 2008.0, 2009.0, 2010.0, 2011.0, 2012.0, 2013.0, 2014.0, 2015.0, 2016.0, 2017.0], \"y\": [8.35, 110000008.30999999, 19.43, 10.959999999999999, 45.550000000000004, 460049.49, 16.169999999999998, 11.95, 190000036.25000003, 60000000.0, 20003.899999999998, 160000000.22, 38.13, 20.04, 260830006.44000003, 340110006.78000003, 470000014.36, 1020000000.07, 4103120040.0799994, 2570000033.6700006, 2780000003.7799997, 480330000.2, 1210060071.0, 2930000034.5299997, 210030005.23, 490030126.85, 960000009.0400001, 2150010008.1900005, 680360082.9599999, 620000023.22, 280400080.09000015, 2180980069.0499997, 2560000034.719999, 2790000040.6500006, 661530042.2399999, 560000014.9399999, 30010000.529999997, 0.04]}],\n",
              "                        {\"bargap\": 0.2, \"bargroupgap\": 0.1, \"plot_bgcolor\": \"white\", \"template\": {\"data\": {\"bar\": [{\"error_x\": {\"color\": \"#2a3f5f\"}, \"error_y\": {\"color\": \"#2a3f5f\"}, \"marker\": {\"line\": {\"color\": \"#E5ECF6\", \"width\": 0.5}}, \"type\": \"bar\"}], \"barpolar\": [{\"marker\": {\"line\": {\"color\": \"#E5ECF6\", \"width\": 0.5}}, \"type\": \"barpolar\"}], \"carpet\": [{\"aaxis\": {\"endlinecolor\": \"#2a3f5f\", \"gridcolor\": \"white\", \"linecolor\": \"white\", \"minorgridcolor\": \"white\", \"startlinecolor\": \"#2a3f5f\"}, \"baxis\": {\"endlinecolor\": \"#2a3f5f\", \"gridcolor\": \"white\", \"linecolor\": \"white\", \"minorgridcolor\": \"white\", \"startlinecolor\": \"#2a3f5f\"}, \"type\": \"carpet\"}], \"choropleth\": [{\"colorbar\": {\"outlinewidth\": 0, \"ticks\": \"\"}, \"type\": \"choropleth\"}], \"contour\": [{\"colorbar\": {\"outlinewidth\": 0, \"ticks\": \"\"}, \"colorscale\": [[0.0, \"#0d0887\"], [0.1111111111111111, \"#46039f\"], [0.2222222222222222, \"#7201a8\"], [0.3333333333333333, \"#9c179e\"], [0.4444444444444444, \"#bd3786\"], [0.5555555555555556, \"#d8576b\"], [0.6666666666666666, \"#ed7953\"], [0.7777777777777778, \"#fb9f3a\"], [0.8888888888888888, \"#fdca26\"], [1.0, \"#f0f921\"]], \"type\": \"contour\"}], \"contourcarpet\": [{\"colorbar\": {\"outlinewidth\": 0, \"ticks\": \"\"}, \"type\": \"contourcarpet\"}], \"heatmap\": [{\"colorbar\": {\"outlinewidth\": 0, \"ticks\": \"\"}, \"colorscale\": [[0.0, \"#0d0887\"], [0.1111111111111111, \"#46039f\"], [0.2222222222222222, \"#7201a8\"], [0.3333333333333333, \"#9c179e\"], [0.4444444444444444, \"#bd3786\"], [0.5555555555555556, \"#d8576b\"], [0.6666666666666666, \"#ed7953\"], [0.7777777777777778, \"#fb9f3a\"], [0.8888888888888888, \"#fdca26\"], [1.0, \"#f0f921\"]], \"type\": \"heatmap\"}], \"heatmapgl\": [{\"colorbar\": {\"outlinewidth\": 0, \"ticks\": \"\"}, \"colorscale\": [[0.0, \"#0d0887\"], [0.1111111111111111, \"#46039f\"], [0.2222222222222222, \"#7201a8\"], [0.3333333333333333, \"#9c179e\"], [0.4444444444444444, \"#bd3786\"], [0.5555555555555556, \"#d8576b\"], [0.6666666666666666, \"#ed7953\"], [0.7777777777777778, \"#fb9f3a\"], [0.8888888888888888, \"#fdca26\"], [1.0, \"#f0f921\"]], \"type\": \"heatmapgl\"}], \"histogram\": [{\"marker\": {\"colorbar\": {\"outlinewidth\": 0, \"ticks\": \"\"}}, \"type\": \"histogram\"}], \"histogram2d\": [{\"colorbar\": {\"outlinewidth\": 0, \"ticks\": \"\"}, \"colorscale\": [[0.0, \"#0d0887\"], [0.1111111111111111, \"#46039f\"], [0.2222222222222222, \"#7201a8\"], [0.3333333333333333, \"#9c179e\"], [0.4444444444444444, \"#bd3786\"], [0.5555555555555556, \"#d8576b\"], [0.6666666666666666, \"#ed7953\"], [0.7777777777777778, \"#fb9f3a\"], [0.8888888888888888, \"#fdca26\"], [1.0, \"#f0f921\"]], \"type\": \"histogram2d\"}], \"histogram2dcontour\": [{\"colorbar\": {\"outlinewidth\": 0, \"ticks\": \"\"}, \"colorscale\": [[0.0, \"#0d0887\"], [0.1111111111111111, \"#46039f\"], [0.2222222222222222, \"#7201a8\"], [0.3333333333333333, \"#9c179e\"], [0.4444444444444444, \"#bd3786\"], [0.5555555555555556, \"#d8576b\"], [0.6666666666666666, \"#ed7953\"], [0.7777777777777778, \"#fb9f3a\"], [0.8888888888888888, \"#fdca26\"], [1.0, \"#f0f921\"]], \"type\": \"histogram2dcontour\"}], \"mesh3d\": [{\"colorbar\": {\"outlinewidth\": 0, \"ticks\": \"\"}, \"type\": \"mesh3d\"}], \"parcoords\": [{\"line\": {\"colorbar\": {\"outlinewidth\": 0, \"ticks\": \"\"}}, \"type\": \"parcoords\"}], \"pie\": [{\"automargin\": true, \"type\": \"pie\"}], \"scatter\": [{\"marker\": {\"colorbar\": {\"outlinewidth\": 0, \"ticks\": \"\"}}, \"type\": \"scatter\"}], \"scatter3d\": [{\"line\": {\"colorbar\": {\"outlinewidth\": 0, \"ticks\": \"\"}}, \"marker\": {\"colorbar\": {\"outlinewidth\": 0, \"ticks\": \"\"}}, \"type\": \"scatter3d\"}], \"scattercarpet\": [{\"marker\": {\"colorbar\": {\"outlinewidth\": 0, \"ticks\": \"\"}}, \"type\": \"scattercarpet\"}], \"scattergeo\": [{\"marker\": {\"colorbar\": {\"outlinewidth\": 0, \"ticks\": \"\"}}, \"type\": \"scattergeo\"}], \"scattergl\": [{\"marker\": {\"colorbar\": {\"outlinewidth\": 0, \"ticks\": \"\"}}, \"type\": \"scattergl\"}], \"scattermapbox\": [{\"marker\": {\"colorbar\": {\"outlinewidth\": 0, \"ticks\": \"\"}}, \"type\": \"scattermapbox\"}], \"scatterpolar\": [{\"marker\": {\"colorbar\": {\"outlinewidth\": 0, \"ticks\": \"\"}}, \"type\": \"scatterpolar\"}], \"scatterpolargl\": [{\"marker\": {\"colorbar\": {\"outlinewidth\": 0, \"ticks\": \"\"}}, \"type\": \"scatterpolargl\"}], \"scatterternary\": [{\"marker\": {\"colorbar\": {\"outlinewidth\": 0, \"ticks\": \"\"}}, \"type\": \"scatterternary\"}], \"surface\": [{\"colorbar\": {\"outlinewidth\": 0, \"ticks\": \"\"}, \"colorscale\": [[0.0, \"#0d0887\"], [0.1111111111111111, \"#46039f\"], [0.2222222222222222, \"#7201a8\"], [0.3333333333333333, \"#9c179e\"], [0.4444444444444444, \"#bd3786\"], [0.5555555555555556, \"#d8576b\"], [0.6666666666666666, \"#ed7953\"], [0.7777777777777778, \"#fb9f3a\"], [0.8888888888888888, \"#fdca26\"], [1.0, \"#f0f921\"]], \"type\": \"surface\"}], \"table\": [{\"cells\": {\"fill\": {\"color\": \"#EBF0F8\"}, \"line\": {\"color\": \"white\"}}, \"header\": {\"fill\": {\"color\": \"#C8D4E3\"}, \"line\": {\"color\": \"white\"}}, \"type\": \"table\"}]}, \"layout\": {\"annotationdefaults\": {\"arrowcolor\": \"#2a3f5f\", \"arrowhead\": 0, \"arrowwidth\": 1}, \"coloraxis\": {\"colorbar\": {\"outlinewidth\": 0, \"ticks\": \"\"}}, \"colorscale\": {\"diverging\": [[0, \"#8e0152\"], [0.1, \"#c51b7d\"], [0.2, \"#de77ae\"], [0.3, \"#f1b6da\"], [0.4, \"#fde0ef\"], [0.5, \"#f7f7f7\"], [0.6, \"#e6f5d0\"], [0.7, \"#b8e186\"], [0.8, \"#7fbc41\"], [0.9, \"#4d9221\"], [1, \"#276419\"]], \"sequential\": [[0.0, \"#0d0887\"], [0.1111111111111111, \"#46039f\"], [0.2222222222222222, \"#7201a8\"], [0.3333333333333333, \"#9c179e\"], [0.4444444444444444, \"#bd3786\"], [0.5555555555555556, \"#d8576b\"], [0.6666666666666666, \"#ed7953\"], [0.7777777777777778, \"#fb9f3a\"], [0.8888888888888888, \"#fdca26\"], [1.0, \"#f0f921\"]], \"sequentialminus\": [[0.0, \"#0d0887\"], [0.1111111111111111, \"#46039f\"], [0.2222222222222222, \"#7201a8\"], [0.3333333333333333, \"#9c179e\"], [0.4444444444444444, \"#bd3786\"], [0.5555555555555556, \"#d8576b\"], [0.6666666666666666, \"#ed7953\"], [0.7777777777777778, \"#fb9f3a\"], [0.8888888888888888, \"#fdca26\"], [1.0, \"#f0f921\"]]}, \"colorway\": [\"#636efa\", \"#EF553B\", \"#00cc96\", \"#ab63fa\", \"#FFA15A\", \"#19d3f3\", \"#FF6692\", \"#B6E880\", \"#FF97FF\", \"#FECB52\"], \"font\": {\"color\": \"#2a3f5f\"}, \"geo\": {\"bgcolor\": \"white\", \"lakecolor\": \"white\", \"landcolor\": \"#E5ECF6\", \"showlakes\": true, \"showland\": true, \"subunitcolor\": \"white\"}, \"hoverlabel\": {\"align\": \"left\"}, \"hovermode\": \"closest\", \"mapbox\": {\"style\": \"light\"}, \"paper_bgcolor\": \"white\", \"plot_bgcolor\": \"#E5ECF6\", \"polar\": {\"angularaxis\": {\"gridcolor\": \"white\", \"linecolor\": \"white\", \"ticks\": \"\"}, \"bgcolor\": \"#E5ECF6\", \"radialaxis\": {\"gridcolor\": \"white\", \"linecolor\": \"white\", \"ticks\": \"\"}}, \"scene\": {\"xaxis\": {\"backgroundcolor\": \"#E5ECF6\", \"gridcolor\": \"white\", \"gridwidth\": 2, \"linecolor\": \"white\", \"showbackground\": true, \"ticks\": \"\", \"zerolinecolor\": \"white\"}, \"yaxis\": {\"backgroundcolor\": \"#E5ECF6\", \"gridcolor\": \"white\", \"gridwidth\": 2, \"linecolor\": \"white\", \"showbackground\": true, \"ticks\": \"\", \"zerolinecolor\": \"white\"}, \"zaxis\": {\"backgroundcolor\": \"#E5ECF6\", \"gridcolor\": \"white\", \"gridwidth\": 2, \"linecolor\": \"white\", \"showbackground\": true, \"ticks\": \"\", \"zerolinecolor\": \"white\"}}, \"shapedefaults\": {\"line\": {\"color\": \"#2a3f5f\"}}, \"ternary\": {\"aaxis\": {\"gridcolor\": \"white\", \"linecolor\": \"white\", \"ticks\": \"\"}, \"baxis\": {\"gridcolor\": \"white\", \"linecolor\": \"white\", \"ticks\": \"\"}, \"bgcolor\": \"#E5ECF6\", \"caxis\": {\"gridcolor\": \"white\", \"linecolor\": \"white\", \"ticks\": \"\"}}, \"title\": {\"x\": 0.05}, \"xaxis\": {\"automargin\": true, \"gridcolor\": \"white\", \"linecolor\": \"white\", \"ticks\": \"\", \"title\": {\"standoff\": 15}, \"zerolinecolor\": \"white\", \"zerolinewidth\": 2}, \"yaxis\": {\"automargin\": true, \"gridcolor\": \"white\", \"linecolor\": \"white\", \"ticks\": \"\", \"title\": {\"standoff\": 15}, \"zerolinecolor\": \"white\", \"zerolinewidth\": 2}}}, \"title\": {\"text\": \"Bestselling Publiser of the Year\"}, \"xaxis\": {\"tickangle\": -90, \"tickfont\": {\"size\": 11}, \"ticklen\": 8, \"tickmode\": \"linear\", \"tickwidth\": 5, \"title\": {\"text\": \"Year\"}, \"zeroline\": false}, \"yaxis\": {\"dtick\": 25, \"tick0\": 0, \"title\": {\"text\": \"All Sales\"}}},\n",
              "                        {\"responsive\": true}\n",
              "                    ).then(function(){\n",
              "                            \n",
              "var gd = document.getElementById('014307b9-e818-4d8f-9373-a990cf9c71b4');\n",
              "var x = new MutationObserver(function (mutations, observer) {{\n",
              "        var display = window.getComputedStyle(gd).display;\n",
              "        if (!display || display === 'none') {{\n",
              "            console.log([gd, 'removed!']);\n",
              "            Plotly.purge(gd);\n",
              "            observer.disconnect();\n",
              "        }}\n",
              "}});\n",
              "\n",
              "// Listen for the removal of the full notebook cells\n",
              "var notebookContainer = gd.closest('#notebook-container');\n",
              "if (notebookContainer) {{\n",
              "    x.observe(notebookContainer, {childList: true});\n",
              "}}\n",
              "\n",
              "// Listen for the clearing of the current output cell\n",
              "var outputEl = gd.closest('.output');\n",
              "if (outputEl) {{\n",
              "    x.observe(outputEl, {childList: true});\n",
              "}}\n",
              "\n",
              "                        })\n",
              "                };\n",
              "                \n",
              "            </script>\n",
              "        </div>\n",
              "</body>\n",
              "</html>"
            ]
          },
          "metadata": {
            "tags": []
          }
        }
      ]
    },
    {
      "cell_type": "markdown",
      "metadata": {
        "id": "vt8VSjGaiBLq"
      },
      "source": [
        "#### 닌텐도사의 N64게임 젤다의 전설의 판매랑이 북미 지역에서 가장 높았고, 유럽연합에선 유비소프트사의 PS3 게임 어세신스 크리드가 가장 높은 판매량을 기록했다. 일본에선 스퀘어소프트사의 파이널판타지가, 기타 지역에선 남코반다의 더 위처3 PS4 게임이 가장 높은 판매량을 나타냈다."
      ]
    },
    {
      "cell_type": "markdown",
      "metadata": {
        "id": "9GGF_MjDHYpY"
      },
      "source": [
        "##10년 주기로 게임 비교"
      ]
    },
    {
      "cell_type": "code",
      "metadata": {
        "id": "-9DOoUJJGlwq"
      },
      "source": [
        "df19=df2[df2['Year']<=2000]\r\n",
        "df20=df2[(df2['Year']>2000) & (df2['Year']<=2010)]\r\n",
        "df21=df2[df2['Year']>2010]"
      ],
      "execution_count": 453,
      "outputs": []
    },
    {
      "cell_type": "code",
      "metadata": {
        "colab": {
          "base_uri": "https://localhost:8080/",
          "height": 195
        },
        "id": "H9zO34R7HrJe",
        "outputId": "5192a5d2-706e-43ba-d5d3-9b6da3dc7853"
      },
      "source": [
        "index = ['NA', 'EU', 'JP', 'Other Country', 'All']\r\n",
        " \r\n",
        "newdf=pd.DataFrame({'1990':[df19['NA_Sales'].sum(), # 2000년대 이전의 게임들\r\n",
        "                                      df19['EU_Sales'].sum(),\r\n",
        "                                      df19['JP_Sales'].sum(),\r\n",
        "                                      df19['Other_Sales'].sum(),\r\n",
        "                                      df19['All_Sales'].sum()],\r\n",
        "                      '2010':[df20['NA_Sales'].sum(), #2001년부터 2010년 사이의 게임\r\n",
        "                                      df20['EU_Sales'].sum(),\r\n",
        "                                      df20['JP_Sales'].sum(),\r\n",
        "                              df20['Other_Sales'].sum(),\r\n",
        "                              df20['All_Sales'].sum()],\r\n",
        "                    '2020':[df21['NA_Sales'].sum(), #2011년 이후의 게임\r\n",
        "                                      df21['EU_Sales'].sum(),\r\n",
        "                                      df21['JP_Sales'].sum(),\r\n",
        "                                      df21['Other_Sales'].sum(),\r\n",
        "                                      df21['All_Sales'].sum()]},index=index)\r\n",
        "\r\n",
        "newdf"
      ],
      "execution_count": 454,
      "outputs": [
        {
          "output_type": "execute_result",
          "data": {
            "text/html": [
              "<div>\n",
              "<style scoped>\n",
              "    .dataframe tbody tr th:only-of-type {\n",
              "        vertical-align: middle;\n",
              "    }\n",
              "\n",
              "    .dataframe tbody tr th {\n",
              "        vertical-align: top;\n",
              "    }\n",
              "\n",
              "    .dataframe thead th {\n",
              "        text-align: right;\n",
              "    }\n",
              "</style>\n",
              "<table border=\"1\" class=\"dataframe\">\n",
              "  <thead>\n",
              "    <tr style=\"text-align: right;\">\n",
              "      <th></th>\n",
              "      <th>1990</th>\n",
              "      <th>2010</th>\n",
              "      <th>2020</th>\n",
              "    </tr>\n",
              "  </thead>\n",
              "  <tbody>\n",
              "    <tr>\n",
              "      <th>NA</th>\n",
              "      <td>9.496461e+09</td>\n",
              "      <td>1.434092e+10</td>\n",
              "      <td>7.484621e+09</td>\n",
              "    </tr>\n",
              "    <tr>\n",
              "      <th>EU</th>\n",
              "      <td>1.773690e+09</td>\n",
              "      <td>6.129841e+09</td>\n",
              "      <td>7.255661e+09</td>\n",
              "    </tr>\n",
              "    <tr>\n",
              "      <th>JP</th>\n",
              "      <td>5.186941e+09</td>\n",
              "      <td>1.404991e+09</td>\n",
              "      <td>1.040410e+09</td>\n",
              "    </tr>\n",
              "    <tr>\n",
              "      <th>Other Country</th>\n",
              "      <td>3.704101e+08</td>\n",
              "      <td>2.012261e+09</td>\n",
              "      <td>1.390990e+09</td>\n",
              "    </tr>\n",
              "    <tr>\n",
              "      <th>All</th>\n",
              "      <td>1.682750e+10</td>\n",
              "      <td>2.388801e+10</td>\n",
              "      <td>1.717168e+10</td>\n",
              "    </tr>\n",
              "  </tbody>\n",
              "</table>\n",
              "</div>"
            ],
            "text/plain": [
              "                       1990          2010          2020\n",
              "NA             9.496461e+09  1.434092e+10  7.484621e+09\n",
              "EU             1.773690e+09  6.129841e+09  7.255661e+09\n",
              "JP             5.186941e+09  1.404991e+09  1.040410e+09\n",
              "Other Country  3.704101e+08  2.012261e+09  1.390990e+09\n",
              "All            1.682750e+10  2.388801e+10  1.717168e+10"
            ]
          },
          "metadata": {
            "tags": []
          },
          "execution_count": 454
        }
      ]
    },
    {
      "cell_type": "code",
      "metadata": {
        "colab": {
          "base_uri": "https://localhost:8080/",
          "height": 518
        },
        "id": "jKisr7SpI1JK",
        "outputId": "0e44ce02-b382-4a9c-de41-9d902e0da558"
      },
      "source": [
        "sns.set_style(\"white\")\r\n",
        "\r\n",
        "newdf.plot(kind='bar',figsize=(12,8),color=['#EE5A24','#009432', '#FFC312'])\r\n",
        "plt.xticks(rotation=0)\r\n",
        "plt.title('Sales Century',fontdict={'fontsize':12.5})\r\n",
        "plt.xlabel('Country',fontdict={'fontsize':12})\r\n",
        "plt.ylabel('Sales',fontdict={'fontsize':12});\r\n",
        "plt.show()"
      ],
      "execution_count": 455,
      "outputs": [
        {
          "output_type": "display_data",
          "data": {
            "image/png": "[encoded data removed]",
            "text/plain": [
              "<Figure size 864x576 with 1 Axes>"
            ]
          },
          "metadata": {
            "tags": []
          }
        }
      ]
    },
    {
      "cell_type": "markdown",
      "metadata": {
        "id": "M64C5h6GvhQq"
      },
      "source": [
        "####최근 10년간 가장 인기있는 장르"
      ]
    },
    {
      "cell_type": "code",
      "metadata": {
        "colab": {
          "base_uri": "https://localhost:8080/",
          "height": 979
        },
        "id": "SXiYnhtUu2uy",
        "outputId": "f6db9c6d-e0bc-46e3-f91c-15c1013c5e1f"
      },
      "source": [
        "fig=plt.figure(figsize=(10,15))\r\n",
        "plt.subplots_adjust(left=None, wspace=0.20, hspace=0.95)\r\n",
        "sns.set_style(\"white\")\r\n",
        "\r\n",
        "plt.title('Best Game Genre in 10 years',fontdict={'fontsize':16})\r\n",
        "sns.set_style(\"white\")\r\n",
        "plt.xticks(fontsize=14)\r\n",
        "plt.yticks(fontsize=14)\r\n",
        "plt.xticks(rotation=90)\r\n",
        "sns.barplot(x=df21.Genre.value_counts().index, y=df21.Genre.value_counts(),palette='spring');\r\n",
        "plt.xlabel('Genre',fontdict={'fontsize':16})\r\n",
        "plt.ylabel('Games',fontdict={'fontsize':16});"
      ],
      "execution_count": 463,
      "outputs": [
        {
          "output_type": "display_data",
          "data": {
            "image/png": "[encoded data removed]",
            "text/plain": [
              "<Figure size 720x1080 with 1 Axes>"
            ]
          },
          "metadata": {
            "tags": []
          }
        }
      ]
    },
    {
      "cell_type": "code",
      "metadata": {
        "colab": {
          "base_uri": "https://localhost:8080/",
          "height": 929
        },
        "id": "X0Fq8exkv5Xy",
        "outputId": "79bac2cb-89f3-4546-dccb-2cbe4ec17efe"
      },
      "source": [
        "fig=plt.figure(figsize=(10,15))\r\n",
        "plt.subplots_adjust(left=None, wspace=0.20, hspace=0.30)\r\n",
        "sns.set_style(\"white\")\r\n",
        "\r\n",
        "sns.set_style(\"white\")\r\n",
        "plt.xticks(fontsize=14)\r\n",
        "plt.yticks(fontsize=14)\r\n",
        "plt.title('Best Game Platforms in 10 years',fontdict={'fontsize':16})\r\n",
        "plt.xticks(rotation=90)\r\n",
        "sns.barplot(x=df20.Platform.value_counts().index, y=df20.Platform.value_counts(),palette='summer');\r\n",
        "plt.xlabel('Platform',fontdict={'fontsize':16})\r\n",
        "plt.ylabel('Games',fontdict={'fontsize':16});"
      ],
      "execution_count": 457,
      "outputs": [
        {
          "output_type": "display_data",
          "data": {
            "image/png": "[encoded data removed]",
            "text/plain": [
              "<Figure size 720x1080 with 1 Axes>"
            ]
          },
          "metadata": {
            "tags": []
          }
        }
      ]
    },
    {
      "cell_type": "markdown",
      "metadata": {
        "id": "u8G3Mh0Emr3b"
      },
      "source": [
        "#### 생각해 볼 부분"
      ]
    },
    {
      "cell_type": "markdown",
      "metadata": {
        "id": "BrdwlPt5OkIF"
      },
      "source": [
        "## 지역별 판매랑 추이"
      ]
    },
    {
      "cell_type": "code",
      "metadata": {
        "colab": {
          "base_uri": "https://localhost:8080/",
          "height": 591
        },
        "id": "IxQkDioBK9jo",
        "outputId": "8c5e8faf-3ac7-447d-af7e-a4fc234ac017"
      },
      "source": [
        "Total_Sales = df2.All_Sales.sum()\r\n",
        "NA_Sales_percent = (df2.NA_Sales.sum()*100)/Total_Video_Games_Sales\r\n",
        "EU_Sales_percent = (df2.EU_Sales.sum()*100)/Total_Video_Games_Sales\r\n",
        "JP_Sales_percent = (df2.JP_Sales.sum()*100)/Total_Video_Games_Sales\r\n",
        "Other_Sales_percent = (df2.Other_Sales.sum()*100)/Total_Video_Games_Sales\r\n",
        "\r\n",
        "plt.figure(figsize=(15,10))\r\n",
        "plt.pie([NA_Sales_percent, EU_Sales_percent, JP_Sales_percent, Other_Sales_percent], labels=['NA', 'EU', 'JP', 'Other'], autopct='%1.0f%%', pctdistance=1.1, labeldistance=1.2)\r\n",
        "plt.title('Game Sales per Region')\r\n",
        "plt.ylabel(' ')\r\n",
        "plt.show()"
      ],
      "execution_count": 445,
      "outputs": [
        {
          "output_type": "display_data",
          "data": {
            "image/png": "[encoded data removed]",
            "text/plain": [
              "<Figure size 1080x720 with 1 Axes>"
            ]
          },
          "metadata": {
            "tags": []
          }
        }
      ]
    },
    {
      "cell_type": "code",
      "metadata": {
        "colab": {
          "base_uri": "https://localhost:8080/"
        },
        "id": "io8qO9l6cgJq",
        "outputId": "9806d5ca-ea43-4c25-c8d3-e41da9d6f7b5"
      },
      "source": [
        "df2.groupby('NA_Sales').size() #484"
      ],
      "execution_count": 458,
      "outputs": [
        {
          "output_type": "execute_result",
          "data": {
            "text/plain": [
              "NA_Sales\n",
              "0.000000e+00    4388\n",
              "1.000000e-02     507\n",
              "2.000000e-02     521\n",
              "3.000000e-02     516\n",
              "4.000000e-02     510\n",
              "                ... \n",
              "1.780000e+09       1\n",
              "2.010000e+09       1\n",
              "2.570000e+09       1\n",
              "2.930000e+09       1\n",
              "4.100000e+09       1\n",
              "Length: 484, dtype: int64"
            ]
          },
          "metadata": {
            "tags": []
          },
          "execution_count": 458
        }
      ]
    },
    {
      "cell_type": "code",
      "metadata": {
        "colab": {
          "base_uri": "https://localhost:8080/"
        },
        "id": "w7duJJ5qc9ZT",
        "outputId": "9a5b9e06-d872-4524-92a8-e4a903a1d18f"
      },
      "source": [
        "df2.groupby('EU_Sales').size() #356"
      ],
      "execution_count": 459,
      "outputs": [
        {
          "output_type": "execute_result",
          "data": {
            "text/plain": [
              "EU_Sales\n",
              "0.000000e+00    5564\n",
              "1.000000e-02    1434\n",
              "2.000000e-02    1225\n",
              "3.000000e-02     897\n",
              "4.000000e-02     716\n",
              "                ... \n",
              "7.600000e+08       1\n",
              "9.600000e+08       1\n",
              "1.350000e+09       1\n",
              "2.130000e+09       1\n",
              "2.560000e+09       1\n",
              "Length: 356, dtype: int64"
            ]
          },
          "metadata": {
            "tags": []
          },
          "execution_count": 459
        }
      ]
    },
    {
      "cell_type": "code",
      "metadata": {
        "colab": {
          "base_uri": "https://localhost:8080/"
        },
        "id": "hKaplRvmdAMu",
        "outputId": "5d59a6e1-b8ed-4d54-c01a-239384cfee92"
      },
      "source": [
        "df2.groupby('JP_Sales').size() #276"
      ],
      "execution_count": 460,
      "outputs": [
        {
          "output_type": "execute_result",
          "data": {
            "text/plain": [
              "JP_Sales\n",
              "0.000000e+00    10113\n",
              "1.000000e-02      680\n",
              "2.000000e-02      699\n",
              "3.000000e-02      514\n",
              "4.000000e-02      386\n",
              "                ...  \n",
              "2.600000e+08        1\n",
              "3.300000e+08        1\n",
              "4.700000e+08        1\n",
              "1.020000e+09        1\n",
              "2.780000e+09        1\n",
              "Length: 276, dtype: int64"
            ]
          },
          "metadata": {
            "tags": []
          },
          "execution_count": 460
        }
      ]
    },
    {
      "cell_type": "code",
      "metadata": {
        "colab": {
          "base_uri": "https://localhost:8080/"
        },
        "id": "kCOmC_opdDxw",
        "outputId": "0daf6690-747a-4ba8-9c8d-1714089d4fc3"
      },
      "source": [
        "df2.groupby('Other_Sales').size() #186"
      ],
      "execution_count": 461,
      "outputs": [
        {
          "output_type": "execute_result",
          "data": {
            "text/plain": [
              "Other_Sales\n",
              "0.000000e+00    6272\n",
              "1.000000e-02    3315\n",
              "2.000000e-02    1532\n",
              "3.000000e-02     898\n",
              "4.000000e-02     647\n",
              "                ... \n",
              "2.300000e+08       1\n",
              "2.700000e+08       2\n",
              "3.100000e+08       1\n",
              "3.400000e+08       1\n",
              "5.600000e+08       1\n",
              "Length: 186, dtype: int64"
            ]
          },
          "metadata": {
            "tags": []
          },
          "execution_count": 461
        }
      ]
    }
  ]
}