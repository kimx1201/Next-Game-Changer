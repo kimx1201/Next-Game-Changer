{
  "nbformat": 4,
  "nbformat_minor": 0,
  "metadata": {
    "colab": {
      "name": "Project1",
      "provenance": [],
      "collapsed_sections": [],
      "toc_visible": true,
      "include_colab_link": true
    },
    "kernelspec": {
      "name": "python3",
      "display_name": "Python 3"
    }
  },
  "cells": [
    {
      "cell_type": "markdown",
      "metadata": {
        "id": "view-in-github",
        "colab_type": "text"
      },
      "source": [
        "<a href=\"https://colab.research.google.com/github/kimx1201/Project1/blob/main/Project1.ipynb\" target=\"_parent\"><img src=\"https://colab.research.google.com/assets/colab-badge.svg\" alt=\"Open In Colab\"/></a>"
      ]
    },
    {
      "cell_type": "markdown",
      "metadata": {
        "id": "MATt3b934_-h"
      },
      "source": [
        "## Next BEST Game\r\n",
        "\r\n"
      ]
    },
    {
      "cell_type": "code",
      "metadata": {
        "colab": {
          "base_uri": "https://localhost:8080/"
        },
        "id": "f5iyoNW367GJ",
        "outputId": "65151b6c-1b9a-4e91-9622-ada21c705b3d"
      },
      "source": [
        "from google.colab import drive\r\n",
        "drive.mount('/content/drive')\r\n"
      ],
      "execution_count": 1,
      "outputs": [
        {
          "output_type": "stream",
          "text": [
            "Mounted at /content/drive\n"
          ],
          "name": "stdout"
        }
      ]
    },
    {
      "cell_type": "code",
      "metadata": {
        "id": "Dwkpw57I7Qha"
      },
      "source": [
        "import pandas as pd\r\n",
        "import numpy as np\r\n",
        "import matplotlib.pyplot as plt\r\n",
        "%matplotlib inline\r\n",
        "import seaborn as sns\r\n"
      ],
      "execution_count": 2,
      "outputs": []
    },
    {
      "cell_type": "code",
      "metadata": {
        "id": "RgQ945uZ-V3S"
      },
      "source": [
        "from sklearn import datasets\r\n",
        "from sklearn.model_selection import train_test_split\r\n",
        "from sklearn.preprocessing import StandardScaler\r\n",
        "import numpy as np\r\n",
        "import plotly.graph_objects as go"
      ],
      "execution_count": 3,
      "outputs": []
    },
    {
      "cell_type": "code",
      "metadata": {
        "id": "s5_OM7zf7Tf1"
      },
      "source": [
        "df = pd.read_csv('/content/drive/MyDrive/Colab Notebooks/vgames2.csv')"
      ],
      "execution_count": 4,
      "outputs": []
    },
    {
      "cell_type": "code",
      "metadata": {
        "colab": {
          "base_uri": "https://localhost:8080/"
        },
        "id": "4MrFQKQI7Ymx",
        "outputId": "c750e82d-c28d-4010-a7b4-a4bc5471b40b"
      },
      "source": [
        "df.shape"
      ],
      "execution_count": 5,
      "outputs": [
        {
          "output_type": "execute_result",
          "data": {
            "text/plain": [
              "(16598, 10)"
            ]
          },
          "metadata": {
            "tags": []
          },
          "execution_count": 5
        }
      ]
    },
    {
      "cell_type": "code",
      "metadata": {
        "colab": {
          "base_uri": "https://localhost:8080/"
        },
        "id": "7CIel18r9zq0",
        "outputId": "02209a83-b2df-425e-e122-c896cb89e2f3"
      },
      "source": [
        "df.dtypes #어떤 데이터 타입이 있는지 "
      ],
      "execution_count": 6,
      "outputs": [
        {
          "output_type": "execute_result",
          "data": {
            "text/plain": [
              "Unnamed: 0       int64\n",
              "Name            object\n",
              "Platform        object\n",
              "Year           float64\n",
              "Genre           object\n",
              "Publisher       object\n",
              "NA_Sales        object\n",
              "EU_Sales        object\n",
              "JP_Sales        object\n",
              "Other_Sales     object\n",
              "dtype: object"
            ]
          },
          "metadata": {
            "tags": []
          },
          "execution_count": 6
        }
      ]
    },
    {
      "cell_type": "markdown",
      "metadata": {
        "id": "t5ntl4aq67an"
      },
      "source": [
        "## EDA"
      ]
    },
    {
      "cell_type": "markdown",
      "metadata": {
        "id": "yyFq5-0ReJPw"
      },
      "source": [
        "#### 숫자 단위 K (천), M (백만) 모두 Million 단위로 전환"
      ]
    },
    {
      "cell_type": "code",
      "metadata": {
        "id": "Iof0ADhJeFzX"
      },
      "source": [
        "df.NA_Sales= (df.NA_Sales.replace(r'[KM]+$', '', regex=True).astype(float) * \\\r\n",
        "          df.NA_Sales.str.extract(r'[\\d\\.]+([KM]+)', expand=False)\r\n",
        "                     .fillna(1)\r\n",
        "                     .replace(['K','M'], [10**6, 10**6]).astype(int))"
      ],
      "execution_count": 7,
      "outputs": []
    },
    {
      "cell_type": "code",
      "metadata": {
        "colab": {
          "base_uri": "https://localhost:8080/",
          "height": 469
        },
        "id": "Npstq_pZferL",
        "outputId": "9add551e-513c-429a-929c-9f6c60ada35f"
      },
      "source": [
        "df"
      ],
      "execution_count": 8,
      "outputs": [
        {
          "output_type": "execute_result",
          "data": {
            "text/html": [
              "<div>\n",
              "<style scoped>\n",
              "    .dataframe tbody tr th:only-of-type {\n",
              "        vertical-align: middle;\n",
              "    }\n",
              "\n",
              "    .dataframe tbody tr th {\n",
              "        vertical-align: top;\n",
              "    }\n",
              "\n",
              "    .dataframe thead th {\n",
              "        text-align: right;\n",
              "    }\n",
              "</style>\n",
              "<table border=\"1\" class=\"dataframe\">\n",
              "  <thead>\n",
              "    <tr style=\"text-align: right;\">\n",
              "      <th></th>\n",
              "      <th>Unnamed: 0</th>\n",
              "      <th>Name</th>\n",
              "      <th>Platform</th>\n",
              "      <th>Year</th>\n",
              "      <th>Genre</th>\n",
              "      <th>Publisher</th>\n",
              "      <th>NA_Sales</th>\n",
              "      <th>EU_Sales</th>\n",
              "      <th>JP_Sales</th>\n",
              "      <th>Other_Sales</th>\n",
              "    </tr>\n",
              "  </thead>\n",
              "  <tbody>\n",
              "    <tr>\n",
              "      <th>0</th>\n",
              "      <td>1</td>\n",
              "      <td>Candace Kane's Candy Factory</td>\n",
              "      <td>DS</td>\n",
              "      <td>2008.0</td>\n",
              "      <td>Action</td>\n",
              "      <td>Destineer</td>\n",
              "      <td>0.04</td>\n",
              "      <td>0</td>\n",
              "      <td>0</td>\n",
              "      <td>0</td>\n",
              "    </tr>\n",
              "    <tr>\n",
              "      <th>1</th>\n",
              "      <td>2</td>\n",
              "      <td>The Munchables</td>\n",
              "      <td>Wii</td>\n",
              "      <td>2009.0</td>\n",
              "      <td>Action</td>\n",
              "      <td>Namco Bandai Games</td>\n",
              "      <td>0.17</td>\n",
              "      <td>0</td>\n",
              "      <td>0</td>\n",
              "      <td>0.01</td>\n",
              "    </tr>\n",
              "    <tr>\n",
              "      <th>2</th>\n",
              "      <td>3</td>\n",
              "      <td>Otome wa Oanesama Boku ni Koi Shiteru Portable</td>\n",
              "      <td>PSP</td>\n",
              "      <td>2010.0</td>\n",
              "      <td>Adventure</td>\n",
              "      <td>Alchemist</td>\n",
              "      <td>0.00</td>\n",
              "      <td>0</td>\n",
              "      <td>0.02</td>\n",
              "      <td>0</td>\n",
              "    </tr>\n",
              "    <tr>\n",
              "      <th>3</th>\n",
              "      <td>4</td>\n",
              "      <td>Deal or No Deal: Special Edition</td>\n",
              "      <td>DS</td>\n",
              "      <td>2010.0</td>\n",
              "      <td>Misc</td>\n",
              "      <td>Zoo Games</td>\n",
              "      <td>0.04</td>\n",
              "      <td>0</td>\n",
              "      <td>0</td>\n",
              "      <td>0</td>\n",
              "    </tr>\n",
              "    <tr>\n",
              "      <th>4</th>\n",
              "      <td>5</td>\n",
              "      <td>Ben 10 Ultimate Alien: Cosmic Destruction</td>\n",
              "      <td>PS3</td>\n",
              "      <td>2010.0</td>\n",
              "      <td>Platform</td>\n",
              "      <td>D3Publisher</td>\n",
              "      <td>0.12</td>\n",
              "      <td>0.09</td>\n",
              "      <td>0</td>\n",
              "      <td>0.04</td>\n",
              "    </tr>\n",
              "    <tr>\n",
              "      <th>...</th>\n",
              "      <td>...</td>\n",
              "      <td>...</td>\n",
              "      <td>...</td>\n",
              "      <td>...</td>\n",
              "      <td>...</td>\n",
              "      <td>...</td>\n",
              "      <td>...</td>\n",
              "      <td>...</td>\n",
              "      <td>...</td>\n",
              "      <td>...</td>\n",
              "    </tr>\n",
              "    <tr>\n",
              "      <th>16593</th>\n",
              "      <td>16594</td>\n",
              "      <td>Ice Age 2: The Meltdown</td>\n",
              "      <td>GC</td>\n",
              "      <td>2006.0</td>\n",
              "      <td>Platform</td>\n",
              "      <td>Vivendi Games</td>\n",
              "      <td>0.15</td>\n",
              "      <td>0.04</td>\n",
              "      <td>0</td>\n",
              "      <td>0.01</td>\n",
              "    </tr>\n",
              "    <tr>\n",
              "      <th>16594</th>\n",
              "      <td>16595</td>\n",
              "      <td>Rainbow Islands: Revolution</td>\n",
              "      <td>PSP</td>\n",
              "      <td>2005.0</td>\n",
              "      <td>Action</td>\n",
              "      <td>Rising Star Games</td>\n",
              "      <td>0.01</td>\n",
              "      <td>0</td>\n",
              "      <td>0</td>\n",
              "      <td>0</td>\n",
              "    </tr>\n",
              "    <tr>\n",
              "      <th>16595</th>\n",
              "      <td>16596</td>\n",
              "      <td>NBA 2K16</td>\n",
              "      <td>PS3</td>\n",
              "      <td>2015.0</td>\n",
              "      <td>Sports</td>\n",
              "      <td>Take-Two Interactive</td>\n",
              "      <td>0.44</td>\n",
              "      <td>0.19</td>\n",
              "      <td>0.03</td>\n",
              "      <td>0.13</td>\n",
              "    </tr>\n",
              "    <tr>\n",
              "      <th>16596</th>\n",
              "      <td>16597</td>\n",
              "      <td>Toukiden: The Age of Demons</td>\n",
              "      <td>PSV</td>\n",
              "      <td>2013.0</td>\n",
              "      <td>Action</td>\n",
              "      <td>Tecmo Koei</td>\n",
              "      <td>0.05</td>\n",
              "      <td>0.05</td>\n",
              "      <td>0.25</td>\n",
              "      <td>0.03</td>\n",
              "    </tr>\n",
              "    <tr>\n",
              "      <th>16597</th>\n",
              "      <td>16598</td>\n",
              "      <td>The King of Fighters '95</td>\n",
              "      <td>PS</td>\n",
              "      <td>1996.0</td>\n",
              "      <td>Fighting</td>\n",
              "      <td>Sony Computer Entertainment</td>\n",
              "      <td>0.00</td>\n",
              "      <td>0</td>\n",
              "      <td>0.16</td>\n",
              "      <td>0.01</td>\n",
              "    </tr>\n",
              "  </tbody>\n",
              "</table>\n",
              "<p>16598 rows × 10 columns</p>\n",
              "</div>"
            ],
            "text/plain": [
              "       Unnamed: 0  ... Other_Sales\n",
              "0               1  ...           0\n",
              "1               2  ...        0.01\n",
              "2               3  ...           0\n",
              "3               4  ...           0\n",
              "4               5  ...        0.04\n",
              "...           ...  ...         ...\n",
              "16593       16594  ...        0.01\n",
              "16594       16595  ...           0\n",
              "16595       16596  ...        0.13\n",
              "16596       16597  ...        0.03\n",
              "16597       16598  ...        0.01\n",
              "\n",
              "[16598 rows x 10 columns]"
            ]
          },
          "metadata": {
            "tags": []
          },
          "execution_count": 8
        }
      ]
    },
    {
      "cell_type": "code",
      "metadata": {
        "id": "4DzRZB36gQJL"
      },
      "source": [
        "df.EU_Sales= (df.EU_Sales.replace(r'[KM]+$', '', regex=True).astype(float) * \\\r\n",
        "          df.EU_Sales.str.extract(r'[\\d\\.]+([KM]+)', expand=False)\r\n",
        "                     .fillna(1)\r\n",
        "                     .replace(['K','M'], [10**6, 10**6]).astype(int))"
      ],
      "execution_count": 9,
      "outputs": []
    },
    {
      "cell_type": "code",
      "metadata": {
        "id": "_igkcsTdgQMb"
      },
      "source": [
        "df.JP_Sales= (df.JP_Sales.replace(r'[KM]+$', '', regex=True).astype(float) * \\\r\n",
        "          df.JP_Sales.str.extract(r'[\\d\\.]+([KM]+)', expand=False)\r\n",
        "                     .fillna(1)\r\n",
        "                     .replace(['K','M'], [10**6, 10**6]).astype(int))"
      ],
      "execution_count": 10,
      "outputs": []
    },
    {
      "cell_type": "code",
      "metadata": {
        "id": "IlcqiMkIgQPS"
      },
      "source": [
        "df.Other_Sales= (df.Other_Sales.replace(r'[KM]+$', '', regex=True).astype(float) * \\\r\n",
        "          df.Other_Sales.str.extract(r'[\\d\\.]+([KM]+)', expand=False)\r\n",
        "                     .fillna(1)\r\n",
        "                     .replace(['K','M'], [10**6, 10**6]).astype(int))"
      ],
      "execution_count": 11,
      "outputs": []
    },
    {
      "cell_type": "code",
      "metadata": {
        "colab": {
          "base_uri": "https://localhost:8080/",
          "height": 435
        },
        "id": "e4yi4E35gQVl",
        "outputId": "393bb528-4a99-4d58-f427-e23e4b6b8943"
      },
      "source": [
        "df = df.drop('Unnamed: 0', axis=1) #unnamed 컬럼 삭제\r\n",
        "df"
      ],
      "execution_count": 12,
      "outputs": [
        {
          "output_type": "execute_result",
          "data": {
            "text/html": [
              "<div>\n",
              "<style scoped>\n",
              "    .dataframe tbody tr th:only-of-type {\n",
              "        vertical-align: middle;\n",
              "    }\n",
              "\n",
              "    .dataframe tbody tr th {\n",
              "        vertical-align: top;\n",
              "    }\n",
              "\n",
              "    .dataframe thead th {\n",
              "        text-align: right;\n",
              "    }\n",
              "</style>\n",
              "<table border=\"1\" class=\"dataframe\">\n",
              "  <thead>\n",
              "    <tr style=\"text-align: right;\">\n",
              "      <th></th>\n",
              "      <th>Name</th>\n",
              "      <th>Platform</th>\n",
              "      <th>Year</th>\n",
              "      <th>Genre</th>\n",
              "      <th>Publisher</th>\n",
              "      <th>NA_Sales</th>\n",
              "      <th>EU_Sales</th>\n",
              "      <th>JP_Sales</th>\n",
              "      <th>Other_Sales</th>\n",
              "    </tr>\n",
              "  </thead>\n",
              "  <tbody>\n",
              "    <tr>\n",
              "      <th>0</th>\n",
              "      <td>Candace Kane's Candy Factory</td>\n",
              "      <td>DS</td>\n",
              "      <td>2008.0</td>\n",
              "      <td>Action</td>\n",
              "      <td>Destineer</td>\n",
              "      <td>0.04</td>\n",
              "      <td>0.00</td>\n",
              "      <td>0.00</td>\n",
              "      <td>0.00</td>\n",
              "    </tr>\n",
              "    <tr>\n",
              "      <th>1</th>\n",
              "      <td>The Munchables</td>\n",
              "      <td>Wii</td>\n",
              "      <td>2009.0</td>\n",
              "      <td>Action</td>\n",
              "      <td>Namco Bandai Games</td>\n",
              "      <td>0.17</td>\n",
              "      <td>0.00</td>\n",
              "      <td>0.00</td>\n",
              "      <td>0.01</td>\n",
              "    </tr>\n",
              "    <tr>\n",
              "      <th>2</th>\n",
              "      <td>Otome wa Oanesama Boku ni Koi Shiteru Portable</td>\n",
              "      <td>PSP</td>\n",
              "      <td>2010.0</td>\n",
              "      <td>Adventure</td>\n",
              "      <td>Alchemist</td>\n",
              "      <td>0.00</td>\n",
              "      <td>0.00</td>\n",
              "      <td>0.02</td>\n",
              "      <td>0.00</td>\n",
              "    </tr>\n",
              "    <tr>\n",
              "      <th>3</th>\n",
              "      <td>Deal or No Deal: Special Edition</td>\n",
              "      <td>DS</td>\n",
              "      <td>2010.0</td>\n",
              "      <td>Misc</td>\n",
              "      <td>Zoo Games</td>\n",
              "      <td>0.04</td>\n",
              "      <td>0.00</td>\n",
              "      <td>0.00</td>\n",
              "      <td>0.00</td>\n",
              "    </tr>\n",
              "    <tr>\n",
              "      <th>4</th>\n",
              "      <td>Ben 10 Ultimate Alien: Cosmic Destruction</td>\n",
              "      <td>PS3</td>\n",
              "      <td>2010.0</td>\n",
              "      <td>Platform</td>\n",
              "      <td>D3Publisher</td>\n",
              "      <td>0.12</td>\n",
              "      <td>0.09</td>\n",
              "      <td>0.00</td>\n",
              "      <td>0.04</td>\n",
              "    </tr>\n",
              "    <tr>\n",
              "      <th>...</th>\n",
              "      <td>...</td>\n",
              "      <td>...</td>\n",
              "      <td>...</td>\n",
              "      <td>...</td>\n",
              "      <td>...</td>\n",
              "      <td>...</td>\n",
              "      <td>...</td>\n",
              "      <td>...</td>\n",
              "      <td>...</td>\n",
              "    </tr>\n",
              "    <tr>\n",
              "      <th>16593</th>\n",
              "      <td>Ice Age 2: The Meltdown</td>\n",
              "      <td>GC</td>\n",
              "      <td>2006.0</td>\n",
              "      <td>Platform</td>\n",
              "      <td>Vivendi Games</td>\n",
              "      <td>0.15</td>\n",
              "      <td>0.04</td>\n",
              "      <td>0.00</td>\n",
              "      <td>0.01</td>\n",
              "    </tr>\n",
              "    <tr>\n",
              "      <th>16594</th>\n",
              "      <td>Rainbow Islands: Revolution</td>\n",
              "      <td>PSP</td>\n",
              "      <td>2005.0</td>\n",
              "      <td>Action</td>\n",
              "      <td>Rising Star Games</td>\n",
              "      <td>0.01</td>\n",
              "      <td>0.00</td>\n",
              "      <td>0.00</td>\n",
              "      <td>0.00</td>\n",
              "    </tr>\n",
              "    <tr>\n",
              "      <th>16595</th>\n",
              "      <td>NBA 2K16</td>\n",
              "      <td>PS3</td>\n",
              "      <td>2015.0</td>\n",
              "      <td>Sports</td>\n",
              "      <td>Take-Two Interactive</td>\n",
              "      <td>0.44</td>\n",
              "      <td>0.19</td>\n",
              "      <td>0.03</td>\n",
              "      <td>0.13</td>\n",
              "    </tr>\n",
              "    <tr>\n",
              "      <th>16596</th>\n",
              "      <td>Toukiden: The Age of Demons</td>\n",
              "      <td>PSV</td>\n",
              "      <td>2013.0</td>\n",
              "      <td>Action</td>\n",
              "      <td>Tecmo Koei</td>\n",
              "      <td>0.05</td>\n",
              "      <td>0.05</td>\n",
              "      <td>0.25</td>\n",
              "      <td>0.03</td>\n",
              "    </tr>\n",
              "    <tr>\n",
              "      <th>16597</th>\n",
              "      <td>The King of Fighters '95</td>\n",
              "      <td>PS</td>\n",
              "      <td>1996.0</td>\n",
              "      <td>Fighting</td>\n",
              "      <td>Sony Computer Entertainment</td>\n",
              "      <td>0.00</td>\n",
              "      <td>0.00</td>\n",
              "      <td>0.16</td>\n",
              "      <td>0.01</td>\n",
              "    </tr>\n",
              "  </tbody>\n",
              "</table>\n",
              "<p>16598 rows × 9 columns</p>\n",
              "</div>"
            ],
            "text/plain": [
              "                                                 Name  ... Other_Sales\n",
              "0                        Candace Kane's Candy Factory  ...        0.00\n",
              "1                                      The Munchables  ...        0.01\n",
              "2      Otome wa Oanesama Boku ni Koi Shiteru Portable  ...        0.00\n",
              "3                    Deal or No Deal: Special Edition  ...        0.00\n",
              "4           Ben 10 Ultimate Alien: Cosmic Destruction  ...        0.04\n",
              "...                                               ...  ...         ...\n",
              "16593                         Ice Age 2: The Meltdown  ...        0.01\n",
              "16594                     Rainbow Islands: Revolution  ...        0.00\n",
              "16595                                        NBA 2K16  ...        0.13\n",
              "16596                     Toukiden: The Age of Demons  ...        0.03\n",
              "16597                        The King of Fighters '95  ...        0.01\n",
              "\n",
              "[16598 rows x 9 columns]"
            ]
          },
          "metadata": {
            "tags": []
          },
          "execution_count": 12
        }
      ]
    },
    {
      "cell_type": "markdown",
      "metadata": {
        "id": "Zg7XfJRxLaKu"
      },
      "source": [
        "#### 결측치 없애기"
      ]
    },
    {
      "cell_type": "code",
      "metadata": {
        "colab": {
          "base_uri": "https://localhost:8080/"
        },
        "id": "rD_pbHOTLLfk",
        "outputId": "1774a225-10b1-484a-ce5c-ea2fd374240f"
      },
      "source": [
        "df.isnull().sum()"
      ],
      "execution_count": 13,
      "outputs": [
        {
          "output_type": "execute_result",
          "data": {
            "text/plain": [
              "Name             0\n",
              "Platform         0\n",
              "Year           271\n",
              "Genre           50\n",
              "Publisher       58\n",
              "NA_Sales         0\n",
              "EU_Sales         0\n",
              "JP_Sales         0\n",
              "Other_Sales      0\n",
              "dtype: int64"
            ]
          },
          "metadata": {
            "tags": []
          },
          "execution_count": 13
        }
      ]
    },
    {
      "cell_type": "code",
      "metadata": {
        "id": "6cSRcneoLPwi"
      },
      "source": [
        "df = df[df[\"Year\"].notnull()]\r\n",
        "df = df[df[\"Genre\"].notnull()]\r\n",
        "df = df[df[\"Publisher\"].notnull()]"
      ],
      "execution_count": 14,
      "outputs": []
    },
    {
      "cell_type": "code",
      "metadata": {
        "colab": {
          "base_uri": "https://localhost:8080/"
        },
        "id": "TYckelbqW46I",
        "outputId": "4afa201f-1f31-469b-ae2d-59096f0bd83c"
      },
      "source": [
        "df.astype({'NA_Sales':'float','EU_Sales':'float','JP_Sales':'float','Other_Sales':'float'}).dtypes #데이터 타입 전환"
      ],
      "execution_count": 15,
      "outputs": [
        {
          "output_type": "execute_result",
          "data": {
            "text/plain": [
              "Name            object\n",
              "Platform        object\n",
              "Year           float64\n",
              "Genre           object\n",
              "Publisher       object\n",
              "NA_Sales       float64\n",
              "EU_Sales       float64\n",
              "JP_Sales       float64\n",
              "Other_Sales    float64\n",
              "dtype: object"
            ]
          },
          "metadata": {
            "tags": []
          },
          "execution_count": 15
        }
      ]
    },
    {
      "cell_type": "markdown",
      "metadata": {
        "id": "HPyWzNc-nBI5"
      },
      "source": [
        "#### YEAR 데이터 1980년부터 2020년까지 추출 \r\n",
        "유의미한 데이터들이 게임산업이 발전하기 시작한 1980년대 이후부터 있을 것이라는 판단에서 그 이전 데이터는 삭제함. "
      ]
    },
    {
      "cell_type": "code",
      "metadata": {
        "id": "PszGhk41hzTb"
      },
      "source": [
        "df2 = df[(df['Year'] >= 1980) & (df['Year'] < 2020)] #1980년에서 2020년 사이에 있는 년도 데이터만 저장. "
      ],
      "execution_count": 16,
      "outputs": []
    },
    {
      "cell_type": "code",
      "metadata": {
        "colab": {
          "base_uri": "https://localhost:8080/",
          "height": 387
        },
        "id": "vrMtmdxzhn_y",
        "outputId": "4e6b8c14-b85a-4ed9-c882-e2cb68c4b90c"
      },
      "source": [
        "sns.distplot(df2['Year'])"
      ],
      "execution_count": 17,
      "outputs": [
        {
          "output_type": "stream",
          "text": [
            "/usr/local/lib/python3.6/dist-packages/seaborn/distributions.py:2557: FutureWarning:\n",
            "\n",
            "`distplot` is a deprecated function and will be removed in a future version. Please adapt your code to use either `displot` (a figure-level function with similar flexibility) or `histplot` (an axes-level function for histograms).\n",
            "\n"
          ],
          "name": "stderr"
        },
        {
          "output_type": "execute_result",
          "data": {
            "text/plain": [
              "<matplotlib.axes._subplots.AxesSubplot at 0x7f32bbfab198>"
            ]
          },
          "metadata": {
            "tags": []
          },
          "execution_count": 17
        },
        {
          "output_type": "display_data",
          "data": {
            "image/png": "[encoded data removed]",
            "text/plain": [
              "<Figure size 432x288 with 1 Axes>"
            ]
          },
          "metadata": {
            "tags": [],
            "needs_background": "light"
          }
        }
      ]
    },
    {
      "cell_type": "code",
      "metadata": {
        "colab": {
          "base_uri": "https://localhost:8080/"
        },
        "id": "i47dKpLjyvRZ",
        "outputId": "b5d1efa1-dd18-432f-c3f1-c225caf29623"
      },
      "source": [
        "df2['All_Sales'] = df2['NA_Sales'] + df2['EU_Sales'] + df2['JP_Sales'] + df2['Other_Sales']"
      ],
      "execution_count": 18,
      "outputs": [
        {
          "output_type": "stream",
          "text": [
            "/usr/local/lib/python3.6/dist-packages/ipykernel_launcher.py:1: SettingWithCopyWarning:\n",
            "\n",
            "\n",
            "A value is trying to be set on a copy of a slice from a DataFrame.\n",
            "Try using .loc[row_indexer,col_indexer] = value instead\n",
            "\n",
            "See the caveats in the documentation: https://pandas.pydata.org/pandas-docs/stable/user_guide/indexing.html#returning-a-view-versus-a-copy\n",
            "\n"
          ],
          "name": "stderr"
        }
      ]
    },
    {
      "cell_type": "markdown",
      "metadata": {
        "id": "bV8_gbD_xfje"
      },
      "source": [
        "## 게임 시장 현황"
      ]
    },
    {
      "cell_type": "code",
      "metadata": {
        "colab": {
          "base_uri": "https://localhost:8080/",
          "height": 308
        },
        "id": "9Ha7k3WVrHgY",
        "outputId": "7102402e-49ae-4053-8185-78aa75ba5587"
      },
      "source": [
        "sales_df = df2[[x for x in df2.columns if 'Sales' in x]+['Year']]\r\n",
        "sales_df.groupby('Year').sum().plot()"
      ],
      "execution_count": 19,
      "outputs": [
        {
          "output_type": "execute_result",
          "data": {
            "text/plain": [
              "<matplotlib.axes._subplots.AxesSubplot at 0x7f32b2b6c358>"
            ]
          },
          "metadata": {
            "tags": []
          },
          "execution_count": 19
        },
        {
          "output_type": "display_data",
          "data": {
            "image/png": "[encoded data removed]",
            "text/plain": [
              "<Figure size 432x288 with 1 Axes>"
            ]
          },
          "metadata": {
            "tags": [],
            "needs_background": "light"
          }
        }
      ]
    },
    {
      "cell_type": "markdown",
      "metadata": {
        "id": "3CaEN_ZJrRun"
      },
      "source": [
        "게임 시장 현황을 보면, 1990년대 초반을 기점으로 2000년 전까지는 매출액이 지속적으로 상승하는 것을 볼 수 있습니다. 하지만 2005년과 2010년 큰 기복을 나타내며 하락세를 나타내고, 2010년에서 2015년 사이에는 최고점을 기록합니다. 하지만 2015년 이후에는 계속 하락하는 것을 알 수 있습니다. "
      ]
    },
    {
      "cell_type": "markdown",
      "metadata": {
        "id": "d6lQiDct9KFX"
      },
      "source": [
        "## 지역에 따라서 선호하는 게임 장르가 다를까?"
      ]
    },
    {
      "cell_type": "markdown",
      "metadata": {
        "id": "Yto1vrHc9Q5n"
      },
      "source": [
        "#### 조사 대상 국가 전체에서 가장 많이 판매된 게임 장르는 플랫폼이다. "
      ]
    },
    {
      "cell_type": "code",
      "metadata": {
        "colab": {
          "base_uri": "https://localhost:8080/",
          "height": 402
        },
        "id": "wmnvHq6Dzx41",
        "outputId": "d663bbe3-3a7f-471f-aefb-f70537b78cad"
      },
      "source": [
        "sns.catplot(y=\"Genre\", x=\"All_Sales\", data=df2,\r\n",
        "            kind=\"box\", showfliers=False) "
      ],
      "execution_count": 20,
      "outputs": [
        {
          "output_type": "execute_result",
          "data": {
            "text/plain": [
              "<seaborn.axisgrid.FacetGrid at 0x7f32b2b54358>"
            ]
          },
          "metadata": {
            "tags": []
          },
          "execution_count": 20
        },
        {
          "output_type": "display_data",
          "data": {
            "image/png": "[encoded data removed]",
            "text/plain": [
              "<Figure size 360x360 with 1 Axes>"
            ]
          },
          "metadata": {
            "tags": [],
            "needs_background": "light"
          }
        }
      ]
    },
    {
      "cell_type": "markdown",
      "metadata": {
        "id": "M-32dVsd6jtI"
      },
      "source": [
        "#### EU에서 가장 많이 판매 된 게임 장르는 슈터다.\r\n",
        "\r\n"
      ]
    },
    {
      "cell_type": "code",
      "metadata": {
        "colab": {
          "base_uri": "https://localhost:8080/",
          "height": 402
        },
        "id": "vSxpKjaHhdwc",
        "outputId": "46234cac-a8ae-4606-8378-d9b07e91116a"
      },
      "source": [
        "sns.catplot(y=\"Genre\", x=\"EU_Sales\", data=df2,\r\n",
        "            kind=\"box\", showfliers=False)"
      ],
      "execution_count": 21,
      "outputs": [
        {
          "output_type": "execute_result",
          "data": {
            "text/plain": [
              "<seaborn.axisgrid.FacetGrid at 0x7f32b25281d0>"
            ]
          },
          "metadata": {
            "tags": []
          },
          "execution_count": 21
        },
        {
          "output_type": "display_data",
          "data": {
            "image/png": "[encoded data removed]",
            "text/plain": [
              "<Figure size 360x360 with 1 Axes>"
            ]
          },
          "metadata": {
            "tags": [],
            "needs_background": "light"
          }
        }
      ]
    },
    {
      "cell_type": "markdown",
      "metadata": {
        "id": "5HX4Jijo8GSd"
      },
      "source": [
        "#### North America 에서 가장 많이 판매된 게임 장르는 플랫폼이다."
      ]
    },
    {
      "cell_type": "code",
      "metadata": {
        "colab": {
          "base_uri": "https://localhost:8080/",
          "height": 402
        },
        "id": "Mf8olzTYhkY6",
        "outputId": "505f2238-f6b6-4f91-d543-0ab7dc7d01a2"
      },
      "source": [
        "sns.catplot(y=\"Genre\", x=\"NA_Sales\", data=df2,\r\n",
        "            kind=\"box\", showfliers=False) "
      ],
      "execution_count": 22,
      "outputs": [
        {
          "output_type": "execute_result",
          "data": {
            "text/plain": [
              "<seaborn.axisgrid.FacetGrid at 0x7f32b2422668>"
            ]
          },
          "metadata": {
            "tags": []
          },
          "execution_count": 22
        },
        {
          "output_type": "display_data",
          "data": {
            "image/png": "[encoded data removed]",
            "text/plain": [
              "<Figure size 360x360 with 1 Axes>"
            ]
          },
          "metadata": {
            "tags": [],
            "needs_background": "light"
          }
        }
      ]
    },
    {
      "cell_type": "markdown",
      "metadata": {
        "id": "6EqyAv3C8O5C"
      },
      "source": [
        "#### 일본에서 가장 많이 판매된 게임 장르는 롤 플레잉 게임이다."
      ]
    },
    {
      "cell_type": "code",
      "metadata": {
        "colab": {
          "base_uri": "https://localhost:8080/",
          "height": 402
        },
        "id": "TwEvAFWchqI0",
        "outputId": "bd952081-f058-424e-c8a5-cbb6fb144c1e"
      },
      "source": [
        "sns.catplot(y=\"Genre\", x=\"JP_Sales\", data=df2,\r\n",
        "            kind=\"box\", showfliers=False) "
      ],
      "execution_count": 23,
      "outputs": [
        {
          "output_type": "execute_result",
          "data": {
            "text/plain": [
              "<seaborn.axisgrid.FacetGrid at 0x7f32b22d2780>"
            ]
          },
          "metadata": {
            "tags": []
          },
          "execution_count": 23
        },
        {
          "output_type": "display_data",
          "data": {
            "image/png": "[encoded data removed]",
            "text/plain": [
              "<Figure size 360x360 with 1 Axes>"
            ]
          },
          "metadata": {
            "tags": [],
            "needs_background": "light"
          }
        }
      ]
    },
    {
      "cell_type": "markdown",
      "metadata": {
        "id": "Ge6GL2uO9nGB"
      },
      "source": [
        "#### 다른 나라들에서 가장 많이 판매된 게임은 장르는 슈터다. "
      ]
    },
    {
      "cell_type": "code",
      "metadata": {
        "colab": {
          "base_uri": "https://localhost:8080/",
          "height": 402
        },
        "id": "CrVgRpWthV1L",
        "outputId": "007ed3e0-2521-49ea-feb9-e44885d72e8d"
      },
      "source": [
        "sns.catplot(y=\"Genre\", x=\"Other_Sales\", data=df2,\r\n",
        "            kind=\"box\", showfliers=False)"
      ],
      "execution_count": 24,
      "outputs": [
        {
          "output_type": "execute_result",
          "data": {
            "text/plain": [
              "<seaborn.axisgrid.FacetGrid at 0x7f32b22c1ac8>"
            ]
          },
          "metadata": {
            "tags": []
          },
          "execution_count": 24
        },
        {
          "output_type": "display_data",
          "data": {
            "image/png": "[encoded data removed]",
            "text/plain": [
              "<Figure size 360x360 with 1 Axes>"
            ]
          },
          "metadata": {
            "tags": [],
            "needs_background": "light"
          }
        }
      ]
    },
    {
      "cell_type": "markdown",
      "metadata": {
        "id": "-SWi7dplKGg9"
      },
      "source": [
        "##연도별 게임 트렌드가 있을까?"
      ]
    },
    {
      "cell_type": "markdown",
      "metadata": {
        "id": "gBPvSo0r8dMc"
      },
      "source": [
        "#### 연도별 가장 많이 팔린 게임  글로벌 매출액 \r\n"
      ]
    },
    {
      "cell_type": "code",
      "metadata": {
        "colab": {
          "base_uri": "https://localhost:8080/",
          "height": 542
        },
        "id": "bnshzYAy-Epa",
        "outputId": "c91fd291-f9cf-4168-effc-60714d4e9eb5"
      },
      "source": [
        "year_sales=df2.iloc[:, [0,2,9]].groupby(['Year']).All_Sales.max().reset_index()\r\n",
        "year_game=df2[['Name','All_Sales','Year']]\r\n",
        "bestg_of_year=pd.merge(year_sales, year_game, on=['Year','All_Sales'],how='left')\r\n",
        "\r\n",
        "trace = go.Bar(x=bestg_of_year.Year,\r\n",
        "               y=bestg_of_year.All_Sales,\r\n",
        "               marker=dict(color=bestg_of_year.All_Sales,colorscale='blues'),\r\n",
        "               name='Best Game of the Year',\r\n",
        "               text = bestg_of_year['Name'],\r\n",
        "               hovertemplate = '<i>Year: %{x}</i>'\r\n",
        "                               '<br><i>Game: %{text}</i>'\r\n",
        "                               '<br><i>All Sales: %{y}</i>')\r\n",
        "\r\n",
        "layout = go.Layout(\r\n",
        "    title='Best Selling Game of the Year',\r\n",
        "    xaxis=dict(tickmode = 'linear',tickfont=dict(size=11),\r\n",
        "        title='Year',tickwidth=6,ticklen=8,zeroline=False,\r\n",
        "    tickangle=-90),\r\n",
        "    yaxis=dict(\r\n",
        "        title='All Sales'),\r\n",
        "    bargap=0.2,\r\n",
        "    bargroupgap=0.1, \r\n",
        "    plot_bgcolor=\"white\")\r\n",
        "fig = go.Figure(data=[trace], layout=layout)\r\n",
        "fig"
      ],
      "execution_count": 25,
      "outputs": [
        {
          "output_type": "display_data",
          "data": {
            "text/html": [
              "<html>\n",
              "<head><meta charset=\"utf-8\" /></head>\n",
              "<body>\n",
              "    <div>\n",
              "            <script src=\"https://cdnjs.cloudflare.com/ajax/libs/mathjax/2.7.5/MathJax.js?config=TeX-AMS-MML_SVG\"></script><script type=\"text/javascript\">if (window.MathJax) {MathJax.Hub.Config({SVG: {font: \"STIX-Web\"}});}</script>\n",
              "                <script type=\"text/javascript\">window.PlotlyConfig = {MathJaxConfig: 'local'};</script>\n",
              "        <script src=\"https://cdn.plot.ly/plotly-latest.min.js\"></script>    \n",
              "            <div id=\"c4cbd96c-bad6-4c6a-8ea8-07bc9160720d\" class=\"plotly-graph-div\" style=\"height:525px; width:100%;\"></div>\n",
              "            <script type=\"text/javascript\">\n",
              "                \n",
              "                    window.PLOTLYENV=window.PLOTLYENV || {};\n",
              "                    \n",
              "                if (document.getElementById(\"c4cbd96c-bad6-4c6a-8ea8-07bc9160720d\")) {\n",
              "                    Plotly.newPlot(\n",
              "                        'c4cbd96c-bad6-4c6a-8ea8-07bc9160720d',\n",
              "                        [{\"hovertemplate\": \"<i>Year: %{x}</i><br><i>Game: %{text}</i><br><i>All Sales: %{y}</i>\", \"marker\": {\"color\": [4.31, 110000001.86, 7.8100000000000005, 3.2, 28.31, 460001.04, 6.499999999999999, 4.38, 190000007.27, 60000000.0, 20001.17, 160000000.0, 11.179999999999998, 10.55, 260000000.0, 340000001.59, 470000003.31, 1020000000.07, 4100000003.4999995, 2570000002.2200003, 2780000002.5299997, 480330000.06, 1210000000.78, 2930000002.2799997, 210000000.32999998, 270000000.33000004, 960000000.6700001, 2010000000.19, 440000000.62, 620000001.65, 280000000.54, 2130000005.21, 2560000003.9399996, 1780000001.8500001, 660000001.06, 560000003.17, 30000000.15, 0.03], \"colorscale\": [[0.0, \"rgb(247,251,255)\"], [0.125, \"rgb(222,235,247)\"], [0.25, \"rgb(198,219,239)\"], [0.375, \"rgb(158,202,225)\"], [0.5, \"rgb(107,174,214)\"], [0.625, \"rgb(66,146,198)\"], [0.75, \"rgb(33,113,181)\"], [0.875, \"rgb(8,81,156)\"], [1.0, \"rgb(8,48,107)\"]]}, \"name\": \"Best Game of the Year\", \"text\": [\"Asteroids\", \"E.T.: The Extra Terrestrial\", \"Pac-Man\", \"Baseball\", \"Duck Hunt\", \"Ice Climber\", \"The Legend of Zelda\", \"Zelda II: The Adventure of Link\", \"Super Mario Bros. 2\", \"Adventures of Lolo\", \"Disney's Chip 'n Dale: Rescue Rangers\", \"SimEarth: The Living Planet\", \"Super Mario Land 2: 6 Golden Coins\", \"Super Mario All-Stars\", \"Virtua Racing\", \"Virtua Fighter 2\", \"Resident Evil Director's Cut\", \"Densha De Go!\", \"The Legend of Zelda: Ocarina of Time\", \"Crash Team Racing\", \"Final Fantasy IX\", \"Ford Racing\", \"Harry Potter and the Chamber of Secrets\", \"Super Mario Bros. 3\", \"SRS: Street Racing Syndicate\", \"Final Fantasy IV Advance\", \"Viva Pinata\", \"Guitar Hero II\", \"LEGO Indiana Jones: The Original Adventures\", \"Sonic's Ultimate Genesis Collection\", \"Hasbro Family Game Night 3\", \"Battlefield 3\", \"Assassin's Creed III\", \"Call of Duty: Ghosts\", \"Destiny\", \"The Witcher 3: Wild Hunt\", \"Odin Sphere: Leifthrasir\", \"Phantasy Star Online 2 Episode 4: Deluxe Package\"], \"type\": \"bar\", \"x\": [1980.0, 1981.0, 1982.0, 1983.0, 1984.0, 1985.0, 1986.0, 1987.0, 1988.0, 1989.0, 1990.0, 1991.0, 1992.0, 1993.0, 1994.0, 1995.0, 1996.0, 1997.0, 1998.0, 1999.0, 2000.0, 2001.0, 2002.0, 2003.0, 2004.0, 2005.0, 2006.0, 2007.0, 2008.0, 2009.0, 2010.0, 2011.0, 2012.0, 2013.0, 2014.0, 2015.0, 2016.0, 2017.0], \"y\": [4.31, 110000001.86, 7.8100000000000005, 3.2, 28.31, 460001.04, 6.499999999999999, 4.38, 190000007.27, 60000000.0, 20001.17, 160000000.0, 11.179999999999998, 10.55, 260000000.0, 340000001.59, 470000003.31, 1020000000.07, 4100000003.4999995, 2570000002.2200003, 2780000002.5299997, 480330000.06, 1210000000.78, 2930000002.2799997, 210000000.32999998, 270000000.33000004, 960000000.6700001, 2010000000.19, 440000000.62, 620000001.65, 280000000.54, 2130000005.21, 2560000003.9399996, 1780000001.8500001, 660000001.06, 560000003.17, 30000000.15, 0.03]}],\n",
              "                        {\"bargap\": 0.2, \"bargroupgap\": 0.1, \"plot_bgcolor\": \"white\", \"template\": {\"data\": {\"bar\": [{\"error_x\": {\"color\": \"#2a3f5f\"}, \"error_y\": {\"color\": \"#2a3f5f\"}, \"marker\": {\"line\": {\"color\": \"#E5ECF6\", \"width\": 0.5}}, \"type\": \"bar\"}], \"barpolar\": [{\"marker\": {\"line\": {\"color\": \"#E5ECF6\", \"width\": 0.5}}, \"type\": \"barpolar\"}], \"carpet\": [{\"aaxis\": {\"endlinecolor\": \"#2a3f5f\", \"gridcolor\": \"white\", \"linecolor\": \"white\", \"minorgridcolor\": \"white\", \"startlinecolor\": \"#2a3f5f\"}, \"baxis\": {\"endlinecolor\": \"#2a3f5f\", \"gridcolor\": \"white\", \"linecolor\": \"white\", \"minorgridcolor\": \"white\", \"startlinecolor\": \"#2a3f5f\"}, \"type\": \"carpet\"}], \"choropleth\": [{\"colorbar\": {\"outlinewidth\": 0, \"ticks\": \"\"}, \"type\": \"choropleth\"}], \"contour\": [{\"colorbar\": {\"outlinewidth\": 0, \"ticks\": \"\"}, \"colorscale\": [[0.0, \"#0d0887\"], [0.1111111111111111, \"#46039f\"], [0.2222222222222222, \"#7201a8\"], [0.3333333333333333, \"#9c179e\"], [0.4444444444444444, \"#bd3786\"], [0.5555555555555556, \"#d8576b\"], [0.6666666666666666, \"#ed7953\"], [0.7777777777777778, \"#fb9f3a\"], [0.8888888888888888, \"#fdca26\"], [1.0, \"#f0f921\"]], \"type\": \"contour\"}], \"contourcarpet\": [{\"colorbar\": {\"outlinewidth\": 0, \"ticks\": \"\"}, \"type\": \"contourcarpet\"}], \"heatmap\": [{\"colorbar\": {\"outlinewidth\": 0, \"ticks\": \"\"}, \"colorscale\": [[0.0, \"#0d0887\"], [0.1111111111111111, \"#46039f\"], [0.2222222222222222, \"#7201a8\"], [0.3333333333333333, \"#9c179e\"], [0.4444444444444444, \"#bd3786\"], [0.5555555555555556, \"#d8576b\"], [0.6666666666666666, \"#ed7953\"], [0.7777777777777778, \"#fb9f3a\"], [0.8888888888888888, \"#fdca26\"], [1.0, \"#f0f921\"]], \"type\": \"heatmap\"}], \"heatmapgl\": [{\"colorbar\": {\"outlinewidth\": 0, \"ticks\": \"\"}, \"colorscale\": [[0.0, \"#0d0887\"], [0.1111111111111111, \"#46039f\"], [0.2222222222222222, \"#7201a8\"], [0.3333333333333333, \"#9c179e\"], [0.4444444444444444, \"#bd3786\"], [0.5555555555555556, \"#d8576b\"], [0.6666666666666666, \"#ed7953\"], [0.7777777777777778, \"#fb9f3a\"], [0.8888888888888888, \"#fdca26\"], [1.0, \"#f0f921\"]], \"type\": \"heatmapgl\"}], \"histogram\": [{\"marker\": {\"colorbar\": {\"outlinewidth\": 0, \"ticks\": \"\"}}, \"type\": \"histogram\"}], \"histogram2d\": [{\"colorbar\": {\"outlinewidth\": 0, \"ticks\": \"\"}, \"colorscale\": [[0.0, \"#0d0887\"], [0.1111111111111111, \"#46039f\"], [0.2222222222222222, \"#7201a8\"], [0.3333333333333333, \"#9c179e\"], [0.4444444444444444, \"#bd3786\"], [0.5555555555555556, \"#d8576b\"], [0.6666666666666666, \"#ed7953\"], [0.7777777777777778, \"#fb9f3a\"], [0.8888888888888888, \"#fdca26\"], [1.0, \"#f0f921\"]], \"type\": \"histogram2d\"}], \"histogram2dcontour\": [{\"colorbar\": {\"outlinewidth\": 0, \"ticks\": \"\"}, \"colorscale\": [[0.0, \"#0d0887\"], [0.1111111111111111, \"#46039f\"], [0.2222222222222222, \"#7201a8\"], [0.3333333333333333, \"#9c179e\"], [0.4444444444444444, \"#bd3786\"], [0.5555555555555556, \"#d8576b\"], [0.6666666666666666, \"#ed7953\"], [0.7777777777777778, \"#fb9f3a\"], [0.8888888888888888, \"#fdca26\"], [1.0, \"#f0f921\"]], \"type\": \"histogram2dcontour\"}], \"mesh3d\": [{\"colorbar\": {\"outlinewidth\": 0, \"ticks\": \"\"}, \"type\": \"mesh3d\"}], \"parcoords\": [{\"line\": {\"colorbar\": {\"outlinewidth\": 0, \"ticks\": \"\"}}, \"type\": \"parcoords\"}], \"pie\": [{\"automargin\": true, \"type\": \"pie\"}], \"scatter\": [{\"marker\": {\"colorbar\": {\"outlinewidth\": 0, \"ticks\": \"\"}}, \"type\": \"scatter\"}], \"scatter3d\": [{\"line\": {\"colorbar\": {\"outlinewidth\": 0, \"ticks\": \"\"}}, \"marker\": {\"colorbar\": {\"outlinewidth\": 0, \"ticks\": \"\"}}, \"type\": \"scatter3d\"}], \"scattercarpet\": [{\"marker\": {\"colorbar\": {\"outlinewidth\": 0, \"ticks\": \"\"}}, \"type\": \"scattercarpet\"}], \"scattergeo\": [{\"marker\": {\"colorbar\": {\"outlinewidth\": 0, \"ticks\": \"\"}}, \"type\": \"scattergeo\"}], \"scattergl\": [{\"marker\": {\"colorbar\": {\"outlinewidth\": 0, \"ticks\": \"\"}}, \"type\": \"scattergl\"}], \"scattermapbox\": [{\"marker\": {\"colorbar\": {\"outlinewidth\": 0, \"ticks\": \"\"}}, \"type\": \"scattermapbox\"}], \"scatterpolar\": [{\"marker\": {\"colorbar\": {\"outlinewidth\": 0, \"ticks\": \"\"}}, \"type\": \"scatterpolar\"}], \"scatterpolargl\": [{\"marker\": {\"colorbar\": {\"outlinewidth\": 0, \"ticks\": \"\"}}, \"type\": \"scatterpolargl\"}], \"scatterternary\": [{\"marker\": {\"colorbar\": {\"outlinewidth\": 0, \"ticks\": \"\"}}, \"type\": \"scatterternary\"}], \"surface\": [{\"colorbar\": {\"outlinewidth\": 0, \"ticks\": \"\"}, \"colorscale\": [[0.0, \"#0d0887\"], [0.1111111111111111, \"#46039f\"], [0.2222222222222222, \"#7201a8\"], [0.3333333333333333, \"#9c179e\"], [0.4444444444444444, \"#bd3786\"], [0.5555555555555556, \"#d8576b\"], [0.6666666666666666, \"#ed7953\"], [0.7777777777777778, \"#fb9f3a\"], [0.8888888888888888, \"#fdca26\"], [1.0, \"#f0f921\"]], \"type\": \"surface\"}], \"table\": [{\"cells\": {\"fill\": {\"color\": \"#EBF0F8\"}, \"line\": {\"color\": \"white\"}}, \"header\": {\"fill\": {\"color\": \"#C8D4E3\"}, \"line\": {\"color\": \"white\"}}, \"type\": \"table\"}]}, \"layout\": {\"annotationdefaults\": {\"arrowcolor\": \"#2a3f5f\", \"arrowhead\": 0, \"arrowwidth\": 1}, \"coloraxis\": {\"colorbar\": {\"outlinewidth\": 0, \"ticks\": \"\"}}, \"colorscale\": {\"diverging\": [[0, \"#8e0152\"], [0.1, \"#c51b7d\"], [0.2, \"#de77ae\"], [0.3, \"#f1b6da\"], [0.4, \"#fde0ef\"], [0.5, \"#f7f7f7\"], [0.6, \"#e6f5d0\"], [0.7, \"#b8e186\"], [0.8, \"#7fbc41\"], [0.9, \"#4d9221\"], [1, \"#276419\"]], \"sequential\": [[0.0, \"#0d0887\"], [0.1111111111111111, \"#46039f\"], [0.2222222222222222, \"#7201a8\"], [0.3333333333333333, \"#9c179e\"], [0.4444444444444444, \"#bd3786\"], [0.5555555555555556, \"#d8576b\"], [0.6666666666666666, \"#ed7953\"], [0.7777777777777778, \"#fb9f3a\"], [0.8888888888888888, \"#fdca26\"], [1.0, \"#f0f921\"]], \"sequentialminus\": [[0.0, \"#0d0887\"], [0.1111111111111111, \"#46039f\"], [0.2222222222222222, \"#7201a8\"], [0.3333333333333333, \"#9c179e\"], [0.4444444444444444, \"#bd3786\"], [0.5555555555555556, \"#d8576b\"], [0.6666666666666666, \"#ed7953\"], [0.7777777777777778, \"#fb9f3a\"], [0.8888888888888888, \"#fdca26\"], [1.0, \"#f0f921\"]]}, \"colorway\": [\"#636efa\", \"#EF553B\", \"#00cc96\", \"#ab63fa\", \"#FFA15A\", \"#19d3f3\", \"#FF6692\", \"#B6E880\", \"#FF97FF\", \"#FECB52\"], \"font\": {\"color\": \"#2a3f5f\"}, \"geo\": {\"bgcolor\": \"white\", \"lakecolor\": \"white\", \"landcolor\": \"#E5ECF6\", \"showlakes\": true, \"showland\": true, \"subunitcolor\": \"white\"}, \"hoverlabel\": {\"align\": \"left\"}, \"hovermode\": \"closest\", \"mapbox\": {\"style\": \"light\"}, \"paper_bgcolor\": \"white\", \"plot_bgcolor\": \"#E5ECF6\", \"polar\": {\"angularaxis\": {\"gridcolor\": \"white\", \"linecolor\": \"white\", \"ticks\": \"\"}, \"bgcolor\": \"#E5ECF6\", \"radialaxis\": {\"gridcolor\": \"white\", \"linecolor\": \"white\", \"ticks\": \"\"}}, \"scene\": {\"xaxis\": {\"backgroundcolor\": \"#E5ECF6\", \"gridcolor\": \"white\", \"gridwidth\": 2, \"linecolor\": \"white\", \"showbackground\": true, \"ticks\": \"\", \"zerolinecolor\": \"white\"}, \"yaxis\": {\"backgroundcolor\": \"#E5ECF6\", \"gridcolor\": \"white\", \"gridwidth\": 2, \"linecolor\": \"white\", \"showbackground\": true, \"ticks\": \"\", \"zerolinecolor\": \"white\"}, \"zaxis\": {\"backgroundcolor\": \"#E5ECF6\", \"gridcolor\": \"white\", \"gridwidth\": 2, \"linecolor\": \"white\", \"showbackground\": true, \"ticks\": \"\", \"zerolinecolor\": \"white\"}}, \"shapedefaults\": {\"line\": {\"color\": \"#2a3f5f\"}}, \"ternary\": {\"aaxis\": {\"gridcolor\": \"white\", \"linecolor\": \"white\", \"ticks\": \"\"}, \"baxis\": {\"gridcolor\": \"white\", \"linecolor\": \"white\", \"ticks\": \"\"}, \"bgcolor\": \"#E5ECF6\", \"caxis\": {\"gridcolor\": \"white\", \"linecolor\": \"white\", \"ticks\": \"\"}}, \"title\": {\"x\": 0.05}, \"xaxis\": {\"automargin\": true, \"gridcolor\": \"white\", \"linecolor\": \"white\", \"ticks\": \"\", \"title\": {\"standoff\": 15}, \"zerolinecolor\": \"white\", \"zerolinewidth\": 2}, \"yaxis\": {\"automargin\": true, \"gridcolor\": \"white\", \"linecolor\": \"white\", \"ticks\": \"\", \"title\": {\"standoff\": 15}, \"zerolinecolor\": \"white\", \"zerolinewidth\": 2}}}, \"title\": {\"text\": \"Best Selling Game of the Year\"}, \"xaxis\": {\"tickangle\": -90, \"tickfont\": {\"size\": 11}, \"ticklen\": 8, \"tickmode\": \"linear\", \"tickwidth\": 6, \"title\": {\"text\": \"Year\"}, \"zeroline\": false}, \"yaxis\": {\"title\": {\"text\": \"All Sales\"}}},\n",
              "                        {\"responsive\": true}\n",
              "                    ).then(function(){\n",
              "                            \n",
              "var gd = document.getElementById('c4cbd96c-bad6-4c6a-8ea8-07bc9160720d');\n",
              "var x = new MutationObserver(function (mutations, observer) {{\n",
              "        var display = window.getComputedStyle(gd).display;\n",
              "        if (!display || display === 'none') {{\n",
              "            console.log([gd, 'removed!']);\n",
              "            Plotly.purge(gd);\n",
              "            observer.disconnect();\n",
              "        }}\n",
              "}});\n",
              "\n",
              "// Listen for the removal of the full notebook cells\n",
              "var notebookContainer = gd.closest('#notebook-container');\n",
              "if (notebookContainer) {{\n",
              "    x.observe(notebookContainer, {childList: true});\n",
              "}}\n",
              "\n",
              "// Listen for the clearing of the current output cell\n",
              "var outputEl = gd.closest('.output');\n",
              "if (outputEl) {{\n",
              "    x.observe(outputEl, {childList: true});\n",
              "}}\n",
              "\n",
              "                        })\n",
              "                };\n",
              "                \n",
              "            </script>\n",
              "        </div>\n",
              "</body>\n",
              "</html>"
            ]
          },
          "metadata": {
            "tags": []
          }
        }
      ]
    },
    {
      "cell_type": "markdown",
      "metadata": {
        "id": "BcYoevVlABPO"
      },
      "source": [
        "게임 유통사별 가장 유명한 게임들 리스트\r\n",
        "\r\n",
        "- Electornic Arts(1982년 창립): FIFA, Battlefield\r\n",
        "\r\n",
        "- Activision(1979년 창립): Call of Duty, Sekiro, Destiny, 둠\r\n",
        "\r\n",
        "- Namco Bandai Games(2006년 게임 부문 통합): Dragon Ball\r\n",
        "\r\n",
        "- Ubisoft(1986년): 레이맨, 톰 클랜시, 에쌔신 크리드\r\n",
        "\r\n",
        "- Konami Digital Entertainment(1969년): 남극탐험, 프로야구 \r\n",
        "\r\n",
        "- THQ(1990년 창립 - 2013년 해제): 컴퍼니 오브 히어로즈, 워해머\r\n",
        "\r\n",
        "- Nintendo(1970년대 비디오게임 회사로 확장): 슈퍼마리오, 포켓몬, 동물의 숲 \r\n",
        "\r\n",
        "- Sony Computer Entertainment(1993): 파이널 판타지, 갓오브워\r\n"
      ]
    },
    {
      "cell_type": "markdown",
      "metadata": {
        "id": "-gQiwraZ4Qd-"
      },
      "source": [
        "### 년도별 출시 상황"
      ]
    },
    {
      "cell_type": "markdown",
      "metadata": {
        "id": "Hqk4e-JdMJ_5"
      },
      "source": [
        "2009년 가장 많은 게임이 출시됐고, 2000년대 강세를 보이지만 2017년에 가장 적게 게임이 출시 됐다는 결과가 나왔다. "
      ]
    },
    {
      "cell_type": "code",
      "metadata": {
        "colab": {
          "base_uri": "https://localhost:8080/",
          "height": 621
        },
        "id": "UqdMJVk9Kbyo",
        "outputId": "d182ba23-676b-4e1e-ed52-aa118f40f323"
      },
      "source": [
        "df2['Year'].value_counts().sort_values(ascending=False)\r\n",
        "plt.figure(figsize = (15,10))\r\n",
        "plt.title('Games Sales per Year')\r\n",
        "sns.countplot(y='Year', data=df2)\r\n",
        "plt.show()"
      ],
      "execution_count": 26,
      "outputs": [
        {
          "output_type": "display_data",
          "data": {
            "image/png": "[encoded data removed]",
            "text/plain": [
              "<Figure size 1080x720 with 1 Axes>"
            ]
          },
          "metadata": {
            "tags": [],
            "needs_background": "light"
          }
        }
      ]
    },
    {
      "cell_type": "markdown",
      "metadata": {
        "id": "3i8z3SnzOSfy"
      },
      "source": [
        "가장 많이 출시된 플렛폼 게임은 DS, PS2인 것으로 나타났다. "
      ]
    },
    {
      "cell_type": "code",
      "metadata": {
        "colab": {
          "base_uri": "https://localhost:8080/",
          "height": 621
        },
        "id": "lqDDDLapKN4V",
        "outputId": "995c094b-514c-4e3f-b6ba-3893bf9b1aac"
      },
      "source": [
        "plt.figure(figsize = (15,10))\r\n",
        "plt.title('Games per platforms')\r\n",
        "sns.countplot(y='Platform', data=df2)\r\n",
        "plt.show()"
      ],
      "execution_count": 27,
      "outputs": [
        {
          "output_type": "display_data",
          "data": {
            "image/png": "[encoded data removed]",
            "text/plain": [
              "<Figure size 1080x720 with 1 Axes>"
            ]
          },
          "metadata": {
            "tags": [],
            "needs_background": "light"
          }
        }
      ]
    },
    {
      "cell_type": "markdown",
      "metadata": {
        "id": "XtXz9g2fP3ZO"
      },
      "source": [
        "전체 판매량을 보면 The Legend of Zelda: Ocarina of Time 판매량이 가장 높음. 닌텐도 게임(N64), 휴대용 게임기 GBA 판매량이 높았음. "
      ]
    },
    {
      "cell_type": "code",
      "metadata": {
        "colab": {
          "base_uri": "https://localhost:8080/",
          "height": 195
        },
        "id": "eN9-RRr4P29r",
        "outputId": "d12ba1bf-8487-4805-c381-3b4647624b7b"
      },
      "source": [
        "sales_All_sorted_df = df2.sort_values(by = ['All_Sales'], ascending = False)\r\n",
        "sales_All_sorted_df.head()[['Name', 'All_Sales', 'Publisher', 'Platform']]"
      ],
      "execution_count": 28,
      "outputs": [
        {
          "output_type": "execute_result",
          "data": {
            "text/html": [
              "<div>\n",
              "<style scoped>\n",
              "    .dataframe tbody tr th:only-of-type {\n",
              "        vertical-align: middle;\n",
              "    }\n",
              "\n",
              "    .dataframe tbody tr th {\n",
              "        vertical-align: top;\n",
              "    }\n",
              "\n",
              "    .dataframe thead th {\n",
              "        text-align: right;\n",
              "    }\n",
              "</style>\n",
              "<table border=\"1\" class=\"dataframe\">\n",
              "  <thead>\n",
              "    <tr style=\"text-align: right;\">\n",
              "      <th></th>\n",
              "      <th>Name</th>\n",
              "      <th>All_Sales</th>\n",
              "      <th>Publisher</th>\n",
              "      <th>Platform</th>\n",
              "    </tr>\n",
              "  </thead>\n",
              "  <tbody>\n",
              "    <tr>\n",
              "      <th>1964</th>\n",
              "      <td>The Legend of Zelda: Ocarina of Time</td>\n",
              "      <td>4.100000e+09</td>\n",
              "      <td>Nintendo</td>\n",
              "      <td>N64</td>\n",
              "    </tr>\n",
              "    <tr>\n",
              "      <th>9829</th>\n",
              "      <td>Super Mario Bros. 3</td>\n",
              "      <td>2.930000e+09</td>\n",
              "      <td>Nintendo</td>\n",
              "      <td>GBA</td>\n",
              "    </tr>\n",
              "    <tr>\n",
              "      <th>3589</th>\n",
              "      <td>Final Fantasy IX</td>\n",
              "      <td>2.780000e+09</td>\n",
              "      <td>SquareSoft</td>\n",
              "      <td>PS</td>\n",
              "    </tr>\n",
              "    <tr>\n",
              "      <th>13935</th>\n",
              "      <td>Crash Team Racing</td>\n",
              "      <td>2.570000e+09</td>\n",
              "      <td>Sony Computer Entertainment</td>\n",
              "      <td>PS</td>\n",
              "    </tr>\n",
              "    <tr>\n",
              "      <th>1629</th>\n",
              "      <td>Assassin's Creed III</td>\n",
              "      <td>2.560000e+09</td>\n",
              "      <td>Ubisoft</td>\n",
              "      <td>PS3</td>\n",
              "    </tr>\n",
              "  </tbody>\n",
              "</table>\n",
              "</div>"
            ],
            "text/plain": [
              "                                       Name  ...  Platform\n",
              "1964   The Legend of Zelda: Ocarina of Time  ...       N64\n",
              "9829                    Super Mario Bros. 3  ...       GBA\n",
              "3589                       Final Fantasy IX  ...        PS\n",
              "13935                     Crash Team Racing  ...        PS\n",
              "1629                   Assassin's Creed III  ...       PS3\n",
              "\n",
              "[5 rows x 4 columns]"
            ]
          },
          "metadata": {
            "tags": []
          },
          "execution_count": 28
        }
      ]
    },
    {
      "cell_type": "markdown",
      "metadata": {
        "id": "kVum5hEqOulj"
      },
      "source": [
        "NA 지역에선 The Legend of Zelda의 판매량이 가장 높게 나왔음.\r\n"
      ]
    },
    {
      "cell_type": "code",
      "metadata": {
        "colab": {
          "base_uri": "https://localhost:8080/",
          "height": 195
        },
        "id": "skEToPcSMHSS",
        "outputId": "962058ce-328e-41c2-8b03-e6deeca7edfc"
      },
      "source": [
        "sales_NA_sorted_df = df2.sort_values(by = ['NA_Sales'], ascending = False)\r\n",
        "sales_NA_sorted_df.head()[['Name', 'NA_Sales', 'Publisher', 'Platform']]"
      ],
      "execution_count": 29,
      "outputs": [
        {
          "output_type": "execute_result",
          "data": {
            "text/html": [
              "<div>\n",
              "<style scoped>\n",
              "    .dataframe tbody tr th:only-of-type {\n",
              "        vertical-align: middle;\n",
              "    }\n",
              "\n",
              "    .dataframe tbody tr th {\n",
              "        vertical-align: top;\n",
              "    }\n",
              "\n",
              "    .dataframe thead th {\n",
              "        text-align: right;\n",
              "    }\n",
              "</style>\n",
              "<table border=\"1\" class=\"dataframe\">\n",
              "  <thead>\n",
              "    <tr style=\"text-align: right;\">\n",
              "      <th></th>\n",
              "      <th>Name</th>\n",
              "      <th>NA_Sales</th>\n",
              "      <th>Publisher</th>\n",
              "      <th>Platform</th>\n",
              "    </tr>\n",
              "  </thead>\n",
              "  <tbody>\n",
              "    <tr>\n",
              "      <th>1964</th>\n",
              "      <td>The Legend of Zelda: Ocarina of Time</td>\n",
              "      <td>4.100000e+09</td>\n",
              "      <td>Nintendo</td>\n",
              "      <td>N64</td>\n",
              "    </tr>\n",
              "    <tr>\n",
              "      <th>9829</th>\n",
              "      <td>Super Mario Bros. 3</td>\n",
              "      <td>2.930000e+09</td>\n",
              "      <td>Nintendo</td>\n",
              "      <td>GBA</td>\n",
              "    </tr>\n",
              "    <tr>\n",
              "      <th>13935</th>\n",
              "      <td>Crash Team Racing</td>\n",
              "      <td>2.570000e+09</td>\n",
              "      <td>Sony Computer Entertainment</td>\n",
              "      <td>PS</td>\n",
              "    </tr>\n",
              "    <tr>\n",
              "      <th>11996</th>\n",
              "      <td>Guitar Hero II</td>\n",
              "      <td>2.010000e+09</td>\n",
              "      <td>Activision</td>\n",
              "      <td>X360</td>\n",
              "    </tr>\n",
              "    <tr>\n",
              "      <th>9791</th>\n",
              "      <td>Call of Duty: Ghosts</td>\n",
              "      <td>1.780000e+09</td>\n",
              "      <td>Activision</td>\n",
              "      <td>PS4</td>\n",
              "    </tr>\n",
              "  </tbody>\n",
              "</table>\n",
              "</div>"
            ],
            "text/plain": [
              "                                       Name  ...  Platform\n",
              "1964   The Legend of Zelda: Ocarina of Time  ...       N64\n",
              "9829                    Super Mario Bros. 3  ...       GBA\n",
              "13935                     Crash Team Racing  ...        PS\n",
              "11996                        Guitar Hero II  ...      X360\n",
              "9791                   Call of Duty: Ghosts  ...       PS4\n",
              "\n",
              "[5 rows x 4 columns]"
            ]
          },
          "metadata": {
            "tags": []
          },
          "execution_count": 29
        }
      ]
    },
    {
      "cell_type": "markdown",
      "metadata": {
        "id": "5hFQe4XMO6GQ"
      },
      "source": [
        "EU 지역에선 어세신스 크리드의 판매량이 가장 높게 나왔음."
      ]
    },
    {
      "cell_type": "code",
      "metadata": {
        "colab": {
          "base_uri": "https://localhost:8080/",
          "height": 195
        },
        "id": "6e7g2WX7Mu5U",
        "outputId": "59ab0848-002a-4533-e657-68eb7a10c6f1"
      },
      "source": [
        "sales_NA_sorted_df = df2.sort_values(by = ['EU_Sales'], ascending = False)\r\n",
        "sales_NA_sorted_df.head()[['Name', 'EU_Sales', 'Publisher', 'Platform']]"
      ],
      "execution_count": 30,
      "outputs": [
        {
          "output_type": "execute_result",
          "data": {
            "text/html": [
              "<div>\n",
              "<style scoped>\n",
              "    .dataframe tbody tr th:only-of-type {\n",
              "        vertical-align: middle;\n",
              "    }\n",
              "\n",
              "    .dataframe tbody tr th {\n",
              "        vertical-align: top;\n",
              "    }\n",
              "\n",
              "    .dataframe thead th {\n",
              "        text-align: right;\n",
              "    }\n",
              "</style>\n",
              "<table border=\"1\" class=\"dataframe\">\n",
              "  <thead>\n",
              "    <tr style=\"text-align: right;\">\n",
              "      <th></th>\n",
              "      <th>Name</th>\n",
              "      <th>EU_Sales</th>\n",
              "      <th>Publisher</th>\n",
              "      <th>Platform</th>\n",
              "    </tr>\n",
              "  </thead>\n",
              "  <tbody>\n",
              "    <tr>\n",
              "      <th>1629</th>\n",
              "      <td>Assassin's Creed III</td>\n",
              "      <td>2.560000e+09</td>\n",
              "      <td>Ubisoft</td>\n",
              "      <td>PS3</td>\n",
              "    </tr>\n",
              "    <tr>\n",
              "      <th>8010</th>\n",
              "      <td>Battlefield 3</td>\n",
              "      <td>2.130000e+09</td>\n",
              "      <td>Electronic Arts</td>\n",
              "      <td>X360</td>\n",
              "    </tr>\n",
              "    <tr>\n",
              "      <th>5024</th>\n",
              "      <td>WWF SmackDown!</td>\n",
              "      <td>1.350000e+09</td>\n",
              "      <td>THQ</td>\n",
              "      <td>PS</td>\n",
              "    </tr>\n",
              "    <tr>\n",
              "      <th>14318</th>\n",
              "      <td>Viva Pinata</td>\n",
              "      <td>9.600000e+08</td>\n",
              "      <td>Microsoft Game Studios</td>\n",
              "      <td>X360</td>\n",
              "    </tr>\n",
              "    <tr>\n",
              "      <th>972</th>\n",
              "      <td>Smarty Pants</td>\n",
              "      <td>7.600000e+08</td>\n",
              "      <td>Electronic Arts</td>\n",
              "      <td>Wii</td>\n",
              "    </tr>\n",
              "  </tbody>\n",
              "</table>\n",
              "</div>"
            ],
            "text/plain": [
              "                       Name      EU_Sales               Publisher Platform\n",
              "1629   Assassin's Creed III  2.560000e+09                 Ubisoft      PS3\n",
              "8010          Battlefield 3  2.130000e+09         Electronic Arts     X360\n",
              "5024         WWF SmackDown!  1.350000e+09                     THQ       PS\n",
              "14318           Viva Pinata  9.600000e+08  Microsoft Game Studios     X360\n",
              "972            Smarty Pants  7.600000e+08         Electronic Arts      Wii"
            ]
          },
          "metadata": {
            "tags": []
          },
          "execution_count": 30
        }
      ]
    },
    {
      "cell_type": "markdown",
      "metadata": {
        "id": "DjP3X_raPT7p"
      },
      "source": [
        "JP 지역에선 파이널 판타지의 판매량이 가장 높게 나왔음."
      ]
    },
    {
      "cell_type": "code",
      "metadata": {
        "colab": {
          "base_uri": "https://localhost:8080/",
          "height": 195
        },
        "id": "6Cj_SO-wMvCa",
        "outputId": "3ec624a9-9a0b-4b3c-b3b6-76753e93977b"
      },
      "source": [
        "sales_JP_sorted_df = df2.sort_values(by = ['JP_Sales'], ascending = False)\r\n",
        "sales_JP_sorted_df.head()[['Name', 'JP_Sales', 'Publisher', 'Platform']]"
      ],
      "execution_count": 31,
      "outputs": [
        {
          "output_type": "execute_result",
          "data": {
            "text/html": [
              "<div>\n",
              "<style scoped>\n",
              "    .dataframe tbody tr th:only-of-type {\n",
              "        vertical-align: middle;\n",
              "    }\n",
              "\n",
              "    .dataframe tbody tr th {\n",
              "        vertical-align: top;\n",
              "    }\n",
              "\n",
              "    .dataframe thead th {\n",
              "        text-align: right;\n",
              "    }\n",
              "</style>\n",
              "<table border=\"1\" class=\"dataframe\">\n",
              "  <thead>\n",
              "    <tr style=\"text-align: right;\">\n",
              "      <th></th>\n",
              "      <th>Name</th>\n",
              "      <th>JP_Sales</th>\n",
              "      <th>Publisher</th>\n",
              "      <th>Platform</th>\n",
              "    </tr>\n",
              "  </thead>\n",
              "  <tbody>\n",
              "    <tr>\n",
              "      <th>3589</th>\n",
              "      <td>Final Fantasy IX</td>\n",
              "      <td>2.780000e+09</td>\n",
              "      <td>SquareSoft</td>\n",
              "      <td>PS</td>\n",
              "    </tr>\n",
              "    <tr>\n",
              "      <th>9464</th>\n",
              "      <td>Densha De Go!</td>\n",
              "      <td>1.020000e+09</td>\n",
              "      <td>Taito</td>\n",
              "      <td>PS</td>\n",
              "    </tr>\n",
              "    <tr>\n",
              "      <th>6167</th>\n",
              "      <td>Resident Evil Director's Cut</td>\n",
              "      <td>4.700000e+08</td>\n",
              "      <td>Virgin Interactive</td>\n",
              "      <td>PS</td>\n",
              "    </tr>\n",
              "    <tr>\n",
              "      <th>6342</th>\n",
              "      <td>Kirby's Dream Collection: Special Edition</td>\n",
              "      <td>3.300000e+08</td>\n",
              "      <td>Nintendo</td>\n",
              "      <td>Wii</td>\n",
              "    </tr>\n",
              "    <tr>\n",
              "      <th>9995</th>\n",
              "      <td>Virtua Racing</td>\n",
              "      <td>2.600000e+08</td>\n",
              "      <td>Sega</td>\n",
              "      <td>GEN</td>\n",
              "    </tr>\n",
              "  </tbody>\n",
              "</table>\n",
              "</div>"
            ],
            "text/plain": [
              "                                           Name  ...  Platform\n",
              "3589                           Final Fantasy IX  ...        PS\n",
              "9464                              Densha De Go!  ...        PS\n",
              "6167               Resident Evil Director's Cut  ...        PS\n",
              "6342  Kirby's Dream Collection: Special Edition  ...       Wii\n",
              "9995                              Virtua Racing  ...       GEN\n",
              "\n",
              "[5 rows x 4 columns]"
            ]
          },
          "metadata": {
            "tags": []
          },
          "execution_count": 31
        }
      ]
    },
    {
      "cell_type": "markdown",
      "metadata": {
        "id": "ofDTU6FcPrCF"
      },
      "source": [
        "Other 지역에선 The Witcher 3: Wild Hunt의 판매량이 가장 높게 나왔음."
      ]
    },
    {
      "cell_type": "code",
      "metadata": {
        "colab": {
          "base_uri": "https://localhost:8080/",
          "height": 195
        },
        "id": "2vRjC0XXMuDm",
        "outputId": "36e1c31a-f66b-4f14-be98-46bdd1b3e7de"
      },
      "source": [
        "Other_sorted_df = df2.sort_values(by = ['Other_Sales'], ascending = False)\r\n",
        "Other_sorted_df.head()[['Name', 'Other_Sales', 'Publisher', 'Platform']]"
      ],
      "execution_count": 32,
      "outputs": [
        {
          "output_type": "execute_result",
          "data": {
            "text/html": [
              "<div>\n",
              "<style scoped>\n",
              "    .dataframe tbody tr th:only-of-type {\n",
              "        vertical-align: middle;\n",
              "    }\n",
              "\n",
              "    .dataframe tbody tr th {\n",
              "        vertical-align: top;\n",
              "    }\n",
              "\n",
              "    .dataframe thead th {\n",
              "        text-align: right;\n",
              "    }\n",
              "</style>\n",
              "<table border=\"1\" class=\"dataframe\">\n",
              "  <thead>\n",
              "    <tr style=\"text-align: right;\">\n",
              "      <th></th>\n",
              "      <th>Name</th>\n",
              "      <th>Other_Sales</th>\n",
              "      <th>Publisher</th>\n",
              "      <th>Platform</th>\n",
              "    </tr>\n",
              "  </thead>\n",
              "  <tbody>\n",
              "    <tr>\n",
              "      <th>15567</th>\n",
              "      <td>The Witcher 3: Wild Hunt</td>\n",
              "      <td>560000000.0</td>\n",
              "      <td>Namco Bandai Games</td>\n",
              "      <td>PS4</td>\n",
              "    </tr>\n",
              "    <tr>\n",
              "      <th>5374</th>\n",
              "      <td>Resident Evil 5</td>\n",
              "      <td>340000000.0</td>\n",
              "      <td>Capcom</td>\n",
              "      <td>X360</td>\n",
              "    </tr>\n",
              "    <tr>\n",
              "      <th>14129</th>\n",
              "      <td>Need for Speed Rivals</td>\n",
              "      <td>310000000.0</td>\n",
              "      <td>Electronic Arts</td>\n",
              "      <td>PS3</td>\n",
              "    </tr>\n",
              "    <tr>\n",
              "      <th>15720</th>\n",
              "      <td>Madden NFL 09</td>\n",
              "      <td>270000000.0</td>\n",
              "      <td>Electronic Arts</td>\n",
              "      <td>PS2</td>\n",
              "    </tr>\n",
              "    <tr>\n",
              "      <th>7703</th>\n",
              "      <td>Saints Row 2</td>\n",
              "      <td>270000000.0</td>\n",
              "      <td>THQ</td>\n",
              "      <td>X360</td>\n",
              "    </tr>\n",
              "  </tbody>\n",
              "</table>\n",
              "</div>"
            ],
            "text/plain": [
              "                           Name  Other_Sales           Publisher Platform\n",
              "15567  The Witcher 3: Wild Hunt  560000000.0  Namco Bandai Games      PS4\n",
              "5374            Resident Evil 5  340000000.0              Capcom     X360\n",
              "14129     Need for Speed Rivals  310000000.0     Electronic Arts      PS3\n",
              "15720             Madden NFL 09  270000000.0     Electronic Arts      PS2\n",
              "7703               Saints Row 2  270000000.0                 THQ     X360"
            ]
          },
          "metadata": {
            "tags": []
          },
          "execution_count": 32
        }
      ]
    },
    {
      "cell_type": "code",
      "metadata": {
        "colab": {
          "base_uri": "https://localhost:8080/",
          "height": 542
        },
        "id": "cVPtnqk7EKDD",
        "outputId": "d0ce0a95-0252-432a-ba95-c9cdea3268f3"
      },
      "source": [
        "pub_sales=df2.groupby(['Year','Publisher']).All_Sales.sum().reset_index()\r\n",
        "pub_years=pub_sales.groupby('Year').All_Sales.max().reset_index()\r\n",
        "bestp_of_year=pd.merge(pub_years,pub_sales,on=['Year','All_Sales'],how='left')\r\n",
        "\r\n",
        "trace = go.Bar(x=pub_years.Year,\r\n",
        "               y=pub_years.All_Sales,\r\n",
        "               marker=dict(color=pub_years.All_Sales, colorscale='tropic'),\r\n",
        "               opacity=0.80,\r\n",
        "               name='Bestselling Publisher of the Year',\r\n",
        "               text = pub_sales['Publisher'],\r\n",
        "               hovertemplate = '<i>Year: %{x}</i>'\r\n",
        "                               '<br><i>Publisher: %{text}</i>'\r\n",
        "                               '<br><i>All Sales: %{y}</i>')\r\n",
        "layout = go.Layout(\r\n",
        "    title='Bestselling Publiser of the Year',\r\n",
        "    xaxis=dict(tickmode = 'linear',tickfont=dict(size=11),\r\n",
        "        title='Year',tickwidth=5,ticklen=8,zeroline=False,\r\n",
        "    tickangle=-90),\r\n",
        "    yaxis=dict(tick0=0,\r\n",
        "        dtick=25,\r\n",
        "        title='All Sales'),\r\n",
        "    bargap=0.2,\r\n",
        "    bargroupgap=0.1, \r\n",
        "    plot_bgcolor=\"white\")\r\n",
        "fig = go.Figure(data=[trace], layout=layout)\r\n",
        "fig"
      ],
      "execution_count": 33,
      "outputs": [
        {
          "output_type": "display_data",
          "data": {
            "text/html": [
              "<html>\n",
              "<head><meta charset=\"utf-8\" /></head>\n",
              "<body>\n",
              "    <div>\n",
              "            <script src=\"https://cdnjs.cloudflare.com/ajax/libs/mathjax/2.7.5/MathJax.js?config=TeX-AMS-MML_SVG\"></script><script type=\"text/javascript\">if (window.MathJax) {MathJax.Hub.Config({SVG: {font: \"STIX-Web\"}});}</script>\n",
              "                <script type=\"text/javascript\">window.PlotlyConfig = {MathJaxConfig: 'local'};</script>\n",
              "        <script src=\"https://cdn.plot.ly/plotly-latest.min.js\"></script>    \n",
              "            <div id=\"5a63d54d-5c7d-4c37-8797-95e42a009452\" class=\"plotly-graph-div\" style=\"height:525px; width:100%;\"></div>\n",
              "            <script type=\"text/javascript\">\n",
              "                \n",
              "                    window.PLOTLYENV=window.PLOTLYENV || {};\n",
              "                    \n",
              "                if (document.getElementById(\"5a63d54d-5c7d-4c37-8797-95e42a009452\")) {\n",
              "                    Plotly.newPlot(\n",
              "                        '5a63d54d-5c7d-4c37-8797-95e42a009452',\n",
              "                        [{\"hovertemplate\": \"<i>Year: %{x}</i><br><i>Publisher: %{text}</i><br><i>All Sales: %{y}</i>\", \"marker\": {\"color\": [8.35, 110000008.30999999, 19.43, 10.959999999999999, 45.550000000000004, 460049.49, 16.169999999999998, 11.95, 190000036.25000003, 60000000.0, 20003.899999999998, 160000000.22, 38.13, 20.04, 260830006.44000003, 340110006.78000003, 470000014.36, 1020000000.07, 4103120040.0799994, 2570000033.6700006, 2780000003.7799997, 480330000.2, 1210060071.0, 2930000034.5299997, 210030005.23, 490030126.85, 960000009.0400001, 2150010008.1900005, 680360082.9599999, 620000023.22, 280400080.09000015, 2180980069.0499997, 2560000034.719999, 2790000040.6500006, 661530042.2399999, 560000014.9399999, 30010000.529999997, 0.04], \"colorscale\": [[0.0, \"rgb(0, 155, 158)\"], [0.16666666666666666, \"rgb(66, 183, 185)\"], [0.3333333333333333, \"rgb(167, 211, 212)\"], [0.5, \"rgb(241, 241, 241)\"], [0.6666666666666666, \"rgb(228, 193, 217)\"], [0.8333333333333334, \"rgb(214, 145, 193)\"], [1.0, \"rgb(199, 93, 171)\"]]}, \"name\": \"Bestselling Publisher of the Year\", \"opacity\": 0.8, \"text\": [\"Activision\", \"Atari\", \"20th Century Fox Video Games\", \"Activision\", \"Atari\", \"Coleco\", \"Data Age\", \"Imagic\", \"Mattel Interactive\", \"Men-A-Vision\", \"Mystique\", \"Parker Bros.\", \"Starpath Corp.\", \"Taito\", \"Tigervision\", \"Unknown\", \"20th Century Fox Video Games\", \"Activision\", \"Answer Software\", \"Atari\", \"Avalon Interactive\", \"Bomb\", \"CBS Electronics\", \"CPG Products\", \"Coleco\", \"Data Age\", \"ITT Family Games\", \"Mattel Interactive\", \"Parker Bros.\", \"Quelle\", \"Sega\", \"Tigervision\", \"Universal Gamex\", \"Wizard Video Games\", \"Activision\", \"Atari\", \"Nintendo\", \"Parker Bros.\", \"Activision\", \"Hudson Soft\", \"Namco Bandai Games\", \"Nintendo\", \"Activision\", \"Capcom\", \"Hudson Soft\", \"Mycom\", \"Namco Bandai Games\", \"Nintendo\", \"Atari\", \"Capcom\", \"Hudson Soft\", \"Konami Digital Entertainment\", \"Namco Bandai Games\", \"Nintendo\", \"Activision\", \"Atari\", \"Capcom\", \"Enix Corporation\", \"Konami Digital Entertainment\", \"Namco Bandai Games\", \"Nintendo\", \"SquareSoft\", \"Activision\", \"Capcom\", \"Enix Corporation\", \"Maxis\", \"Namco Bandai Games\", \"Nintendo\", \"SquareSoft\", \"Activision\", \"Atari\", \"Capcom\", \"HAL Laboratory\", \"Konami Digital Entertainment\", \"Namco Bandai Games\", \"Nintendo\", \"Palcom\", \"SquareSoft\", \"Capcom\", \"Enix Corporation\", \"Konami Digital Entertainment\", \"Namco Bandai Games\", \"Nintendo\", \"Sega\", \"SquareSoft\", \"Angel Studios\", \"BPS\", \"Banpresto\", \"Capcom\", \"Culture Brain\", \"Epoch\", \"Hudson Soft\", \"Human Entertainment\", \"Imagineer\", \"Kemco\", \"Konami Digital Entertainment\", \"Namco Bandai Games\", \"Nintendo\", \"Sega\", \"Square\", \"SquareSoft\", \"Tecmo Koei\", \"Arena Entertainment\", \"Banpresto\", \"Capcom\", \"ChunSoft\", \"Electronic Arts\", \"Enix Corporation\", \"Epoch\", \"Hudson Soft\", \"Konami Digital Entertainment\", \"Maxis\", \"Namco Bandai Games\", \"New World Computing\", \"Nintendo\", \"Ocean\", \"Sega\", \"SquareSoft\", \"Takara\", \"Tecmo Koei\", \"Video System\", \"Virgin Interactive\", \"id Software\", \"Acclaim Entertainment\", \"Banpresto\", \"Capcom\", \"ChunSoft\", \"Coconuts Japan\", \"Enix Corporation\", \"Epoch\", \"Hect\", \"Hudson Soft\", \"Imax\", \"Interplay\", \"Konami Digital Entertainment\", \"Laguna\", \"Misawa\", \"Namco Bandai Games\", \"Nintendo\", \"Ocean\", \"SNK\", \"Sammy Corporation\", \"Sega\", \"SquareSoft\", \"T&E Soft\", \"TOHO\", \"Takara\", \"Tecmo Koei\", \"Titus\", \"Victor Interactive\", \"ASCII Entertainment\", \"Acclaim Entertainment\", \"Activision\", \"Angel Studios\", \"ArtDink\", \"Asmik Corp\", \"Atlus\", \"BPS\", \"Banpresto\", \"Capcom\", \"ChunSoft\", \"Core Design Ltd.\", \"Culture Brain\", \"Electronic Arts\", \"Enix Corporation\", \"From Software\", \"Game Arts\", \"Hasbro Interactive\", \"Hect\", \"Hudson Soft\", \"Human Entertainment\", \"Infogrames\", \"JVC\", \"Konami Digital Entertainment\", \"Laguna\", \"LucasArts\", \"Media Rings\", \"Micro Cabin\", \"Misawa\", \"Namco Bandai Games\", \"Nintendo\", \"Psygnosis\", \"Red Orb\", \"SNK\", \"Sega\", \"Sony Computer Entertainment\", \"Square\", \"SquareSoft\", \"Sunsoft\", \"Taito\", \"Takara\", \"Tecmo Koei\", \"Time Warner Interactive\", \"Vap\", \"Virgin Interactive\", \"ASCII Entertainment\", \"Acclaim Entertainment\", \"Activision\", \"Angel Studios\", \"Asmik Corp\", \"Atlus\", \"Banpresto\", \"ChunSoft\", \"Compile\", \"Core Design Ltd.\", \"Crystal Dynamics\", \"Data East\", \"Electronic Arts\", \"Enix Corporation\", \"Epoch\", \"Fuji\", \"GT Interactive\", \"Glams\", \"Hect\", \"Hudson Soft\", \"Human Entertainment\", \"Imageworks\", \"Interplay\", \"Jaleco\", \"Kokopeli Digital Studios\", \"Konami Digital Entertainment\", \"Laguna\", \"Media Rings\", \"MediaQuest\", \"Micro Cabin\", \"Microprose\", \"Mindscape\", \"NEC\", \"Namco Bandai Games\", \"New\", \"Nichibutsu\", \"Nintendo\", \"Ocean\", \"Pack-In-Video\", \"Panther Software\", \"Pow\", \"Psygnosis\", \"Quest\", \"Riverhillsoft\", \"SNK\", \"SNK Playmore\", \"Sega\", \"Seta Corporation\", \"Shogakukan\", \"Sonnet\", \"Sony Computer Entertainment\", \"SquareSoft\", \"Sunsoft\", \"THQ\", \"Taito\", \"Takara\", \"Technos Japan Corporation\", \"Tecmo Koei\", \"Telstar\", \"Time Warner Interactive\", \"Tomy Corporation\", \"U.S. Gold\", \"Ubisoft\", \"Victor Interactive\", \"Virgin Interactive\", \"Vivendi Games\", \"Yumedia\", \"ASC Games\", \"ASCII Entertainment\", \"ASK\", \"Acclaim Entertainment\", \"Accolade\", \"Activision\", \"Adeline Software\", \"American Softworks\", \"ArtDink\", \"Asmik Ace Entertainment\", \"Atlus\", \"BMG Interactive Entertainment\", \"Banpresto\", \"CTO SpA\", \"Capcom\", \"ChunSoft\", \"Coconuts Japan\", \"Compile\", \"Crystal Dynamics\", \"Eidos Interactive\", \"Electronic Arts\", \"Electronic Arts Victor\", \"Elf\", \"Elite\", \"Empire Interactive\", \"Enix Corporation\", \"Epoch\", \"Fox Interactive\", \"From Software\", \"FunSoft\", \"GT Interactive\", \"Gaga\", \"Gremlin Interactive Ltd\", \"Gust\", \"Hearty Robin\", \"Hudson Soft\", \"Human Entertainment\", \"Imagineer\", \"Infogrames\", \"Interplay\", \"JVC\", \"Jaleco\", \"KSS\", \"Kadokawa Shoten\", \"Konami Digital Entertainment\", \"LucasArts\", \"Maxis\", \"Media Works\", \"Micro Cabin\", \"Microprose\", \"Microsoft Game Studios\", \"Midway Games\", \"Mindscape\", \"NCS\", \"NEC\", \"NEC Interchannel\", \"Namco Bandai Games\", \"Natsume\", \"Nintendo\", \"Nippon Telenet\", \"Ocean\", \"Pioneer LDC\", \"Psygnosis\", \"SNK\", \"SPS\", \"SSI\", \"Sega\", \"Seta Corporation\", \"Societa\", \"Sonnet\", \"Sony Computer Entertainment\", \"SquareSoft\", \"Sunsoft\", \"Takara\", \"Tecmo Koei\", \"Time Warner Interactive\", \"Tomy Corporation\", \"U.S. Gold\", \"Ubisoft\", \"Vic Tokai\", \"Virgin Interactive\", \"989 Studios\", \"ASCII Entertainment\", \"Acclaim Entertainment\", \"Accolade\", \"Activision\", \"Agetec\", \"Aques\", \"Atlus\", \"BMG Interactive Entertainment\", \"Banpresto\", \"CTO SpA\", \"Capcom\", \"Codemasters\", \"Compile\", \"ESP\", \"Eidos Interactive\", \"Electronic Arts\", \"Elf\", \"Fox Interactive\", \"From Software\", \"GT Interactive\", \"Gremlin Interactive Ltd\", \"Gust\", \"Hasbro Interactive\", \"Hudson Entertainment\", \"Hudson Soft\", \"Human Entertainment\", \"Imadio\", \"Imagineer\", \"Infogrames\", \"Interplay\", \"Interplay Productions\", \"JVC\", \"Kadokawa Shoten\", \"Kemco\", \"Konami Digital Entertainment\", \"LucasArts\", \"Microprose\", \"Midas Interactive Entertainment\", \"Midway Games\", \"Mindscape\", \"NCS\", \"NEC Interchannel\", \"Namco Bandai Games\", \"Natsume\", \"Nintendo\", \"Ocean\", \"On Demand\", \"Origin Systems\", \"Playmates\", \"Psygnosis\", \"Red Orb\", \"SNK\", \"Sega\", \"Sony Computer Entertainment\", \"Square\", \"SquareSoft\", \"Starfish\", \"Sunsoft\", \"THQ\", \"Taito\", \"Takara\", \"Take-Two Interactive\", \"Tecmo Koei\", \"Titus\", \"UEP Systems\", \"Ubisoft\", \"Vic Tokai\", \"Victor Interactive\", \"Virgin Interactive\", \"Vivendi Games\", \"Warp\", \"Xing Entertainment\", \"3DO\", \"989 Studios\", \"ASC Games\", \"ASCII Entertainment\", \"Acclaim Entertainment\", \"Activision\", \"Agetec\", \"ArtDink\", \"Atari\", \"Atlus\", \"Axela\", \"BMG Interactive Entertainment\", \"Banpresto\", \"Capcom\", \"ChunSoft\", \"Codemasters\", \"Compile\", \"Crave Entertainment\", \"Culture Publishers\", \"D3Publisher\", \"Data East\", \"DreamWorks Interactive\", \"ESP\", \"Eidos Interactive\", \"Electronic Arts\", \"Empire Interactive\", \"Evolution Games\", \"Fortyfive\", \"Fox Interactive\", \"From Software\", \"GT Interactive\", \"Gainax Network Systems\", \"GameTek\", \"General Entertainment\", \"Gremlin Interactive Ltd\", \"Hasbro Interactive\", \"Hudson Entertainment\", \"Hudson Soft\", \"Human Entertainment\", \"Imagineer\", \"Infogrames\", \"Interplay\", \"Irem Software Engineering\", \"JVC\", \"Jaleco\", \"KID\", \"Kadokawa Shoten\", \"Kemco\", \"Konami Digital Entertainment\", \"Locus\", \"MTO\", \"Magical Company\", \"Media Works\", \"Midas Interactive Entertainment\", \"Midway Games\", \"Mindscape\", \"Mitsui\", \"NCS\", \"NEC Interchannel\", \"Namco Bandai Games\", \"NewKidCo\", \"Nintendo\", \"Nippon Ichi Software\", \"Ocean\", \"Pioneer LDC\", \"Psygnosis\", \"Quintet\", \"SNK\", \"SNK Playmore\", \"Saurus\", \"Sega\", \"Sony Computer Entertainment\", \"SquareSoft\", \"Success\", \"Sunsoft\", \"Swing! Entertainment\", \"Syscom\", \"THQ\", \"TYO\", \"Takara\", \"Take-Two Interactive\", \"TechnoSoft\", \"Tecmo Koei\", \"Telstar\", \"Titus\", \"Tomy Corporation\", \"Ubisoft\", \"Unknown\", \"Victor Interactive\", \"Video System\", \"Virgin Interactive\", \"Vivendi Games\", \"3DO\", \"989 Sports\", \"989 Studios\", \"ASC Games\", \"ASCII Entertainment\", \"Acclaim Entertainment\", \"Accolade\", \"Activision\", \"Aqua Plus\", \"Aruze Corp\", \"Atari\", \"Athena\", \"Atlus\", \"Avalon Interactive\", \"Banpresto\", \"Capcom\", \"ChunSoft\", \"Codemasters\", \"Crave Entertainment\", \"Disney Interactive Studios\", \"EON Digital Entertainment\", \"Eidos Interactive\", \"Electronic Arts\", \"Empire Interactive\", \"Enix Corporation\", \"Fox Interactive\", \"From Software\", \"GT Interactive\", \"Genki\", \"Hasbro Interactive\", \"Hudson Entertainment\", \"Hudson Soft\", \"Human Entertainment\", \"Imagineer\", \"Infogrames\", \"Interplay\", \"JVC\", \"Jaleco\", \"Jorudan\", \"Kadokawa Shoten\", \"Kemco\", \"Konami Digital Entertainment\", \"LEGO Media\", \"LucasArts\", \"Mattel Interactive\", \"Microprose\", \"Microsoft Game Studios\", \"Midas Interactive Entertainment\", \"Midway Games\", \"Mindscape\", \"Namco Bandai Games\", \"NewKidCo\", \"Nintendo\", \"Pack In Soft\", \"PopTop Software\", \"Psygnosis\", \"Red Storm Entertainment\", \"SNK\", \"SNK Playmore\", \"Sega\", \"Sony Computer Entertainment\", \"SouthPeak Games\", \"Square\", \"Square EA\", \"SquareSoft\", \"Starfish\", \"Success\", \"Sunsoft\", \"Syscom\", \"THQ\", \"Taito\", \"Takara\", \"Take-Two Interactive\", \"Tecmo Koei\", \"Telegames\", \"Titus\", \"Ubisoft\", \"Virgin Interactive\", \"Vivendi Games\", \"Westwood Studios\", \"3DO\", \"Acclaim Entertainment\", \"Activision\", \"Aruze Corp\", \"Asmik Ace Entertainment\", \"Atari\", \"Atlus\", \"BAM! Entertainment\", \"Banpresto\", \"Capcom\", \"ChunSoft\", \"Codemasters\", \"Crave Entertainment\", \"D3Publisher\", \"Eidos Interactive\", \"Electronic Arts\", \"Empire Interactive\", \"Enix Corporation\", \"Epoch\", \"Fox Interactive\", \"Hasbro Interactive\", \"Havas Interactive\", \"Hudson Soft\", \"Imagineer\", \"Infogrames\", \"Interplay\", \"JVC\", \"Konami Digital Entertainment\", \"LucasArts\", \"Mattel Interactive\", \"Media Factory\", \"Microsoft Game Studios\", \"Midas Interactive Entertainment\", \"Midway Games\", \"Mindscape\", \"NEC Interchannel\", \"Namco Bandai Games\", \"Natsume\", \"Nintendo\", \"Pony Canyon\", \"Psygnosis\", \"SNK\", \"Sega\", \"Sony Computer Entertainment\", \"SquareSoft\", \"Success\", \"Sunrise Interactive\", \"Sunsoft\", \"Swing! Entertainment\", \"TDK Core\", \"THQ\", \"Take-Two Interactive\", \"Tecmo Koei\", \"The Learning Company\", \"Titus\", \"Ubisoft\", \"Vatical Entertainment\", \"Victor Interactive\", \"Video System\", \"Virgin Interactive\", \"Vivendi Games\", \"3DO\", \"ASCII Entertainment\", \"Acclaim Entertainment\", \"Activision\", \"Activision Value\", \"Altron\", \"ArtDink\", \"Atari\", \"Athena\", \"Atlus\", \"BAM! Entertainment\", \"Banpresto\", \"Berkeley\", \"Blue Byte\", \"Capcom\", \"Codemasters\", \"Conspiracy Entertainment\", \"D3Publisher\", \"Destination Software, Inc\", \"DreamCatcher Interactive\", \"Eidos Interactive\", \"Electronic Arts\", \"Empire Interactive\", \"Encore\", \"Enix Corporation\", \"Enterbrain\", \"From Software\", \"Gathering of Developers\", \"Genki\", \"Gust\", \"Hasbro Interactive\", \"Hudson Entertainment\", \"Hudson Soft\", \"Imagineer\", \"Infogrames\", \"Interplay\", \"Kemco\", \"Konami Digital Entertainment\", \"LEGO Media\", \"LucasArts\", \"Magix\", \"Majesco Entertainment\", \"Max Five\", \"Media Factory\", \"Metro 3D\", \"Microsoft Game Studios\", \"Midas Interactive Entertainment\", \"Midway Games\", \"Namco Bandai Games\", \"Natsume\", \"NewKidCo\", \"Nintendo\", \"Pioneer LDC\", \"Rage Software\", \"Rebellion\", \"Red Storm Entertainment\", \"Sammy Corporation\", \"Sega\", \"Sony Computer Entertainment\", \"Sony Computer Entertainment Europe\", \"Sony Music Entertainment\", \"Spike\", \"Square\", \"SquareSoft\", \"Starfish\", \"Strategy First\", \"Success\", \"Swing! Entertainment\", \"TDK Mediactive\", \"THQ\", \"Taito\", \"Takara\", \"Take-Two Interactive\", \"TalonSoft\", \"Tecmo Koei\", \"Titus\", \"Ubisoft\", \"Universal Interactive\", \"Unknown\", \"Victor Interactive\", \"Virgin Interactive\", \"Vivendi Games\", \"Wanadoo\", \"3DO\", \"505 Games\", \"Acclaim Entertainment\", \"Activision\", \"Activision Value\", \"Agetec\", \"Arika\", \"Atari\", \"Atlus\", \"Avalon Interactive\", \"BAM! Entertainment\", \"Banpresto\", \"Bethesda Softworks\", \"Big Ben Interactive\", \"Black Label Games\", \"Capcom\", \"ChunSoft\", \"Codemasters\", \"Conspiracy Entertainment\", \"Crave Entertainment\", \"Datam Polystar\", \"Destination Software, Inc\", \"DigiCube\", \"Disney Interactive Studios\", \"ESP\", \"Eidos Interactive\", \"Electronic Arts\", \"Empire Interactive\", \"Enix Corporation\", \"Enterbrain\", \"From Software\", \"Gotham Games\", \"Gust\", \"Hamster Corporation\", \"Hudson Soft\", \"Idea Factory\", \"Ignition Entertainment\", \"Infogrames\", \"Interplay\", \"Jaleco\", \"Jester Interactive\", \"JoWood Productions\", \"Jorudan\", \"Kemco\", \"King Records\", \"Konami Digital Entertainment\", \"LEGO Media\", \"LSP Games\", \"Liquid Games\", \"LucasArts\", \"Majesco Entertainment\", \"Marvelous Interactive\", \"Media Entertainment\", \"Media Rings\", \"Metro 3D\", \"Microids\", \"Microsoft Game Studios\", \"Midas Interactive Entertainment\", \"Midway Games\", \"NDA Productions\", \"Namco Bandai Games\", \"Natsume\", \"NewKidCo\", \"Nintendo\", \"Nippon Amuse\", \"Pacific Century Cyber Works\", \"Phantagram\", \"Play It\", \"Playmore\", \"Princess Soft\", \"Rage Software\", \"Rebellion\", \"SCi\", \"Sammy Corporation\", \"Sega\", \"Simon & Schuster Interactive\", \"Sony Computer Entertainment\", \"Spike\", \"SquareSoft\", \"Success\", \"Swing! Entertainment\", \"TDK Core\", \"TDK Mediactive\", \"THQ\", \"Taito\", \"Takara\", \"Take-Two Interactive\", \"Tecmo Koei\", \"Titus\", \"Ubisoft\", \"Universal Interactive\", \"Unknown\", \"Victor Interactive\", \"Virgin Interactive\", \"Vivendi Games\", \"Wanadoo\", \"XS Games\", \"Xicat Interactive\", \"Zoo Digital Publishing\", \"3DO\", \"505 Games\", \"Acclaim Entertainment\", \"Activision\", \"Activision Value\", \"Agetec\", \"Aspyr\", \"Atari\", \"Atlus\", \"Avalon Interactive\", \"BAM! Entertainment\", \"Banpresto\", \"Bethesda Softworks\", \"CCP\", \"Capcom\", \"Codemasters\", \"Crave Entertainment\", \"Destination Software, Inc\", \"Disney Interactive Studios\", \"DreamCatcher Interactive\", \"Eidos Interactive\", \"Electronic Arts\", \"Empire Interactive\", \"Encore\", \"Enix Corporation\", \"Game Factory\", \"Gathering of Developers\", \"Genki\", \"Ghostlight\", \"Gotham Games\", \"Hudson Entertainment\", \"Hudson Soft\", \"Ignition Entertainment\", \"Infogrames\", \"Interplay\", \"Jaleco\", \"Jester Interactive\", \"Jorudan\", \"Kemco\", \"Knowledge Adventure\", \"Konami Digital Entertainment\", \"Kool Kizz\", \"LSP Games\", \"LucasArts\", \"Majesco Entertainment\", \"Marvelous Interactive\", \"Metro 3D\", \"Microids\", \"Microsoft Game Studios\", \"Midway Games\", \"Mindscape\", \"Mud Duck Productions\", \"Namco Bandai Games\", \"Natsume\", \"NewKidCo\", \"Nintendo\", \"Play It\", \"SCi\", \"Sammy Corporation\", \"Sega\", \"Sony Computer Entertainment\", \"Sony Online Entertainment\", \"Square Enix\", \"SquareSoft\", \"TDK Mediactive\", \"THQ\", \"Taito\", \"Takara\", \"Take-Two Interactive\", \"Tecmo Koei\", \"Telegames\", \"Titus\", \"Tomy Corporation\", \"Ubisoft\", \"Universal Interactive\", \"Unknown\", \"Vivendi Games\", \"Wanadoo\", \"Warner Bros. Interactive Entertainment\", \"Xicat Interactive\", \"Zoo Digital Publishing\", \"505 Games\", \"Acclaim Entertainment\", \"Activision\", \"Activision Value\", \"Agatsuma Entertainment\", \"Arika\", \"Ascaron Entertainment GmbH\", \"Atari\", \"Atlus\", \"Avalon Interactive\", \"BAM! Entertainment\", \"Banpresto\", \"Bethesda Softworks\", \"Big Ben Interactive\", \"Capcom\", \"Codemasters\", \"Crave Entertainment\", \"Deep Silver\", \"Destination Software, Inc\", \"Disney Interactive Studios\", \"DreamCatcher Interactive\", \"Eidos Interactive\", \"Electronic Arts\", \"Empire Interactive\", \"Enix Corporation\", \"Enterbrain\", \"Evolved Games\", \"Game Factory\", \"Gathering of Developers\", \"Ghostlight\", \"Global Star\", \"Gotham Games\", \"Hip Interactive\", \"Hudson Soft\", \"Ignition Entertainment\", \"Illusion Softworks\", \"Indie Games\", \"Interplay\", \"Jaleco\", \"JoWood Productions\", \"Kadokawa Shoten\", \"Konami Digital Entertainment\", \"LucasArts\", \"MC2 Entertainment\", \"Mad Catz\", \"Majesco Entertainment\", \"Marvelous Interactive\", \"Mastiff\", \"Microids\", \"Microsoft Game Studios\", \"Midway Games\", \"Mud Duck Productions\", \"Namco Bandai Games\", \"Nintendo\", \"O3 Entertainment\", \"Play It\", \"SCi\", \"Sammy Corporation\", \"Sega\", \"Sony Computer Entertainment\", \"Sony Computer Entertainment Europe\", \"Sony Online Entertainment\", \"SouthPeak Games\", \"Spike\", \"Square Enix\", \"Sting\", \"Summitsoft\", \"Sunflowers\", \"TDK Mediactive\", \"THQ\", \"Take-Two Interactive\", \"Tecmo Koei\", \"Tomy Corporation\", \"Ubisoft\", \"Unknown\", \"Vivendi Games\", \"XS Games\", \"Zoo Digital Publishing\", \"responDESIGN\", \"505 Games\", \"Activision\", \"Activision Value\", \"Atari\", \"Banpresto\", \"Bethesda Softworks\", \"Black Bean Games\", \"CDV Software Entertainment\", \"Capcom\", \"Codemasters\", \"Crave Entertainment\", \"D3Publisher\", \"DSI Games\", \"DTP Entertainment\", \"Deep Silver\", \"Destination Software, Inc\", \"Disney Interactive Studios\", \"DreamCatcher Interactive\", \"Eidos Interactive\", \"Electronic Arts\", \"Empire Interactive\", \"Encore\", \"Essential Games\", \"Flashpoint Games\", \"Game Factory\", \"Ghostlight\", \"Global Star\", \"Graphsim Entertainment\", \"Groove Games\", \"Hip Interactive\", \"Hudson Soft\", \"Idea Factory\", \"Ignition Entertainment\", \"Jack of All Games\", \"Jester Interactive\", \"JoWood Productions\", \"Kadokawa Shoten\", \"Kemco\", \"Konami Digital Entertainment\", \"LucasArts\", \"MC2 Entertainment\", \"Majesco Entertainment\", \"Marvelous Interactive\", \"Mastiff\", \"Microids\", \"Microsoft Game Studios\", \"Midas Interactive Entertainment\", \"Midway Games\", \"NCSoft\", \"Namco Bandai Games\", \"Nintendo\", \"NovaLogic\", \"Oxygen Interactive\", \"Play It\", \"Playlogic Game Factory\", \"RedOctane\", \"Rising Star Games\", \"SCi\", \"SNK\", \"SNK Playmore\", \"Sega\", \"Sony Computer Entertainment\", \"Sony Online Entertainment\", \"SouthPeak Games\", \"Square Enix\", \"Success\", \"THQ\", \"Take-Two Interactive\", \"Tecmo Koei\", \"Telegames\", \"Tomy Corporation\", \"Ubisoft\", \"Unknown\", \"Valcon Games\", \"ValuSoft\", \"Vivendi Games\", \"Wanadoo\", \"Warner Bros. Interactive Entertainment\", \"XS Games\", \"Xplosiv\", \"Yuke's\", \"Zoo Digital Publishing\", \"responDESIGN\", \"10TACLE Studios\", \"505 Games\", \"Acquire\", \"Activision\", \"Activision Value\", \"Alchemist\", \"Aqua Plus\", \"Aria\", \"Asmik Ace Entertainment\", \"Atari\", \"Atlus\", \"Banpresto\", \"Bethesda Softworks\", \"Broccoli\", \"Capcom\", \"ChunSoft\", \"Codemasters\", \"Crave Entertainment\", \"D3Publisher\", \"DSI Games\", \"Daito\", \"Deep Silver\", \"Destination Software, Inc\", \"Disney Interactive Studios\", \"DreamCatcher Interactive\", \"Edia\", \"Eidos Interactive\", \"Electronic Arts\", \"Empire Interactive\", \"Enterbrain\", \"Essential Games\", \"Focus Home Interactive\", \"From Software\", \"Funsta\", \"GN Software\", \"Game Factory\", \"Ghostlight\", \"Global A Entertainment\", \"Global Star\", \"Groove Games\", \"Hamster Corporation\", \"Hasbro Interactive\", \"Hudson Entertainment\", \"Hudson Soft\", \"IE Institute\", \"Idea Factory\", \"Ignition Entertainment\", \"Interchannel\", \"Irem Software Engineering\", \"JoWood Productions\", \"KID\", \"Kadokawa Shoten\", \"Kando Games\", \"Konami Digital Entertainment\", \"Liquid Games\", \"LucasArts\", \"MTO\", \"Mad Catz\", \"Majesco Entertainment\", \"Marvelous Interactive\", \"Mastertronic\", \"Media Works\", \"Michaelsoft\", \"Microsoft Game Studios\", \"Midas Interactive Entertainment\", \"Midway Games\", \"Mumbo Jumbo\", \"Myelin Media\", \"NCSoft\", \"Namco Bandai Games\", \"Natsume\", \"Nintendo\", \"O3 Entertainment\", \"Ongakukan\", \"Oxygen Interactive\", \"PopCap Games\", \"Princess Soft\", \"RedOctane\", \"Rising Star Games\", \"Rocket Company\", \"SNK Playmore\", \"Sammy Corporation\", \"Sega\", \"Shogakukan\", \"Sony Computer Entertainment\", \"Sony Online Entertainment\", \"SouthPeak Games\", \"Spike\", \"Square Enix\", \"Sting\", \"Success\", \"Sunrise Interactive\", \"Sweets\", \"System 3 Arcade Software\", \"TDK Core\", \"THQ\", \"Taito\", \"Takara Tomy\", \"Take-Two Interactive\", \"Tecmo Koei\", \"Tomy Corporation\", \"Ubisoft\", \"Unknown\", \"Valcon Games\", \"Vivendi Games\", \"Warner Bros. Interactive Entertainment\", \"Xplosiv\", \"Yamasa Entertainment\", \"Yeti\", \"Yuke's\", \"Zenrin\", \"Zoo Digital Publishing\", \"10TACLE Studios\", \"505 Games\", \"AQ Interactive\", \"Activision\", \"Activision Value\", \"Alchemist\", \"Aqua Plus\", \"Aspyr\", \"Atari\", \"Atlus\", \"Avanquest\", \"Banpresto\", \"Benesse\", \"Bethesda Softworks\", \"Black Bean Games\", \"Blast! Entertainment Ltd\", \"Brash Entertainment\", \"Broccoli\", \"Capcom\", \"Codemasters\", \"CokeM Interactive\", \"Conspiracy Entertainment\", \"Crave Entertainment\", \"CyberFront\", \"D3Publisher\", \"DHM Interactive\", \"DSI Games\", \"DTP Entertainment\", \"Data Design Interactive\", \"Datam Polystar\", \"Deep Silver\", \"Destination Software, Inc\", \"Destineer\", \"Detn8 Games\", \"Disney Interactive Studios\", \"Eidos Interactive\", \"Electronic Arts\", \"Empire Interactive\", \"Enterbrain\", \"Ertain\", \"Falcom Corporation\", \"Flight-Plan\", \"Focus Home Interactive\", \"Funsta\", \"Gakken\", \"Game Factory\", \"Game Life\", \"Gameloft\", \"Genki\", \"Ghostlight\", \"Global A Entertainment\", \"Grand Prix Games\", \"Gust\", \"Hackberry\", \"Hudson Entertainment\", \"Hudson Soft\", \"IE Institute\", \"Idea Factory\", \"Ignition Entertainment\", \"Interchannel-Holon\", \"Irem Software Engineering\", \"Jaleco\", \"JoWood Productions\", \"Kadokawa Shoten\", \"Kalypso Media\", \"Kids Station\", \"Konami Digital Entertainment\", \"Lexicon Entertainment\", \"Lighthouse Interactive\", \"LucasArts\", \"MTO\", \"Majesco Entertainment\", \"Marvelous Interactive\", \"Media Works\", \"Mercury Games\", \"Metro 3D\", \"Microsoft Game Studios\", \"Midas Interactive Entertainment\", \"Midway Games\", \"Mindscape\", \"Monte Christo Multimedia\", \"Mumbo Jumbo\", \"Namco Bandai Games\", \"Natsume\", \"Neko Entertainment\", \"Nintendo\", \"Nippon Ichi Software\", \"Nobilis\", \"Nordcurrent\", \"O3 Entertainment\", \"Oxygen Interactive\", \"PQube\", \"Paon\", \"Paradox Interactive\", \"Phenomedia\", \"Phoenix Games\", \"Popcorn Arcade\", \"Prototype\", \"RTL\", \"RedOctane\", \"Rising Star Games\", \"Rocket Company\", \"Russel\", \"SNK Playmore\", \"Scholastic Inc.\", \"Sega\", \"Shogakukan\", \"Sony Computer Entertainment\", \"SouthPeak Games\", \"Spike\", \"Square Enix\", \"Starfish\", \"Sting\", \"Success\", \"Sunrise Interactive\", \"System 3 Arcade Software\", \"TDK Core\", \"THQ\", \"Taito\", \"Takara Tomy\", \"Take-Two Interactive\", \"Tecmo Koei\", \"Telegames\", \"Tommo\", \"Tomy Corporation\", \"Touchstone\", \"UFO Interactive\", \"Ubisoft\", \"Unknown\", \"Vivendi Games\", \"Warashi\", \"Warner Bros. Interactive Entertainment\", \"White Park Bay Software\", \"XS Games\", \"Xplosiv\", \"Yeti\", \"Yuke's\", \"Zenrin\", \"Zoo Digital Publishing\", \"Zushi Games\", \"2D Boy\", \"505 Games\", \"5pb\", \"AQ Interactive\", \"ASCII Media Works\", \"Acquire\", \"Activision\", \"Activision Value\", \"Aksys Games\", \"Alchemist\", \"Aqua Plus\", \"Arc System Works\", \"Arika\", \"Ascaron Entertainment GmbH\", \"Aspyr\", \"Atari\", \"Atlus\", \"Avanquest\", \"Banpresto\", \"Benesse\", \"Bethesda Softworks\", \"Big Ben Interactive\", \"Big Fish Games\", \"Black Bean Games\", \"Blast! Entertainment Ltd\", \"Brash Entertainment\", \"Broccoli\", \"CDV Software Entertainment\", \"Capcom\", \"Cave\", \"City Interactive\", \"Codemasters\", \"Codemasters Online\", \"Commseed\", \"Compile Heart\", \"Conspiracy Entertainment\", \"Crave Entertainment\", \"Creative Core\", \"Crimson Cow\", \"Culture Brain\", \"CyberFront\", \"D3Publisher\", \"DSI Games\", \"DTP Entertainment\", \"Data Design Interactive\", \"Deep Silver\", \"Destination Software, Inc\", \"Destineer\", \"Disney Interactive Studios\", \"Dorart\", \"DreamCatcher Interactive\", \"Eidos Interactive\", \"Electronic Arts\", \"Empire Interactive\", \"Enterbrain\", \"Falcom Corporation\", \"Focus Home Interactive\", \"GN Software\", \"GOA\", \"GSP\", \"Game Factory\", \"Gamebridge\", \"Gamecock\", \"Ghostlight\", \"Global A Entertainment\", \"Graffiti\", \"GungHo\", \"Gust\", \"HMH Interactive\", \"Hackberry\", \"Hudson Entertainment\", \"Hudson Soft\", \"IE Institute\", \"Idea Factory\", \"Ignition Entertainment\", \"Interchannel\", \"Irem Software Engineering\", \"Jaleco\", \"JoWood Productions\", \"Kadokawa Shoten\", \"Kalypso Media\", \"Koch Media\", \"Konami Digital Entertainment\", \"Legacy Interactive\", \"Lexicon Entertainment\", \"LucasArts\", \"MTO\", \"MTV Games\", \"Majesco Entertainment\", \"Marvelous Interactive\", \"Mercury Games\", \"Metro 3D\", \"Microsoft Game Studios\", \"Midas Interactive Entertainment\", \"Midway Games\", \"Milestone\", \"Minato Station\", \"Mindscape\", \"Mirai Shounen\", \"Moss\", \"Mumbo Jumbo\", \"NEC Interchannel\", \"Namco Bandai Games\", \"Navarre Corp\", \"Naxat Soft\", \"Neko Entertainment\", \"Nintendo\", \"Nippon Ichi Software\", \"Nobilis\", \"Nordcurrent\", \"Nordic Games\", \"Oxygen Interactive\", \"PQube\", \"Paon\", \"Paradox Interactive\", \"Phenomedia\", \"Pinnacle\", \"Playlogic Game Factory\", \"PopCap Games\", \"Popcorn Arcade\", \"Princess Soft\", \"Prototype\", \"RTL\", \"Rising Star Games\", \"Rocket Company\", \"Rondomedia\", \"Russel\", \"SNK Playmore\", \"Scholastic Inc.\", \"Sega\", \"Sony Computer Entertainment\", \"SouthPeak Games\", \"Spike\", \"Square Enix\", \"Sting\", \"Success\", \"System 3 Arcade Software\", \"System Soft\", \"THQ\", \"Takara Tomy\", \"Take-Two Interactive\", \"Tecmo Koei\", \"Telegames\", \"The Adventure Company\", \"Tivola\", \"Tomy Corporation\", \"Touchstone\", \"Tryfirst\", \"UFO Interactive\", \"Ubisoft\", \"Unknown\", \"Valcon Games\", \"ValuSoft\", \"Vir2L Studios\", \"Vivendi Games\", \"Warner Bros. Interactive Entertainment\", \"XS Games\", \"Xplosiv\", \"Yeti\", \"Zoo Digital Publishing\", \"Zoo Games\", \"Zushi Games\", \"fonfun\", \"1C Company\", \"49Games\", \"505 Games\", \"5pb\", \"AQ Interactive\", \"ASCII Media Works\", \"Ackkstudios\", \"Acquire\", \"Activision\", \"Activision Value\", \"Agetec\", \"Alawar Entertainment\", \"Alchemist\", \"Alvion\", \"Aqua Plus\", \"Arc System Works\", \"ArtDink\", \"Aspyr\", \"Astragon\", \"Atari\", \"Atlus\", \"Avanquest\", \"Banpresto\", \"Bethesda Softworks\", \"Big Ben Interactive\", \"Black Bean Games\", \"Blast! Entertainment Ltd\", \"Broccoli\", \"CDV Software Entertainment\", \"Capcom\", \"Cave\", \"ChunSoft\", \"City Interactive\", \"Codemasters\", \"Compile Heart\", \"Conspiracy Entertainment\", \"Crave Entertainment\", \"Creative Core\", \"CyberFront\", \"D3Publisher\", \"DHM Interactive\", \"DTP Entertainment\", \"Daedalic\", \"Data Design Interactive\", \"Deep Silver\", \"Destineer\", \"Disney Interactive Studios\", \"DreamCatcher Interactive\", \"Ecole\", \"Edia\", \"Eidos Interactive\", \"Electronic Arts\", \"Enjoy Gaming ltd.\", \"Enterbrain\", \"Evolved Games\", \"Falcom Corporation\", \"Flight-Plan\", \"Focus Home Interactive\", \"From Software\", \"G.Rev\", \"GSP\", \"Game Life\", \"Gamebridge\", \"Genterprise\", \"Ghostlight\", \"Graffiti\", \"GungHo\", \"Gust\", \"HMH Interactive\", \"Hudson Entertainment\", \"Hudson Soft\", \"Idea Factory\", \"Ignition Entertainment\", \"Irem Software Engineering\", \"JoWood Productions\", \"Kadokawa Shoten\", \"Kalypso Media\", \"Knowledge Adventure\", \"Konami Digital Entertainment\", \"Level 5\", \"LucasArts\", \"MTV Games\", \"Magix\", \"Majesco Entertainment\", \"Marvelous Interactive\", \"Mastertronic\", \"Mastiff\", \"Mentor Interactive\", \"Merscom LLC\", \"Microsoft Game Studios\", \"Midas Interactive Entertainment\", \"Mindscape\", \"Namco Bandai Games\", \"Natsume\", \"Neko Entertainment\", \"Nintendo\", \"Nippon Ichi Software\", \"Nobilis\", \"Nordcurrent\", \"Nordic Games\", \"NovaLogic\", \"Number None\", \"O-Games\", \"Oxygen Interactive\", \"P2 Games\", \"PM Studios\", \"PQube\", \"Paradox Interactive\", \"Performance Designed Products\", \"Phantom EFX\", \"Phenomedia\", \"Pinnacle\", \"PlayV\", \"Playlogic Game Factory\", \"PopCap Games\", \"Prototype\", \"RTL\", \"Reef Entertainment\", \"Revolution (Japan)\", \"Rising Star Games\", \"Rocket Company\", \"Rondomedia\", \"Russel\", \"SNK Playmore\", \"Sega\", \"Slitherine Software\", \"Sony Computer Entertainment\", \"SouthPeak Games\", \"Spike\", \"Square Enix\", \"Starfish\", \"Storm City Games\", \"Success\", \"Sweets\", \"System 3 Arcade Software\", \"TGL\", \"THQ\", \"Takara Tomy\", \"Take-Two Interactive\", \"Tecmo Koei\", \"The Adventure Company\", \"Tivola\", \"Tommo\", \"Tomy Corporation\", \"UFO Interactive\", \"Ubisoft\", \"Ubisoft Annecy\", \"Unknown\", \"Valcon Games\", \"ValuSoft\", \"Valve Software\", \"Vir2L Studios\", \"Vivendi Games\", \"Warner Bros. Interactive Entertainment\", \"XS Games\", \"Yeti\", \"Zoo Digital Publishing\", \"Zoo Games\", \"Zushi Games\", \"bitComposer Games\", \"505 Games\", \"5pb\", \"7G//AMES\", \"ASCII Media Works\", \"Abylight\", \"Ackkstudios\", \"Acquire\", \"Activision\", \"Aerosoft\", \"Alchemist\", \"Alternative Software\", \"Alvion\", \"Aqua Plus\", \"Arc System Works\", \"ArtDink\", \"Asgard\", \"Astragon\", \"Asylum Entertainment\", \"Atari\", \"Atlus\", \"Avanquest\", \"Bethesda Softworks\", \"Black Bean Games\", \"Broccoli\", \"Capcom\", \"Cave\", \"ChunSoft\", \"City Interactive\", \"Codemasters\", \"Comfort\", \"Compile Heart\", \"Conspiracy Entertainment\", \"Crave Entertainment\", \"Culture Brain\", \"CyberFront\", \"D3Publisher\", \"DTP Entertainment\", \"Daedalic\", \"Deep Silver\", \"Destineer\", \"Devolver Digital\", \"Disney Interactive Studios\", \"Dorart\", \"DreamCatcher Interactive\", \"Electronic Arts\", \"Enterbrain\", \"Falcom Corporation\", \"Flashpoint Games\", \"Focus Home Interactive\", \"Foreign Media Games\", \"From Software\", \"FuRyu\", \"Funcom\", \"G.Rev\", \"GN Software\", \"GSP\", \"Game Factory\", \"GameMill Entertainment\", \"Ghostlight\", \"Graffiti\", \"Griffin International\", \"Gust\", \"Hackberry\", \"Home Entertainment Suppliers\", \"Hudson Soft\", \"Idea Factory\", \"Irem Software Engineering\", \"JoWood Productions\", \"Kadokawa Shoten\", \"Kalypso Media\", \"Kamui\", \"Karin Entertainment\", \"Konami Digital Entertainment\", \"Level 5\", \"Little Orbit\", \"LucasArts\", \"MTO\", \"MTV Games\", \"Majesco Entertainment\", \"Mamba Games\", \"Marvelous Interactive\", \"Mastertronic\", \"Mastiff\", \"Mentor Interactive\", \"Microsoft Game Studios\", \"Mindscape\", \"Namco Bandai Games\", \"Natsume\", \"Neko Entertainment\", \"NetRevo\", \"Nexon\", \"Nintendo\", \"Nippon Ichi Software\", \"Nobilis\", \"Nordcurrent\", \"Nordic Games\", \"O-Games\", \"PQube\", \"Paon\", \"Paradox Interactive\", \"Piacci\", \"PlayV\", \"PopCap Games\", \"Prototype\", \"RED Entertainment\", \"Reef Entertainment\", \"Rising Star Games\", \"Rocket Company\", \"Rondomedia\", \"Russel\", \"SNK Playmore\", \"Scholastic Inc.\", \"Sega\", \"Slitherine Software\", \"Sony Computer Entertainment\", \"SouthPeak Games\", \"Spike\", \"Square Enix\", \"Starfish\", \"Sting\", \"Storm City Games\", \"System Soft\", \"THQ\", \"Taito\", \"Takara Tomy\", \"Take-Two Interactive\", \"Team17 Software\", \"Tecmo Koei\", \"Telegames\", \"Tomy Corporation\", \"Tradewest\", \"UFO Interactive\", \"Ubisoft\", \"Ubisoft Annecy\", \"Unknown\", \"Valcon Games\", \"Virtual Play Games\", \"Warner Bros. Interactive Entertainment\", \"XS Games\", \"Yeti\", \"Zoo Games\", \"1C Company\", \"505 Games\", \"5pb\", \"7G//AMES\", \"ASCII Media Works\", \"Ackkstudios\", \"Acquire\", \"Activision\", \"Alchemist\", \"Aqua Plus\", \"Asgard\", \"Astragon\", \"Asylum Entertainment\", \"Atari\", \"Atlus\", \"Avanquest\", \"Banpresto\", \"Bethesda Softworks\", \"Big Ben Interactive\", \"Black Bean Games\", \"Broccoli\", \"CDV Software Entertainment\", \"Capcom\", \"Cave\", \"ChunSoft\", \"City Interactive\", \"Codemasters\", \"Comfort\", \"Compile Heart\", \"Crave Entertainment\", \"Crimson Cow\", \"CyberFront\", \"D3Publisher\", \"DTP Entertainment\", \"Deep Silver\", \"Destineer\", \"Disney Interactive Studios\", \"Electronic Arts\", \"Evolved Games\", \"Excalibur Publishing\", \"Falcom Corporation\", \"Focus Home Interactive\", \"FuRyu\", \"Funbox Media\", \"GSP\", \"GameMill Entertainment\", \"Ghostlight\", \"GungHo\", \"Gust\", \"Her Interactive\", \"Home Entertainment Suppliers\", \"Hudson Soft\", \"Iceberg Interactive\", \"Idea Factory\", \"Ignition Entertainment\", \"Irem Software Engineering\", \"Jack of All Games\", \"Kadokawa Shoten\", \"Kalypso Media\", \"Koch Media\", \"Konami Digital Entertainment\", \"Level 5\", \"LucasArts\", \"MTV Games\", \"Majesco Entertainment\", \"Marvelous Interactive\", \"Masque Publishing\", \"Mastertronic\", \"Mastiff\", \"Mentor Interactive\", \"Microsoft Game Studios\", \"Namco Bandai Games\", \"Nintendo\", \"Nippon Ichi Software\", \"Nordic Games\", \"O-Games\", \"P2 Games\", \"PQube\", \"Paon\", \"Paradox Interactive\", \"Plenty\", \"PopCap Games\", \"Prototype\", \"Quinrose\", \"Rising Star Games\", \"Rocket Company\", \"Rondomedia\", \"Scholastic Inc.\", \"Sega\", \"Sony Computer Entertainment\", \"Sony Online Entertainment\", \"Spike\", \"Square Enix\", \"Starfish\", \"Storm City Games\", \"Sunsoft\", \"System Soft\", \"THQ\", \"Takara Tomy\", \"Take-Two Interactive\", \"Takuyo\", \"Tecmo Koei\", \"Telltale Games\", \"Tetris Online\", \"Tommo\", \"TopWare Interactive\", \"Tripwire Interactive\", \"UFO Interactive\", \"Ubisoft\", \"Ubisoft Annecy\", \"Unknown\", \"ValuSoft\", \"Valve\", \"Valve Software\", \"Visco\", \"Wargaming.net\", \"Warner Bros. Interactive Entertainment\", \"Zoo Games\", \"bitComposer Games\", \"iWin\", \"505 Games\", \"5pb\", \"Ackkstudios\", \"Acquire\", \"Activision\", \"Agatsuma Entertainment\", \"Alchemist\", \"Aqua Plus\", \"Arc System Works\", \"Ascaron Entertainment\", \"Asgard\", \"Atari\", \"Atlus\", \"Avanquest Software\", \"Bethesda Softworks\", \"Broccoli\", \"BushiRoad\", \"Capcom\", \"Cave\", \"ChunSoft\", \"Cloud Imperium Games Corporation\", \"Codemasters\", \"Comfort\", \"Compile Heart\", \"CyberFront\", \"D3Publisher\", \"DTP Entertainment\", \"Daedalic\", \"Daedalic Entertainment\", \"Deep Silver\", \"Disney Interactive Studios\", \"EA Games\", \"Easy Interactive\", \"Electronic Arts\", \"Excalibur Publishing\", \"Falcom Corporation\", \"Fields\", \"Focus Home Interactive\", \"Focus Multimedia\", \"FuRyu\", \"Funbox Media\", \"Funcom\", \"GameMill Entertainment\", \"Genki\", \"Giza10\", \"GungHo\", \"Gust\", \"IE Institute\", \"Iceberg Interactive\", \"Idea Factory\", \"Image Epoch\", \"Interworks Unlimited, Inc.\", \"Irem Software Engineering\", \"Kadokawa Games\", \"Kadokawa Shoten\", \"Kalypso Media\", \"Konami Digital Entertainment\", \"Level 5\", \"Licensed 4U\", \"Mad Catz\", \"Marvelous Entertainment\", \"Mastertronic\", \"Maximum Family Games\", \"Microsoft Game Studios\", \"Minato Station\", \"NCSoft\", \"Namco Bandai Games\", \"NetRevo\", \"Nihon Falcom Corporation\", \"Nintendo\", \"Nippon Columbia\", \"Nippon Ichi Software\", \"Nordic Games\", \"PQube\", \"Paradox Interactive\", \"Prototype\", \"Quinrose\", \"Reef Entertainment\", \"Rising Star Games\", \"Rocket Company\", \"SCS Software\", \"Sega\", \"Sony Computer Entertainment\", \"Sony Computer Entertainment Europe\", \"Spike\", \"Square Enix\", \"Starfish\", \"THQ\", \"Take-Two Interactive\", \"Tecmo Koei\", \"Trion Worlds\", \"UFO Interactive\", \"Ubisoft\", \"Ubisoft Annecy\", \"Unknown\", \"Views\", \"Warner Bros. Interactive Entertainment\", \"Xseed Games\", \"Yeti\", \"505 Games\", \"5pb\", \"Activision\", \"Aerosoft\", \"Agatsuma Entertainment\", \"Alchemist\", \"Aqua Plus\", \"Arc System Works\", \"Asgard\", \"Atlus\", \"Avanquest Software\", \"Big Ben Interactive\", \"Bohemia Interactive\", \"Boost On\", \"Broccoli\", \"Capcom\", \"Cave\", \"City Interactive\", \"Codemasters\", \"Comfort\", \"Compile Heart\", \"CyberFront\", \"D3Publisher\", \"Daedalic Entertainment\", \"Deep Silver\", \"Disney Interactive Studios\", \"Electronic Arts\", \"Falcom Corporation\", \"Focus Home Interactive\", \"From Software\", \"FuRyu\", \"GungHo\", \"Gust\", \"Headup Games\", \"Idea Factory\", \"Kadokawa Games\", \"Kadokawa Shoten\", \"Kaga Create\", \"Koch Media\", \"Konami Digital Entertainment\", \"Level 5\", \"Little Orbit\", \"Majesco Entertainment\", \"Marvelous Entertainment\", \"Microsoft Game Studios\", \"Moss\", \"Namco Bandai Games\", \"Nintendo\", \"Nippon Columbia\", \"Nippon Ichi Software\", \"Nordic Games\", \"Office Create\", \"Otomate\", \"PQube\", \"Paon Corporation\", \"Prototype\", \"Quinrose\", \"Rising Star Games\", \"Rocket Company\", \"Screenlife\", \"Sega\", \"Seventh Chord\", \"Sony Computer Entertainment\", \"Sony Computer Entertainment Europe\", \"Square Enix\", \"Success\", \"System 3\", \"THQ\", \"Takara Tomy\", \"Take-Two Interactive\", \"Tecmo Koei\", \"Trion Worlds\", \"Ubisoft\", \"Unknown\", \"Warner Bros. Interactive Entertainment\", \"Xseed Games\", \"505 Games\", \"5pb\", \"ASCII Media Works\", \"Acquire\", \"Activision\", \"Activision Blizzard\", \"Aksys Games\", \"Arc System Works\", \"ArtDink\", \"Atlus\", \"Bethesda Softworks\", \"Big Fish Games\", \"Capcom\", \"City Interactive\", \"Codemasters\", \"Compile Heart\", \"D3Publisher\", \"Deep Silver\", \"Disney Interactive Studios\", \"Electronic Arts\", \"Experience Inc.\", \"Focus Home Interactive\", \"FuRyu\", \"Giga\", \"GungHo\", \"Happinet\", \"Idea Factory\", \"Idea Factory International\", \"Kadokawa Games\", \"Kadokawa Shoten\", \"Kalypso Media\", \"Konami Digital Entertainment\", \"Level 5\", \"Little Orbit\", \"Marvelous Entertainment\", \"Marvelous Interactive\", \"Microsoft Game Studios\", \"Milestone S.r.l.\", \"NCSoft\", \"Namco Bandai Games\", \"Natsume\", \"Nihon Falcom Corporation\", \"Nintendo\", \"Nippon Columbia\", \"Nippon Ichi Software\", \"Nitroplus\", \"Nordic Games\", \"Office Create\", \"Paradox Interactive\", \"Prototype\", \"Quinrose\", \"Rocket Company\", \"Sega\", \"Sony Computer Entertainment\", \"Sony Computer Entertainment America\", \"Sony Computer Entertainment Europe\", \"Square Enix\", \"Success\", \"Take-Two Interactive\", \"Tecmo Koei\", \"Telltale Games\", \"Tru Blu Entertainment\", \"Type-Moon\", \"Ubisoft\", \"Unknown\", \"Views\", \"Warner Bros. Interactive Entertainment\", \"Xseed Games\", \"imageepoch Inc.\", \"505 Games\", \"5pb\", \"Activision\", \"Aksys Games\", \"Alawar Entertainment\", \"Alchemist\", \"Alternative Software\", \"Aqua Plus\", \"Arc System Works\", \"Asgard\", \"Atlus\", \"Avanquest Software\", \"Bethesda Softworks\", \"Bigben Interactive\", \"Broccoli\", \"Capcom\", \"Codemasters\", \"Compile Heart\", \"Cygames\", \"D3Publisher\", \"Deep Silver\", \"Devolver Digital\", \"Disney Interactive Studios\", \"Electronic Arts\", \"Experience Inc.\", \"Extreme Entertainment Group\", \"Focus Home Interactive\", \"Focus Multimedia\", \"FuRyu\", \"FuRyu Corporation\", \"Funbox Media\", \"Happinet\", \"Harmonix Music Systems\", \"HuneX\", \"Idea Factory\", \"Idea Factory International\", \"Intergrow\", \"Kadokawa Games\", \"Kadokawa Shoten\", \"Kaga Create\", \"Kalypso Media\", \"Koch Media\", \"Konami Digital Entertainment\", \"Level 5\", \"Little Orbit\", \"Marvel Entertainment\", \"Marvelous Entertainment\", \"Marvelous Games\", \"Marvelous Interactive\", \"Microsoft Game Studios\", \"Milestone S.r.l.\", \"Minato Station\", \"Mojang\", \"Namco Bandai Games\", \"Nihon Falcom Corporation\", \"Nintendo\", \"Nippon Columbia\", \"Nippon Ichi Software\", \"Nitroplus\", \"Nordic Games\", \"PQube\", \"Paradox Interactive\", \"Prototype\", \"Rain Games\", \"Rebellion Developments\", \"Revolution Software\", \"Rocket Company\", \"Rondomedia\", \"Screenlife\", \"Sega\", \"Shogakukan\", \"Slightly Mad Studios\", \"Sony Computer Entertainment\", \"Sony Computer Entertainment Europe\", \"Square Enix\", \"TGL\", \"Takara Tomy\", \"Take-Two Interactive\", \"Tecmo Koei\", \"Telltale Games\", \"TopWare Interactive\", \"Tru Blu Entertainment\", \"Ubisoft\", \"Unknown\", \"Warner Bros. Interactive Entertainment\", \"WayForward Technologies\", \"Xseed Games\", \"Yacht Club Games\", \"dramatic create\", \"inXile Entertainment\", \"mixi, Inc\", \"505 Games\", \"5pb\", \"Activision\", \"Aksys Games\", \"Alternative Software\", \"Aqua Plus\", \"Astragon\", \"Atari\", \"Atlus\", \"Avanquest\", \"Bethesda Softworks\", \"Broccoli\", \"Capcom\", \"Codemasters\", \"Compile Heart\", \"D3Publisher\", \"Deep Silver\", \"Dusenberry Martin Racing\", \"Electronic Arts\", \"Epic Games\", \"Experience Inc.\", \"Focus Home Interactive\", \"FuRyu\", \"GungHo\", \"Happinet\", \"Hello Games\", \"Idea Factory\", \"Insomniac Games\", \"Introversion Software\", \"Kadokawa Games\", \"Koch Media\", \"Konami Digital Entertainment\", \"Level 5\", \"MLB.com\", \"Marvelous Entertainment\", \"Marvelous Interactive\", \"Microids\", \"Microsoft Game Studios\", \"Milestone S.r.l\", \"Milestone S.r.l.\", \"Namco Bandai Games\", \"Nihon Falcom Corporation\", \"Nintendo\", \"Nippon Columbia\", \"Nippon Ichi Software\", \"Nordic Games\", \"PQube\", \"Paradox Development\", \"Paradox Interactive\", \"Prototype\", \"Rising Star Games\", \"Rocket Company\", \"Screenlife\", \"Sega\", \"Sold Out\", \"Sony Computer Entertainment\", \"Square Enix\", \"Stainless Games\", \"Take-Two Interactive\", \"Tecmo Koei\", \"Telltale Games\", \"UIG Entertainment\", \"Ubisoft\", \"Unknown\", \"Warner Bros. Interactive Entertainment\", \"Yeti\", \"dramatic create\", \"Idea Factory\", \"Sega\"], \"type\": \"bar\", \"x\": [1980.0, 1981.0, 1982.0, 1983.0, 1984.0, 1985.0, 1986.0, 1987.0, 1988.0, 1989.0, 1990.0, 1991.0, 1992.0, 1993.0, 1994.0, 1995.0, 1996.0, 1997.0, 1998.0, 1999.0, 2000.0, 2001.0, 2002.0, 2003.0, 2004.0, 2005.0, 2006.0, 2007.0, 2008.0, 2009.0, 2010.0, 2011.0, 2012.0, 2013.0, 2014.0, 2015.0, 2016.0, 2017.0], \"y\": [8.35, 110000008.30999999, 19.43, 10.959999999999999, 45.550000000000004, 460049.49, 16.169999999999998, 11.95, 190000036.25000003, 60000000.0, 20003.899999999998, 160000000.22, 38.13, 20.04, 260830006.44000003, 340110006.78000003, 470000014.36, 1020000000.07, 4103120040.0799994, 2570000033.6700006, 2780000003.7799997, 480330000.2, 1210060071.0, 2930000034.5299997, 210030005.23, 490030126.85, 960000009.0400001, 2150010008.1900005, 680360082.9599999, 620000023.22, 280400080.09000015, 2180980069.0499997, 2560000034.719999, 2790000040.6500006, 661530042.2399999, 560000014.9399999, 30010000.529999997, 0.04]}],\n",
              "                        {\"bargap\": 0.2, \"bargroupgap\": 0.1, \"plot_bgcolor\": \"white\", \"template\": {\"data\": {\"bar\": [{\"error_x\": {\"color\": \"#2a3f5f\"}, \"error_y\": {\"color\": \"#2a3f5f\"}, \"marker\": {\"line\": {\"color\": \"#E5ECF6\", \"width\": 0.5}}, \"type\": \"bar\"}], \"barpolar\": [{\"marker\": {\"line\": {\"color\": \"#E5ECF6\", \"width\": 0.5}}, \"type\": \"barpolar\"}], \"carpet\": [{\"aaxis\": {\"endlinecolor\": \"#2a3f5f\", \"gridcolor\": \"white\", \"linecolor\": \"white\", \"minorgridcolor\": \"white\", \"startlinecolor\": \"#2a3f5f\"}, \"baxis\": {\"endlinecolor\": \"#2a3f5f\", \"gridcolor\": \"white\", \"linecolor\": \"white\", \"minorgridcolor\": \"white\", \"startlinecolor\": \"#2a3f5f\"}, \"type\": \"carpet\"}], \"choropleth\": [{\"colorbar\": {\"outlinewidth\": 0, \"ticks\": \"\"}, \"type\": \"choropleth\"}], \"contour\": [{\"colorbar\": {\"outlinewidth\": 0, \"ticks\": \"\"}, \"colorscale\": [[0.0, \"#0d0887\"], [0.1111111111111111, \"#46039f\"], [0.2222222222222222, \"#7201a8\"], [0.3333333333333333, \"#9c179e\"], [0.4444444444444444, \"#bd3786\"], [0.5555555555555556, \"#d8576b\"], [0.6666666666666666, \"#ed7953\"], [0.7777777777777778, \"#fb9f3a\"], [0.8888888888888888, \"#fdca26\"], [1.0, \"#f0f921\"]], \"type\": \"contour\"}], \"contourcarpet\": [{\"colorbar\": {\"outlinewidth\": 0, \"ticks\": \"\"}, \"type\": \"contourcarpet\"}], \"heatmap\": [{\"colorbar\": {\"outlinewidth\": 0, \"ticks\": \"\"}, \"colorscale\": [[0.0, \"#0d0887\"], [0.1111111111111111, \"#46039f\"], [0.2222222222222222, \"#7201a8\"], [0.3333333333333333, \"#9c179e\"], [0.4444444444444444, \"#bd3786\"], [0.5555555555555556, \"#d8576b\"], [0.6666666666666666, \"#ed7953\"], [0.7777777777777778, \"#fb9f3a\"], [0.8888888888888888, \"#fdca26\"], [1.0, \"#f0f921\"]], \"type\": \"heatmap\"}], \"heatmapgl\": [{\"colorbar\": {\"outlinewidth\": 0, \"ticks\": \"\"}, \"colorscale\": [[0.0, \"#0d0887\"], [0.1111111111111111, \"#46039f\"], [0.2222222222222222, \"#7201a8\"], [0.3333333333333333, \"#9c179e\"], [0.4444444444444444, \"#bd3786\"], [0.5555555555555556, \"#d8576b\"], [0.6666666666666666, \"#ed7953\"], [0.7777777777777778, \"#fb9f3a\"], [0.8888888888888888, \"#fdca26\"], [1.0, \"#f0f921\"]], \"type\": \"heatmapgl\"}], \"histogram\": [{\"marker\": {\"colorbar\": {\"outlinewidth\": 0, \"ticks\": \"\"}}, \"type\": \"histogram\"}], \"histogram2d\": [{\"colorbar\": {\"outlinewidth\": 0, \"ticks\": \"\"}, \"colorscale\": [[0.0, \"#0d0887\"], [0.1111111111111111, \"#46039f\"], [0.2222222222222222, \"#7201a8\"], [0.3333333333333333, \"#9c179e\"], [0.4444444444444444, \"#bd3786\"], [0.5555555555555556, \"#d8576b\"], [0.6666666666666666, \"#ed7953\"], [0.7777777777777778, \"#fb9f3a\"], [0.8888888888888888, \"#fdca26\"], [1.0, \"#f0f921\"]], \"type\": \"histogram2d\"}], \"histogram2dcontour\": [{\"colorbar\": {\"outlinewidth\": 0, \"ticks\": \"\"}, \"colorscale\": [[0.0, \"#0d0887\"], [0.1111111111111111, \"#46039f\"], [0.2222222222222222, \"#7201a8\"], [0.3333333333333333, \"#9c179e\"], [0.4444444444444444, \"#bd3786\"], [0.5555555555555556, \"#d8576b\"], [0.6666666666666666, \"#ed7953\"], [0.7777777777777778, \"#fb9f3a\"], [0.8888888888888888, \"#fdca26\"], [1.0, \"#f0f921\"]], \"type\": \"histogram2dcontour\"}], \"mesh3d\": [{\"colorbar\": {\"outlinewidth\": 0, \"ticks\": \"\"}, \"type\": \"mesh3d\"}], \"parcoords\": [{\"line\": {\"colorbar\": {\"outlinewidth\": 0, \"ticks\": \"\"}}, \"type\": \"parcoords\"}], \"pie\": [{\"automargin\": true, \"type\": \"pie\"}], \"scatter\": [{\"marker\": {\"colorbar\": {\"outlinewidth\": 0, \"ticks\": \"\"}}, \"type\": \"scatter\"}], \"scatter3d\": [{\"line\": {\"colorbar\": {\"outlinewidth\": 0, \"ticks\": \"\"}}, \"marker\": {\"colorbar\": {\"outlinewidth\": 0, \"ticks\": \"\"}}, \"type\": \"scatter3d\"}], \"scattercarpet\": [{\"marker\": {\"colorbar\": {\"outlinewidth\": 0, \"ticks\": \"\"}}, \"type\": \"scattercarpet\"}], \"scattergeo\": [{\"marker\": {\"colorbar\": {\"outlinewidth\": 0, \"ticks\": \"\"}}, \"type\": \"scattergeo\"}], \"scattergl\": [{\"marker\": {\"colorbar\": {\"outlinewidth\": 0, \"ticks\": \"\"}}, \"type\": \"scattergl\"}], \"scattermapbox\": [{\"marker\": {\"colorbar\": {\"outlinewidth\": 0, \"ticks\": \"\"}}, \"type\": \"scattermapbox\"}], \"scatterpolar\": [{\"marker\": {\"colorbar\": {\"outlinewidth\": 0, \"ticks\": \"\"}}, \"type\": \"scatterpolar\"}], \"scatterpolargl\": [{\"marker\": {\"colorbar\": {\"outlinewidth\": 0, \"ticks\": \"\"}}, \"type\": \"scatterpolargl\"}], \"scatterternary\": [{\"marker\": {\"colorbar\": {\"outlinewidth\": 0, \"ticks\": \"\"}}, \"type\": \"scatterternary\"}], \"surface\": [{\"colorbar\": {\"outlinewidth\": 0, \"ticks\": \"\"}, \"colorscale\": [[0.0, \"#0d0887\"], [0.1111111111111111, \"#46039f\"], [0.2222222222222222, \"#7201a8\"], [0.3333333333333333, \"#9c179e\"], [0.4444444444444444, \"#bd3786\"], [0.5555555555555556, \"#d8576b\"], [0.6666666666666666, \"#ed7953\"], [0.7777777777777778, \"#fb9f3a\"], [0.8888888888888888, \"#fdca26\"], [1.0, \"#f0f921\"]], \"type\": \"surface\"}], \"table\": [{\"cells\": {\"fill\": {\"color\": \"#EBF0F8\"}, \"line\": {\"color\": \"white\"}}, \"header\": {\"fill\": {\"color\": \"#C8D4E3\"}, \"line\": {\"color\": \"white\"}}, \"type\": \"table\"}]}, \"layout\": {\"annotationdefaults\": {\"arrowcolor\": \"#2a3f5f\", \"arrowhead\": 0, \"arrowwidth\": 1}, \"coloraxis\": {\"colorbar\": {\"outlinewidth\": 0, \"ticks\": \"\"}}, \"colorscale\": {\"diverging\": [[0, \"#8e0152\"], [0.1, \"#c51b7d\"], [0.2, \"#de77ae\"], [0.3, \"#f1b6da\"], [0.4, \"#fde0ef\"], [0.5, \"#f7f7f7\"], [0.6, \"#e6f5d0\"], [0.7, \"#b8e186\"], [0.8, \"#7fbc41\"], [0.9, \"#4d9221\"], [1, \"#276419\"]], \"sequential\": [[0.0, \"#0d0887\"], [0.1111111111111111, \"#46039f\"], [0.2222222222222222, \"#7201a8\"], [0.3333333333333333, \"#9c179e\"], [0.4444444444444444, \"#bd3786\"], [0.5555555555555556, \"#d8576b\"], [0.6666666666666666, \"#ed7953\"], [0.7777777777777778, \"#fb9f3a\"], [0.8888888888888888, \"#fdca26\"], [1.0, \"#f0f921\"]], \"sequentialminus\": [[0.0, \"#0d0887\"], [0.1111111111111111, \"#46039f\"], [0.2222222222222222, \"#7201a8\"], [0.3333333333333333, \"#9c179e\"], [0.4444444444444444, \"#bd3786\"], [0.5555555555555556, \"#d8576b\"], [0.6666666666666666, \"#ed7953\"], [0.7777777777777778, \"#fb9f3a\"], [0.8888888888888888, \"#fdca26\"], [1.0, \"#f0f921\"]]}, \"colorway\": [\"#636efa\", \"#EF553B\", \"#00cc96\", \"#ab63fa\", \"#FFA15A\", \"#19d3f3\", \"#FF6692\", \"#B6E880\", \"#FF97FF\", \"#FECB52\"], \"font\": {\"color\": \"#2a3f5f\"}, \"geo\": {\"bgcolor\": \"white\", \"lakecolor\": \"white\", \"landcolor\": \"#E5ECF6\", \"showlakes\": true, \"showland\": true, \"subunitcolor\": \"white\"}, \"hoverlabel\": {\"align\": \"left\"}, \"hovermode\": \"closest\", \"mapbox\": {\"style\": \"light\"}, \"paper_bgcolor\": \"white\", \"plot_bgcolor\": \"#E5ECF6\", \"polar\": {\"angularaxis\": {\"gridcolor\": \"white\", \"linecolor\": \"white\", \"ticks\": \"\"}, \"bgcolor\": \"#E5ECF6\", \"radialaxis\": {\"gridcolor\": \"white\", \"linecolor\": \"white\", \"ticks\": \"\"}}, \"scene\": {\"xaxis\": {\"backgroundcolor\": \"#E5ECF6\", \"gridcolor\": \"white\", \"gridwidth\": 2, \"linecolor\": \"white\", \"showbackground\": true, \"ticks\": \"\", \"zerolinecolor\": \"white\"}, \"yaxis\": {\"backgroundcolor\": \"#E5ECF6\", \"gridcolor\": \"white\", \"gridwidth\": 2, \"linecolor\": \"white\", \"showbackground\": true, \"ticks\": \"\", \"zerolinecolor\": \"white\"}, \"zaxis\": {\"backgroundcolor\": \"#E5ECF6\", \"gridcolor\": \"white\", \"gridwidth\": 2, \"linecolor\": \"white\", \"showbackground\": true, \"ticks\": \"\", \"zerolinecolor\": \"white\"}}, \"shapedefaults\": {\"line\": {\"color\": \"#2a3f5f\"}}, \"ternary\": {\"aaxis\": {\"gridcolor\": \"white\", \"linecolor\": \"white\", \"ticks\": \"\"}, \"baxis\": {\"gridcolor\": \"white\", \"linecolor\": \"white\", \"ticks\": \"\"}, \"bgcolor\": \"#E5ECF6\", \"caxis\": {\"gridcolor\": \"white\", \"linecolor\": \"white\", \"ticks\": \"\"}}, \"title\": {\"x\": 0.05}, \"xaxis\": {\"automargin\": true, \"gridcolor\": \"white\", \"linecolor\": \"white\", \"ticks\": \"\", \"title\": {\"standoff\": 15}, \"zerolinecolor\": \"white\", \"zerolinewidth\": 2}, \"yaxis\": {\"automargin\": true, \"gridcolor\": \"white\", \"linecolor\": \"white\", \"ticks\": \"\", \"title\": {\"standoff\": 15}, \"zerolinecolor\": \"white\", \"zerolinewidth\": 2}}}, \"title\": {\"text\": \"Bestselling Publiser of the Year\"}, \"xaxis\": {\"tickangle\": -90, \"tickfont\": {\"size\": 11}, \"ticklen\": 8, \"tickmode\": \"linear\", \"tickwidth\": 5, \"title\": {\"text\": \"Year\"}, \"zeroline\": false}, \"yaxis\": {\"dtick\": 25, \"tick0\": 0, \"title\": {\"text\": \"All Sales\"}}},\n",
              "                        {\"responsive\": true}\n",
              "                    ).then(function(){\n",
              "                            \n",
              "var gd = document.getElementById('5a63d54d-5c7d-4c37-8797-95e42a009452');\n",
              "var x = new MutationObserver(function (mutations, observer) {{\n",
              "        var display = window.getComputedStyle(gd).display;\n",
              "        if (!display || display === 'none') {{\n",
              "            console.log([gd, 'removed!']);\n",
              "            Plotly.purge(gd);\n",
              "            observer.disconnect();\n",
              "        }}\n",
              "}});\n",
              "\n",
              "// Listen for the removal of the full notebook cells\n",
              "var notebookContainer = gd.closest('#notebook-container');\n",
              "if (notebookContainer) {{\n",
              "    x.observe(notebookContainer, {childList: true});\n",
              "}}\n",
              "\n",
              "// Listen for the clearing of the current output cell\n",
              "var outputEl = gd.closest('.output');\n",
              "if (outputEl) {{\n",
              "    x.observe(outputEl, {childList: true});\n",
              "}}\n",
              "\n",
              "                        })\n",
              "                };\n",
              "                \n",
              "            </script>\n",
              "        </div>\n",
              "</body>\n",
              "</html>"
            ]
          },
          "metadata": {
            "tags": []
          }
        }
      ]
    },
    {
      "cell_type": "markdown",
      "metadata": {
        "id": "vt8VSjGaiBLq"
      },
      "source": [
        "#### 닌텐도사의 N64게임 젤다의 전설의 판매랑이 북미 지역에서 가장 높았고, 유럽연합에선 유비소프트사의 PS3 게임 어세신스 크리드가 가장 높은 판매량을 기록했다. 일본에선 스퀘어소프트사의 파이널판타지가, 기타 지역에선 남코반다의 더 위처3 PS4 게임이 가장 높은 판매량을 나타냈다."
      ]
    },
    {
      "cell_type": "markdown",
      "metadata": {
        "id": "9GGF_MjDHYpY"
      },
      "source": [
        "##10년 주기로 게임 비교"
      ]
    },
    {
      "cell_type": "code",
      "metadata": {
        "id": "-9DOoUJJGlwq"
      },
      "source": [
        "df19=df2[df2['Year']<=2000]\r\n",
        "df20=df2[(df2['Year']>2000) & (df2['Year']<=2010)]\r\n",
        "df21=df2[df2['Year']>2010]"
      ],
      "execution_count": 34,
      "outputs": []
    },
    {
      "cell_type": "code",
      "metadata": {
        "colab": {
          "base_uri": "https://localhost:8080/",
          "height": 195
        },
        "id": "H9zO34R7HrJe",
        "outputId": "1b029a7b-fc5d-4651-9b01-f8eb22059506"
      },
      "source": [
        "index = ['NA', 'EU', 'JP', 'Other Country', 'All']\r\n",
        " \r\n",
        "newdf=pd.DataFrame({'1990':[df19['NA_Sales'].sum(), # 2000년대 이전의 게임들\r\n",
        "                                      df19['EU_Sales'].sum(),\r\n",
        "                                      df19['JP_Sales'].sum(),\r\n",
        "                                      df19['Other_Sales'].sum(),\r\n",
        "                                      df19['All_Sales'].sum()],\r\n",
        "                      '2010':[df20['NA_Sales'].sum(), #2001년부터 2010년 사이의 게임\r\n",
        "                                      df20['EU_Sales'].sum(),\r\n",
        "                                      df20['JP_Sales'].sum(),\r\n",
        "                              df20['Other_Sales'].sum(),\r\n",
        "                              df20['All_Sales'].sum()],\r\n",
        "                    '2020':[df21['NA_Sales'].sum(), #2011년 이후의 게임\r\n",
        "                                      df21['EU_Sales'].sum(),\r\n",
        "                                      df21['JP_Sales'].sum(),\r\n",
        "                                      df21['Other_Sales'].sum(),\r\n",
        "                                      df21['All_Sales'].sum()]},index=index)\r\n",
        "\r\n",
        "newdf"
      ],
      "execution_count": 35,
      "outputs": [
        {
          "output_type": "execute_result",
          "data": {
            "text/html": [
              "<div>\n",
              "<style scoped>\n",
              "    .dataframe tbody tr th:only-of-type {\n",
              "        vertical-align: middle;\n",
              "    }\n",
              "\n",
              "    .dataframe tbody tr th {\n",
              "        vertical-align: top;\n",
              "    }\n",
              "\n",
              "    .dataframe thead th {\n",
              "        text-align: right;\n",
              "    }\n",
              "</style>\n",
              "<table border=\"1\" class=\"dataframe\">\n",
              "  <thead>\n",
              "    <tr style=\"text-align: right;\">\n",
              "      <th></th>\n",
              "      <th>1990</th>\n",
              "      <th>2010</th>\n",
              "      <th>2020</th>\n",
              "    </tr>\n",
              "  </thead>\n",
              "  <tbody>\n",
              "    <tr>\n",
              "      <th>NA</th>\n",
              "      <td>9.496461e+09</td>\n",
              "      <td>1.434092e+10</td>\n",
              "      <td>7.484621e+09</td>\n",
              "    </tr>\n",
              "    <tr>\n",
              "      <th>EU</th>\n",
              "      <td>1.773690e+09</td>\n",
              "      <td>6.129841e+09</td>\n",
              "      <td>7.255661e+09</td>\n",
              "    </tr>\n",
              "    <tr>\n",
              "      <th>JP</th>\n",
              "      <td>5.186941e+09</td>\n",
              "      <td>1.404991e+09</td>\n",
              "      <td>1.040410e+09</td>\n",
              "    </tr>\n",
              "    <tr>\n",
              "      <th>Other Country</th>\n",
              "      <td>3.704101e+08</td>\n",
              "      <td>2.012261e+09</td>\n",
              "      <td>1.390990e+09</td>\n",
              "    </tr>\n",
              "    <tr>\n",
              "      <th>All</th>\n",
              "      <td>1.682750e+10</td>\n",
              "      <td>2.388801e+10</td>\n",
              "      <td>1.717168e+10</td>\n",
              "    </tr>\n",
              "  </tbody>\n",
              "</table>\n",
              "</div>"
            ],
            "text/plain": [
              "                       1990          2010          2020\n",
              "NA             9.496461e+09  1.434092e+10  7.484621e+09\n",
              "EU             1.773690e+09  6.129841e+09  7.255661e+09\n",
              "JP             5.186941e+09  1.404991e+09  1.040410e+09\n",
              "Other Country  3.704101e+08  2.012261e+09  1.390990e+09\n",
              "All            1.682750e+10  2.388801e+10  1.717168e+10"
            ]
          },
          "metadata": {
            "tags": []
          },
          "execution_count": 35
        }
      ]
    },
    {
      "cell_type": "code",
      "metadata": {
        "colab": {
          "base_uri": "https://localhost:8080/",
          "height": 516
        },
        "id": "jKisr7SpI1JK",
        "outputId": "44748f28-6c4b-4859-bf40-b0fbaf73630d"
      },
      "source": [
        "sns.set_style(\"white\")\r\n",
        "\r\n",
        "newdf.plot(kind='bar',figsize=(12,8),color=['#EE5A24','#009432', '#FFC312'])\r\n",
        "plt.xticks(rotation=0)\r\n",
        "plt.title('Sales Century',fontdict={'fontsize':12.5})\r\n",
        "plt.xlabel('Country',fontdict={'fontsize':12})\r\n",
        "plt.ylabel('Sales',fontdict={'fontsize':12});\r\n",
        "plt.show()"
      ],
      "execution_count": 36,
      "outputs": [
        {
          "output_type": "display_data",
          "data": {
            "image/png": "[encoded data removed]",
            "text/plain": [
              "<Figure size 864x576 with 1 Axes>"
            ]
          },
          "metadata": {
            "tags": []
          }
        }
      ]
    },
    {
      "cell_type": "markdown",
      "metadata": {
        "id": "M64C5h6GvhQq"
      },
      "source": [
        "####최근 10년간 가장 인기있는 장르"
      ]
    },
    {
      "cell_type": "code",
      "metadata": {
        "colab": {
          "base_uri": "https://localhost:8080/",
          "height": 977
        },
        "id": "SXiYnhtUu2uy",
        "outputId": "69d889f1-1c1c-4c47-da55-49b8528338a9"
      },
      "source": [
        "fig=plt.figure(figsize=(10,15))\r\n",
        "plt.subplots_adjust(left=None, wspace=0.20, hspace=0.95)\r\n",
        "sns.set_style(\"white\")\r\n",
        "\r\n",
        "plt.title('Best Game Genre in 10 years',fontdict={'fontsize':16})\r\n",
        "sns.set_style(\"white\")\r\n",
        "plt.xticks(fontsize=14)\r\n",
        "plt.yticks(fontsize=14)\r\n",
        "plt.xticks(rotation=90)\r\n",
        "sns.barplot(x=df21.Genre.value_counts().index, y=df21.Genre.value_counts(),palette='spring');\r\n",
        "plt.xlabel('Genre',fontdict={'fontsize':16})\r\n",
        "plt.ylabel('Games',fontdict={'fontsize':16});"
      ],
      "execution_count": 37,
      "outputs": [
        {
          "output_type": "display_data",
          "data": {
            "image/png": "[encoded data removed]",
            "text/plain": [
              "<Figure size 720x1080 with 1 Axes>"
            ]
          },
          "metadata": {
            "tags": []
          }
        }
      ]
    },
    {
      "cell_type": "code",
      "metadata": {
        "colab": {
          "base_uri": "https://localhost:8080/",
          "height": 926
        },
        "id": "X0Fq8exkv5Xy",
        "outputId": "68c2467b-f0f2-41c0-8257-28fa7cc12e5a"
      },
      "source": [
        "fig=plt.figure(figsize=(10,15))\r\n",
        "plt.subplots_adjust(left=None, wspace=0.20, hspace=0.30)\r\n",
        "sns.set_style(\"white\")\r\n",
        "\r\n",
        "sns.set_style(\"white\")\r\n",
        "plt.xticks(fontsize=14)\r\n",
        "plt.yticks(fontsize=14)\r\n",
        "plt.title('Best Game Platforms in 10 years',fontdict={'fontsize':16})\r\n",
        "plt.xticks(rotation=90)\r\n",
        "sns.barplot(x=df20.Platform.value_counts().index, y=df20.Platform.value_counts(),palette='summer');\r\n",
        "plt.xlabel('Platform',fontdict={'fontsize':16})\r\n",
        "plt.ylabel('Games',fontdict={'fontsize':16});"
      ],
      "execution_count": 38,
      "outputs": [
        {
          "output_type": "display_data",
          "data": {
            "image/png": "[encoded data removed]",
            "text/plain": [
              "<Figure size 720x1080 with 1 Axes>"
            ]
          },
          "metadata": {
            "tags": []
          }
        }
      ]
    },
    {
      "cell_type": "markdown",
      "metadata": {
        "id": "u8G3Mh0Emr3b"
      },
      "source": [
        "## 생각해 볼 부분 (바이어스가 나타날 수 있음)"
      ]
    },
    {
      "cell_type": "markdown",
      "metadata": {
        "id": "BrdwlPt5OkIF"
      },
      "source": [
        "#### 지역별 판매랑 추이"
      ]
    },
    {
      "cell_type": "code",
      "metadata": {
        "colab": {
          "base_uri": "https://localhost:8080/",
          "height": 591
        },
        "id": "IxQkDioBK9jo",
        "outputId": "5d13654b-9f58-4d17-bb10-572905e74e73"
      },
      "source": [
        "Total_Sales = df2.All_Sales.sum()\r\n",
        "NA_Sales_percent = (df2.NA_Sales.sum()*100)/Total_Sales\r\n",
        "EU_Sales_percent = (df2.EU_Sales.sum()*100)/Total_Sales\r\n",
        "JP_Sales_percent = (df2.JP_Sales.sum()*100)/Total_Sales\r\n",
        "Other_Sales_percent = (df2.Other_Sales.sum()*100)/Total_Sales\r\n",
        "\r\n",
        "plt.figure(figsize=(15,10))\r\n",
        "plt.pie([NA_Sales_percent, EU_Sales_percent, JP_Sales_percent, Other_Sales_percent], labels=['NA', 'EU', 'JP', 'Other'], autopct='%1.0f%%', pctdistance=1.1, labeldistance=1.2)\r\n",
        "plt.title('Game Sales per Region')\r\n",
        "plt.ylabel(' ')\r\n",
        "plt.show()"
      ],
      "execution_count": 39,
      "outputs": [
        {
          "output_type": "display_data",
          "data": {
            "image/png": "[encoded data removed]",
            "text/plain": [
              "<Figure size 1080x720 with 1 Axes>"
            ]
          },
          "metadata": {
            "tags": []
          }
        }
      ]
    },
    {
      "cell_type": "code",
      "metadata": {
        "colab": {
          "base_uri": "https://localhost:8080/"
        },
        "id": "io8qO9l6cgJq",
        "outputId": "68fd73a1-dbc5-47bb-83da-3e9ce83da622"
      },
      "source": [
        "df2.groupby('NA_Sales').size() #484"
      ],
      "execution_count": 40,
      "outputs": [
        {
          "output_type": "execute_result",
          "data": {
            "text/plain": [
              "NA_Sales\n",
              "0.000000e+00    4388\n",
              "1.000000e-02     507\n",
              "2.000000e-02     521\n",
              "3.000000e-02     516\n",
              "4.000000e-02     510\n",
              "                ... \n",
              "1.780000e+09       1\n",
              "2.010000e+09       1\n",
              "2.570000e+09       1\n",
              "2.930000e+09       1\n",
              "4.100000e+09       1\n",
              "Length: 484, dtype: int64"
            ]
          },
          "metadata": {
            "tags": []
          },
          "execution_count": 40
        }
      ]
    },
    {
      "cell_type": "code",
      "metadata": {
        "colab": {
          "base_uri": "https://localhost:8080/"
        },
        "id": "w7duJJ5qc9ZT",
        "outputId": "d2ec8699-28eb-49a0-cbc9-bce3b228978f"
      },
      "source": [
        "df2.groupby('EU_Sales').size() #356"
      ],
      "execution_count": 41,
      "outputs": [
        {
          "output_type": "execute_result",
          "data": {
            "text/plain": [
              "EU_Sales\n",
              "0.000000e+00    5564\n",
              "1.000000e-02    1434\n",
              "2.000000e-02    1225\n",
              "3.000000e-02     897\n",
              "4.000000e-02     716\n",
              "                ... \n",
              "7.600000e+08       1\n",
              "9.600000e+08       1\n",
              "1.350000e+09       1\n",
              "2.130000e+09       1\n",
              "2.560000e+09       1\n",
              "Length: 356, dtype: int64"
            ]
          },
          "metadata": {
            "tags": []
          },
          "execution_count": 41
        }
      ]
    },
    {
      "cell_type": "code",
      "metadata": {
        "colab": {
          "base_uri": "https://localhost:8080/"
        },
        "id": "hKaplRvmdAMu",
        "outputId": "a9088054-a111-46c4-ce59-1b9595342345"
      },
      "source": [
        "df2.groupby('JP_Sales').size() #276"
      ],
      "execution_count": 42,
      "outputs": [
        {
          "output_type": "execute_result",
          "data": {
            "text/plain": [
              "JP_Sales\n",
              "0.000000e+00    10113\n",
              "1.000000e-02      680\n",
              "2.000000e-02      699\n",
              "3.000000e-02      514\n",
              "4.000000e-02      386\n",
              "                ...  \n",
              "2.600000e+08        1\n",
              "3.300000e+08        1\n",
              "4.700000e+08        1\n",
              "1.020000e+09        1\n",
              "2.780000e+09        1\n",
              "Length: 276, dtype: int64"
            ]
          },
          "metadata": {
            "tags": []
          },
          "execution_count": 42
        }
      ]
    },
    {
      "cell_type": "code",
      "metadata": {
        "colab": {
          "base_uri": "https://localhost:8080/"
        },
        "id": "kCOmC_opdDxw",
        "outputId": "fbfb649d-43fd-4db4-ee0e-891a6a6a57c6"
      },
      "source": [
        "df2.groupby('Other_Sales').size() #186"
      ],
      "execution_count": 43,
      "outputs": [
        {
          "output_type": "execute_result",
          "data": {
            "text/plain": [
              "Other_Sales\n",
              "0.000000e+00    6272\n",
              "1.000000e-02    3315\n",
              "2.000000e-02    1532\n",
              "3.000000e-02     898\n",
              "4.000000e-02     647\n",
              "                ... \n",
              "2.300000e+08       1\n",
              "2.700000e+08       2\n",
              "3.100000e+08       1\n",
              "3.400000e+08       1\n",
              "5.600000e+08       1\n",
              "Length: 186, dtype: int64"
            ]
          },
          "metadata": {
            "tags": []
          },
          "execution_count": 43
        }
      ]
    }
  ]
}